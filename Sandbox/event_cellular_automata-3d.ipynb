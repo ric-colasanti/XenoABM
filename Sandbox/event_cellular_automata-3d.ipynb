{
 "cells": [
  {
   "cell_type": "code",
   "execution_count": 218,
   "id": "de3a80e0",
   "metadata": {},
   "outputs": [
    {
     "data": {
      "text/html": [
       "<style>.container { width:100% !important; }</style>"
      ],
      "text/plain": [
       "<IPython.core.display.HTML object>"
      ]
     },
     "metadata": {},
     "output_type": "display_data"
    }
   ],
   "source": [
    "from IPython.display import display, HTML\n",
    "display(HTML(\"<style>.container { width:100% !important; }</style>\"))"
   ]
  },
  {
   "cell_type": "code",
   "execution_count": 219,
   "id": "40caadda",
   "metadata": {
    "id": "40caadda"
   },
   "outputs": [],
   "source": [
    "from sortedcontainers import SortedList\n",
    "from random import random\n",
    "import matplotlib.pyplot as plt\n",
    "from matplotlib import colors\n",
    "from math import pow\n",
    "import plotly.express as px\n",
    "import time\n",
    "import pandas as pd\n",
    "from IPython.display import display, clear_output"
   ]
  },
  {
   "cell_type": "code",
   "execution_count": 220,
   "id": "c6100e88",
   "metadata": {
    "id": "c6100e88"
   },
   "outputs": [],
   "source": [
    "def grow(t,x,y,z,event_stack,beta):\n",
    "    \n",
    "    def add_event(x1,y1,z1):\n",
    "        event_stack.add([t+pow(space[x1][y1][z1],beta),x1,y1,z1])\n",
    "    \n",
    "    \n",
    "    # stop when edge reached\n",
    "    if colonies[x][y][z]==-1:\n",
    "        return False\n",
    "    if colonies[x][y][z]==0:\n",
    "        # if empty set to colinised\n",
    "        colonies[x][y][z]=1\n",
    "        # and add growth into the cordinates of the neighbours at a random time into the event loop \n",
    "        add_event(x+1,y,z)\n",
    "        add_event(x-1,y,z)\n",
    "        add_event(x,y+1,z)\n",
    "        add_event(x,y-1,z)\n",
    "        add_event(x,y,z+1)\n",
    "        add_event(x,y,z-1)\n",
    "\n",
    "    return True\n",
    "        "
   ]
  },
  {
   "cell_type": "code",
   "execution_count": 221,
   "id": "15990a3b",
   "metadata": {},
   "outputs": [],
   "source": [
    "def bounds(coord,size):\n",
    "    for c in coord:\n",
    "        if c==0:\n",
    "            return -1\n",
    "        if c== size-1:\n",
    "            return -1\n",
    "    return 0\n",
    "    "
   ]
  },
  {
   "cell_type": "code",
   "execution_count": 222,
   "id": "6bc4ced5",
   "metadata": {
    "id": "6bc4ced5"
   },
   "outputs": [],
   "source": [
    "size=200\n",
    "beta =5\n",
    "event_stack=SortedList([])\n",
    "colonies=[]\n",
    "space=[]\n",
    "for x in range(size):\n",
    "    colonies.append([])\n",
    "    space.append([])\n",
    "    for y in range(size):\n",
    "        colonies[x].append([])\n",
    "        space[x].append([])\n",
    "        for z in range(size):\n",
    "            v = bounds([x,y,z],size)\n",
    "            colonies[x][y].append(v)\n",
    "            space[x][y].append(random())\n",
    "            \n",
    "_=grow(0,size//2,size//2,size//2,event_stack,beta)"
   ]
  },
  {
   "cell_type": "code",
   "execution_count": 223,
   "id": "98f39a9d",
   "metadata": {
    "colab": {
     "base_uri": "https://localhost:8080/"
    },
    "id": "98f39a9d",
    "outputId": "635e1011-1425-47bb-8f25-909fc2eedb2b"
   },
   "outputs": [
    {
     "name": "stdout",
     "output_type": "stream",
     "text": [
      "\n"
     ]
    },
    {
     "ename": "KeyboardInterrupt",
     "evalue": "",
     "output_type": "error",
     "traceback": [
      "\u001b[0;31m---------------------------------------------------------------------------\u001b[0m",
      "\u001b[0;31mKeyboardInterrupt\u001b[0m                         Traceback (most recent call last)",
      "Cell \u001b[0;32mIn[223], line 9\u001b[0m\n\u001b[1;32m      6\u001b[0m \u001b[38;5;28;01mwhile\u001b[39;00m(flag):\n\u001b[1;32m      7\u001b[0m     \u001b[38;5;66;03m# get soonest  event from stack ( stack is self sorting by event time)\u001b[39;00m\n\u001b[1;32m      8\u001b[0m     e \u001b[38;5;241m=\u001b[39m event_stack\u001b[38;5;241m.\u001b[39mpop(\u001b[38;5;241m0\u001b[39m) \n\u001b[0;32m----> 9\u001b[0m     flag \u001b[38;5;241m=\u001b[39m \u001b[43mgrow\u001b[49m\u001b[43m(\u001b[49m\u001b[43me\u001b[49m\u001b[43m[\u001b[49m\u001b[38;5;241;43m0\u001b[39;49m\u001b[43m]\u001b[49m\u001b[43m,\u001b[49m\u001b[43me\u001b[49m\u001b[43m[\u001b[49m\u001b[38;5;241;43m1\u001b[39;49m\u001b[43m]\u001b[49m\u001b[43m,\u001b[49m\u001b[43me\u001b[49m\u001b[43m[\u001b[49m\u001b[38;5;241;43m2\u001b[39;49m\u001b[43m]\u001b[49m\u001b[43m,\u001b[49m\u001b[43me\u001b[49m\u001b[43m[\u001b[49m\u001b[38;5;241;43m3\u001b[39;49m\u001b[43m]\u001b[49m\u001b[43m,\u001b[49m\u001b[43mevent_stack\u001b[49m\u001b[43m,\u001b[49m\u001b[43mbeta\u001b[49m\u001b[43m)\u001b[49m\n\u001b[1;32m     10\u001b[0m     t\u001b[38;5;241m=\u001b[39me[\u001b[38;5;241m0\u001b[39m]\n\u001b[1;32m     11\u001b[0m     iterations\u001b[38;5;241m+\u001b[39m\u001b[38;5;241m=\u001b[39m\u001b[38;5;241m1\u001b[39m\n",
      "Cell \u001b[0;32mIn[220], line 15\u001b[0m, in \u001b[0;36mgrow\u001b[0;34m(t, x, y, z, event_stack, beta)\u001b[0m\n\u001b[1;32m     13\u001b[0m \u001b[38;5;66;03m# and add growth into the cordinates of the neighbours at a random time into the event loop \u001b[39;00m\n\u001b[1;32m     14\u001b[0m add_event(x\u001b[38;5;241m+\u001b[39m\u001b[38;5;241m1\u001b[39m,y,z)\n\u001b[0;32m---> 15\u001b[0m \u001b[43madd_event\u001b[49m\u001b[43m(\u001b[49m\u001b[43mx\u001b[49m\u001b[38;5;241;43m-\u001b[39;49m\u001b[38;5;241;43m1\u001b[39;49m\u001b[43m,\u001b[49m\u001b[43my\u001b[49m\u001b[43m,\u001b[49m\u001b[43mz\u001b[49m\u001b[43m)\u001b[49m\n\u001b[1;32m     16\u001b[0m add_event(x,y\u001b[38;5;241m+\u001b[39m\u001b[38;5;241m1\u001b[39m,z)\n\u001b[1;32m     17\u001b[0m add_event(x,y\u001b[38;5;241m-\u001b[39m\u001b[38;5;241m1\u001b[39m,z)\n",
      "Cell \u001b[0;32mIn[220], line 4\u001b[0m, in \u001b[0;36mgrow.<locals>.add_event\u001b[0;34m(x1, y1, z1)\u001b[0m\n\u001b[1;32m      3\u001b[0m \u001b[38;5;28;01mdef\u001b[39;00m \u001b[38;5;21madd_event\u001b[39m(x1,y1,z1):\n\u001b[0;32m----> 4\u001b[0m     \u001b[43mevent_stack\u001b[49m\u001b[38;5;241;43m.\u001b[39;49m\u001b[43madd\u001b[49m\u001b[43m(\u001b[49m\u001b[43m[\u001b[49m\u001b[43mt\u001b[49m\u001b[38;5;241;43m+\u001b[39;49m\u001b[38;5;28;43mpow\u001b[39;49m\u001b[43m(\u001b[49m\u001b[43mspace\u001b[49m\u001b[43m[\u001b[49m\u001b[43mx1\u001b[49m\u001b[43m]\u001b[49m\u001b[43m[\u001b[49m\u001b[43my1\u001b[49m\u001b[43m]\u001b[49m\u001b[43m[\u001b[49m\u001b[43mz1\u001b[49m\u001b[43m]\u001b[49m\u001b[43m,\u001b[49m\u001b[43mbeta\u001b[49m\u001b[43m)\u001b[49m\u001b[43m,\u001b[49m\u001b[43mx1\u001b[49m\u001b[43m,\u001b[49m\u001b[43my1\u001b[49m\u001b[43m,\u001b[49m\u001b[43mz1\u001b[49m\u001b[43m]\u001b[49m\u001b[43m)\u001b[49m\n",
      "File \u001b[0;32m~/PyEnv/lib/python3.10/site-packages/sortedcontainers/sortedlist.py:279\u001b[0m, in \u001b[0;36mSortedList.add\u001b[0;34m(self, value)\u001b[0m\n\u001b[1;32m    277\u001b[0m         _maxes[pos] \u001b[38;5;241m=\u001b[39m value\n\u001b[1;32m    278\u001b[0m     \u001b[38;5;28;01melse\u001b[39;00m:\n\u001b[0;32m--> 279\u001b[0m         \u001b[43minsort\u001b[49m\u001b[43m(\u001b[49m\u001b[43m_lists\u001b[49m\u001b[43m[\u001b[49m\u001b[43mpos\u001b[49m\u001b[43m]\u001b[49m\u001b[43m,\u001b[49m\u001b[43m \u001b[49m\u001b[43mvalue\u001b[49m\u001b[43m)\u001b[49m\n\u001b[1;32m    281\u001b[0m     \u001b[38;5;28mself\u001b[39m\u001b[38;5;241m.\u001b[39m_expand(pos)\n\u001b[1;32m    282\u001b[0m \u001b[38;5;28;01melse\u001b[39;00m:\n",
      "\u001b[0;31mKeyboardInterrupt\u001b[0m: "
     ]
    }
   ],
   "source": [
    "start = time.time()\n",
    "t=0\n",
    "iterations=0\n",
    "flag = True\n",
    "print()\n",
    "while(flag):\n",
    "    # get soonest  event from stack ( stack is self sorting by event time)\n",
    "    e = event_stack.pop(0) \n",
    "    flag = grow(e[0],e[1],e[2],e[3],event_stack,beta)\n",
    "    t=e[0]\n",
    "    iterations+=1\n",
    "end = time.time()\n",
    "\n",
    "delta = end - start\n"
   ]
  },
  {
   "cell_type": "code",
   "execution_count": null,
   "id": "c1b8c0ee",
   "metadata": {
    "colab": {
     "base_uri": "https://localhost:8080/",
     "height": 268
    },
    "id": "c1b8c0ee",
    "outputId": "18de0237-1b9b-40fc-ce90-d85ae7f273ca",
    "scrolled": false
   },
   "outputs": [],
   "source": [
    "ccs=0\n",
    "star_map=[]\n",
    "for x in range(1,size-1):\n",
    "    for y in range(1,size-1):\n",
    "        for z in range(1,size-1):\n",
    "            if (c:=colonies[x][y][z])>0:\n",
    "                star_map.append([x+ 0.5-random(),y+ 0.5-random(),z+ 0.5-random()])\n",
    "            ccs+=c\n",
    "            \n",
    "\n",
    "df = pd.DataFrame(star_map, columns=['x','y','z'])\n",
    "\n",
    "fig = px.scatter_3d(df, x='x', y='y', z='z',title=\"Star map\",color_discrete_sequence=[\"goldenrod\"], width=800, height=800)\n",
    "fig.update_traces(hoverinfo=\"skip\",marker=dict(size=1.5,\n",
    "                              line=dict(width=0.5,\n",
    "                                        color='DarkSlateGrey')))\n",
    "   \n",
    "fig.update_layout(scene=dict(xaxis_showspikes=False,\n",
    "                             yaxis_showspikes=False,\n",
    "                             zaxis_showspikes=False,\n",
    "                             xaxis = dict(nticks=10, range=[0,size]),\n",
    "                             yaxis = dict(nticks=10, range=[0,size]),\n",
    "                             zaxis = dict(nticks=10, range=[0,size]),\n",
    "                             ))\n"
   ]
  },
  {
   "cell_type": "code",
   "execution_count": null,
   "id": "07647381",
   "metadata": {},
   "outputs": [],
   "source": [
    "print(f'{ccs} colonies when the edge of space reached in: {t:.3E}simulated time and {iterations} iterations and {delta:.3F} real seconds')"
   ]
  },
  {
   "cell_type": "code",
   "execution_count": null,
   "id": "26a4353d",
   "metadata": {},
   "outputs": [],
   "source": [
    "def queCount(area,size,x,y,z,n):\n",
    "\n",
    "                    \n",
    "    def check_validity(x2,y2,z2):\n",
    "        if area[x2][y2][z2]!=0:\n",
    "            return False \n",
    "        if [x2,y2,z2] in q:\n",
    "            return False\n",
    "        return True\n",
    "    \n",
    "    def append(x3,y3,z3):\n",
    "        q.append([x3,y3,z3])\n",
    "        \n",
    "    q=[[x,y,z]]\n",
    "    count =0\n",
    "    while (len(q)>0):\n",
    "        x1,y1,z1 = q.pop(0)\n",
    "        area[x1][y1][z1]=n\n",
    "        count+=1\n",
    "        if count %1000==0:\n",
    "            display(count/(size*size*size),len(q))\n",
    "            clear_output(wait = True)      \n",
    "        if check_validity(x1+1,y1,z1):\n",
    "            append(x1+1,y1,z1)\n",
    "        if check_validity(x1-1,y1,z1):\n",
    "            append(x1-1,y1,z1)\n",
    "        if check_validity(x1,y1+1,z1):\n",
    "            append(x1,y1+1,z1)\n",
    "        if check_validity(x1,y1-1,z1):\n",
    "            append(x1,y1-1,z1)\n",
    "        if check_validity(x1,y1,z1+1):\n",
    "            append(x1,y1,z1+1)\n",
    "        if check_validity(x1,y1,z1-1):\n",
    "            append(x1,y1,z1-1)\n",
    "    return count"
   ]
  },
  {
   "cell_type": "code",
   "execution_count": null,
   "id": "079bb99e",
   "metadata": {
    "scrolled": false
   },
   "outputs": [],
   "source": [
    "gaps={}\n",
    "mark=2\n",
    "for x in range(1,size-1):\n",
    "    for y in range(1,size-1):\n",
    "        for z in range(1,size-1):\n",
    "            if colonies[x][y][z]==0:\n",
    "                sz =queCount(colonies,size-1,x,y,z,mark)\n",
    "                if sz not in gaps:\n",
    "                    gaps[sz]=0\n",
    "                gaps[sz]+=1\n",
    "                mark+=1\n",
    "                display(sz,mark,x,y,z)\n",
    "                clear_output(wait = True)"
   ]
  },
  {
   "cell_type": "code",
   "execution_count": null,
   "id": "a40e6902",
   "metadata": {},
   "outputs": [],
   "source": [
    "star_map=[]\n",
    "for x in range(1,size-1):\n",
    "    for y in range(1,size-1):\n",
    "        for z in range(1,size-1):\n",
    "            if (c:=colonies[x][y][z])>2:\n",
    "                star_map.append([x+ 0.5-random(),y+ 0.5-random(),z+ 0.5-random()])\n",
    "            ccs+=c\n",
    "            \n",
    "\n",
    "df = pd.DataFrame(star_map, columns=['x','y','z'])\n",
    "\n",
    "fig = px.scatter_3d(df, x='x', y='y', z='z',title=\"Star map\", width=800, height=800)\n",
    "fig.update_traces(hoverinfo=\"skip\",marker=dict(size=1.5,\n",
    "                              line=dict(width=0.5,\n",
    "                                        color='DarkSlateGrey')))\n",
    "   \n",
    "fig.update_layout(scene=dict(xaxis_showspikes=False,\n",
    "                             yaxis_showspikes=False,\n",
    "                             zaxis_showspikes=False,\n",
    "                             xaxis = dict(nticks=10, range=[0,size]),\n",
    "                             yaxis = dict(nticks=10, range=[0,size]),\n",
    "                             zaxis = dict(nticks=10, range=[0,size]),\n",
    "                             ))\n"
   ]
  },
  {
   "cell_type": "code",
   "execution_count": null,
   "id": "ed3b76e3",
   "metadata": {},
   "outputs": [],
   "source": [
    "x=list(gaps.keys())\n",
    "y=list(gaps.values())\n",
    "fig, ax = plt.subplots()\n",
    "ax.scatter(x[1:],y[1:])\n",
    "ax.set_title('Count of void size number ')\n",
    "ax.set_xlabel(\"Void size ( number of 'cells' )\")\n",
    "ax.set_ylabel('Count')\n",
    "for spine in ['top', 'right']:\n",
    "    ax.spines[spine].set_visible(False)\n",
    "ax.set_xscale('log')\n",
    "ax.set_yscale('log')\n",
    "plt.show()"
   ]
  },
  {
   "cell_type": "code",
   "execution_count": null,
   "id": "9caf344c",
   "metadata": {},
   "outputs": [],
   "source": []
  }
 ],
 "metadata": {
  "colab": {
   "provenance": []
  },
  "kernelspec": {
   "display_name": "Python 3 (ipykernel)",
   "language": "python",
   "name": "python3"
  },
  "language_info": {
   "codemirror_mode": {
    "name": "ipython",
    "version": 3
   },
   "file_extension": ".py",
   "mimetype": "text/x-python",
   "name": "python",
   "nbconvert_exporter": "python",
   "pygments_lexer": "ipython3",
   "version": "3.10.6"
  }
 },
 "nbformat": 4,
 "nbformat_minor": 5
}
