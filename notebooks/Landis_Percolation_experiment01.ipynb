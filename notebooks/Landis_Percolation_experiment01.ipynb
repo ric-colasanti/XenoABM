{
  "cells": [
    {
      "cell_type": "markdown",
      "metadata": {
        "id": "view-in-github",
        "colab_type": "text"
      },
      "source": [
        "<a href=\"https://colab.research.google.com/github/ric-colasanti/XenoABM/blob/main/notebooks/Landis_Percolation_experiment01.ipynb\" target=\"_parent\"><img src=\"https://colab.research.google.com/assets/colab-badge.svg\" alt=\"Open In Colab\"/></a>"
      ]
    },
    {
      "cell_type": "code",
      "execution_count": null,
      "metadata": {
        "colab": {
          "base_uri": "https://localhost:8080/"
        },
        "id": "3Bxw47Bbuy2u",
        "outputId": "0b6b2ea4-bb4c-479d-aac5-ad1f57d453b0"
      },
      "outputs": [
        {
          "name": "stdout",
          "output_type": "stream",
          "text": [
            "8\n"
          ]
        }
      ],
      "source": [
        "import numpy as np\n",
        "import random as rnd\n",
        "import matplotlib.pyplot as plt\n",
        "from mpl_toolkits import mplot3d\n",
        "from IPython.display import display, clear_output\n",
        "# import ipywidgets.interact class, this class will represent a slide bar.\n",
        "from ipywidgets import interact\n",
        "from matplotlib.colors import LinearSegmentedColormap\n",
        "import plotly.express as px\n",
        "import plotly.graph_objects as go\n",
        "import pandas as pd\n",
        "import time\n",
        "\n",
        "from multiprocessing import Pool, Lock, cpu_count,Manager\n",
        "manager = Manager()\n",
        "results = manager.list()\n",
        "cpu = cpu_count()\n",
        "print(cpu)"
      ]
    },
    {
      "cell_type": "markdown",
      "metadata": {
        "id": "Pxrkf-qw4rle"
      },
      "source": [
        "From:\n",
        "\n",
        "[Landis, Geoffrey A. \"The Fermi paradox: an approach based on percolation theory.\" Journal of the british interplanetary society 51.5 (1998): 163-166](http://www.geoffreylandis.com/percolation.htp)\n",
        "\n",
        "\n",
        "Space is a 3D grid. each cell of the grid ( a sector) is linked to its 6 immediate Von Numan neighbours. Each sector can be in one of three states:\n",
        " \n",
        "1: Uncolonized\n",
        " \n",
        "2: Colonised by colonising colony\n",
        " \n",
        "3: Colonised by a non colonising colony\n",
        "\n",
        "Algorithm:\n",
        " \n",
        "Each colonising colony searches its 6 immediate sectors for an uncolonized sector. If one is found then it is colonised with a colonising colony with a probability of p and a a non colonising colony with a probability 1-p\n"
      ]
    },
    {
      "cell_type": "markdown",
      "metadata": {
        "id": "kxDa3Soh8czS"
      },
      "source": [
        "\n",
        "Sector class\n",
        "\n",
        "This is a unit of 3d space\n",
        "\n",
        "It contains a state and a link to its 6 imediate neighbours\n",
        "\n",
        "Attributes\n",
        "\n",
        "            colonized -> int\n",
        "\n",
        "            x_pos ->int\n",
        "\n",
        "            y_pos ->int\n",
        "\n",
        "            z_pos ->int\n",
        "\n",
        "            neighbours-> list of Space\n",
        "\n",
        "            capasity -> boolean # if there are no empty neighbours\n",
        "\n",
        "Methods\n",
        "\n",
        "            add_neighbour\n",
        "\n",
        "            colonize\n",
        "\n",
        "            get_pos -> x,y,z\n"
      ]
    },
    {
      "cell_type": "code",
      "execution_count": null,
      "metadata": {
        "id": "9SfGZGDF8y6K"
      },
      "outputs": [],
      "source": [
        "class Sector:\n",
        "    colinising = 0.5\n",
        "    def __init__(self,x_pos,y_pos,z_pos):\n",
        "        self.id = str(x_pos)+\":\"+str(y_pos)+\":\"+str(z_pos)\n",
        "        # give slight random stutter in xyz to produce a more 'realistic' plot\n",
        "        self.x_pos = x_pos + 0.5-rnd.random()\n",
        "        self.y_pos = y_pos + 0.5-rnd.random()\n",
        "        self.z_pos = z_pos + 0.5-rnd.random()\n",
        "        self.neighbours =[]\n",
        "        self.colonized=0\n",
        "        self.edge = True\n",
        "\n",
        "    def add_neighbour(self,sector):\n",
        "        self.neighbours.append(sector)\n",
        "\n",
        "    def colonize(self):\n",
        "        if len(self.neighbours)>0:\n",
        "            sector = rnd.choice(self.neighbours)\n",
        "            while sector.colonized>0 and len(self.neighbours)>0:\n",
        "                self.neighbours.remove(sector)\n",
        "                if len(self.neighbours)>0:\n",
        "                    sector = rnd.choice(self.neighbours)\n",
        "                else:\n",
        "                    return False\n",
        "            if rnd.random()<Sector.colinising:\n",
        "                sector.colonized=1\n",
        "            else:\n",
        "                sector.colonized=2\n",
        "            self.neighbours.remove(sector)\n",
        "            return sector\n",
        "        else:\n",
        "             return False\n",
        "\n",
        "    def get_pos(self):\n",
        "        c_type= \"un colonized\"\n",
        "        if self.colonized == 1:\n",
        "            c_type = \"spacefaring\"\n",
        "        if self.colonized == 2:\n",
        "            c_type = \"non-spacefaring\"    \n",
        "        return self.x_pos,self.y_pos,self.z_pos,c_type\n"
      ]
    },
    {
      "cell_type": "markdown",
      "metadata": {
        "id": "MRcK_zUS8qGU"
      },
      "source": [
        "Space class\n",
        "\n",
        "\n",
        "Attributes\n",
        "\n",
        "            size -> int\n",
        "            \n",
        "            colonies -> list of Space\n",
        "\n",
        "            space_faring -> list of Space\n",
        "\n",
        "            space_chart ->list of np lists (x,y,z,c)\n",
        "\n",
        "\n",
        "Methods\n",
        "\n",
        "            init_space\n",
        "\n",
        "            iterate\n",
        "\n",
        "            plot\n"
      ]
    },
    {
      "cell_type": "code",
      "execution_count": null,
      "metadata": {
        "id": "Fqo8byi_5AE0"
      },
      "outputs": [],
      "source": [
        "\n",
        "class Space:\n",
        "    def __init__(self,size) -> None:\n",
        "        def bounds(v):\n",
        "            if v>=size: \n",
        "                return False\n",
        "            if v<0:\n",
        "                return False\n",
        "            return True\n",
        "            \n",
        "        self.size = size\n",
        "        self.edge = False\n",
        "        # crate sectors and link in network\n",
        "        temp_space=[]\n",
        "        for x in range(size):\n",
        "            temp_space.append([])\n",
        "            for y in range(size):\n",
        "                temp_space[x].append([])\n",
        "                for z in range(size):\n",
        "                    temp_space[x][y].append(Sector(x,y,z))\n",
        "        for x in range(1,size-1):\n",
        "            for y in range(1,size-1):\n",
        "                for z in range(1,size-1):\n",
        "                    temp_space[x][y][z].edge = False\n",
        "                    temp_space[x][y][z].add_neighbour(temp_space[x-1][y][z]) \n",
        "                    temp_space[x][y][z].add_neighbour(temp_space[x+1][y][z]) \n",
        "                    temp_space[x][y][z].add_neighbour(temp_space[x][y-1][z]) \n",
        "                    temp_space[x][y][z].add_neighbour(temp_space[x][y+1][z]) \n",
        "                    temp_space[x][y][z].add_neighbour(temp_space[x][y][z-1]) \n",
        "                    temp_space[x][y][z].add_neighbour(temp_space[x][y][z+1]) \n",
        "        \n",
        "        home_world = temp_space[x//2][y//2][z//2] \n",
        "        home_world.colonized=1\n",
        "        self.colonies = [home_world]\n",
        "        self.space_faring = [home_world]\n",
        "        x,y,z,c = home_world.get_pos()\n",
        "        self.star_map = []\n",
        "        self.star_map.append([x,y,z,c])\n",
        "\n",
        "    def iterate(self):\n",
        "        \n",
        "        new_worlds = []\n",
        "        settled = []\n",
        "\n",
        "        for c in self.space_faring:\n",
        "            new_world = c.colonize()\n",
        "            if new_world != False:\n",
        "                self.colonies.append(new_world)\n",
        "                x,y,z,c_type = new_world.get_pos()\n",
        "                self.star_map.append([x,y,z,c_type])\n",
        "                if new_world.colonized==1:\n",
        "                    new_worlds.append(new_world)\n",
        "                if new_world.edge:\n",
        "                    self.edge= True\n",
        "\n",
        "            if len(c.neighbours)==0:\n",
        "                settled.append(c)\n",
        "\n",
        "\n",
        "        for s in settled:\n",
        "            self.space_faring.remove(s)\n",
        "        for n in new_worlds:\n",
        "            self.space_faring.append(n)\n",
        "                    \n",
        "    \n",
        "        return len(self.space_faring)==0, self.edge\n",
        "\n",
        "\n",
        "                    \n",
        "    "
      ]
    },
    {
      "cell_type": "code",
      "execution_count": null,
      "metadata": {
        "id": "cWQ4sZSf8VVl"
      },
      "outputs": [],
      "source": [
        "# seed = rnd.randrange(1000000)\n",
        "# seed=145138\n",
        "# rnd.seed(seed)\n",
        "def experiment(p):\n",
        "    Sector.colinising=p\n",
        "    size =50\n",
        "    asize=size-2\n",
        "    for r in range(10):\n",
        "        state = \"expanding\"\n",
        "        exp = Space(size)\n",
        "        for i in range(200):\n",
        "            flag, edge = exp.iterate()\n",
        "            if flag:\n",
        "                state = \"dormant\"\n",
        "                break\n",
        "        if edge:\n",
        "            state = \"edge\"\n",
        "        results.append([p,r,len(exp.star_map)/(size*size*size),state])\n"
      ]
    },
    {
      "cell_type": "code",
      "execution_count": null,
      "metadata": {
        "id": "ZDnRxYGyuLlv",
        "scrolled": true
      },
      "outputs": [],
      "source": [
        "\n",
        "\n",
        "start = time.time()\n",
        "p = Pool(cpu)\n",
        "result = p.map(experiment, [i/100 for i in range(60)])\n",
        "stop = time.time()"
      ]
    },
    {
      "cell_type": "code",
      "execution_count": null,
      "metadata": {
        "id": "ieo2a8Si95HB",
        "outputId": "d675324a-9d66-439c-b477-a08565bab621"
      },
      "outputs": [
        {
          "name": "stdout",
          "output_type": "stream",
          "text": [
            "Execution time 193.51 seconds\n"
          ]
        }
      ],
      "source": [
        "print(f\"Execution time {stop-start:.2f} seconds\")"
      ]
    },
    {
      "cell_type": "code",
      "execution_count": null,
      "metadata": {
        "id": "MvisxrC_B8J6"
      },
      "outputs": [],
      "source": [
        "df = pd.DataFrame(list(results), columns=['probability_of_spacefaring','rep','fraction_of_space_colonised','state'])"
      ]
    },
    {
      "cell_type": "code",
      "execution_count": null,
      "metadata": {
        "id": "NR9vXS3jY6M0",
        "outputId": "5b20b1b3-a50b-4e9c-e46f-e35ac1c4dd40"
      },
      "outputs": [
        {
          "data": {
            "application/vnd.plotly.v1+json": {
              "config": {
                "plotlyServerURL": "https://plot.ly"
              },
              "data": [
                {
                  "hovertemplate": "state=dormant<br>probability_of_spacefaring=%{x}<br>fraction_of_space_colonised=%{y}<extra></extra>",
                  "legendgroup": "dormant",
                  "marker": {
                    "color": "#636efa",
                    "symbol": "circle"
                  },
                  "mode": "markers",
                  "name": "dormant",
                  "orientation": "v",
                  "showlegend": true,
                  "type": "scatter",
                  "x": [
                    0,
                    0.14,
                    0.08,
                    0.1,
                    0.06,
                    0.12,
                    0.02,
                    0.04,
                    0.04,
                    0.12,
                    0.1,
                    0.02,
                    0.06,
                    0.08,
                    0,
                    0.14,
                    0.04,
                    0.12,
                    0.1,
                    0.06,
                    0.08,
                    0.02,
                    0,
                    0.14,
                    0.08,
                    0.12,
                    0.06,
                    0.04,
                    0.1,
                    0.02,
                    0,
                    0.14,
                    0.08,
                    0.06,
                    0.1,
                    0.02,
                    0.04,
                    0.12,
                    0,
                    0.14,
                    0.08,
                    0.02,
                    0.1,
                    0.06,
                    0.04,
                    0.12,
                    0,
                    0.14,
                    0.08,
                    0.1,
                    0.02,
                    0.06,
                    0.12,
                    0,
                    0.04,
                    0.14,
                    0.08,
                    0.1,
                    0.02,
                    0.06,
                    0.12,
                    0,
                    0.04,
                    0.14,
                    0.08,
                    0.02,
                    0.06,
                    0.1,
                    0.12,
                    0,
                    0.04,
                    0.14,
                    0.08,
                    0.06,
                    0.02,
                    0.12,
                    0,
                    0.1,
                    0.04,
                    0.14,
                    0.09,
                    0.07,
                    0.03,
                    0.13,
                    0.01,
                    0.11,
                    0.05,
                    0.09,
                    0.15,
                    0.03,
                    0.07,
                    0.13,
                    0.01,
                    0.11,
                    0.05,
                    0.15,
                    0.09,
                    0.07,
                    0.03,
                    0.13,
                    0.01,
                    0.11,
                    0.05,
                    0.15,
                    0.09,
                    0.07,
                    0.13,
                    0.03,
                    0.05,
                    0.01,
                    0.11,
                    0.15,
                    0.09,
                    0.07,
                    0.13,
                    0.03,
                    0.05,
                    0.11,
                    0.01,
                    0.15,
                    0.09,
                    0.07,
                    0.03,
                    0.13,
                    0.11,
                    0.05,
                    0.01,
                    0.15,
                    0.09,
                    0.07,
                    0.03,
                    0.11,
                    0.05,
                    0.13,
                    0.01,
                    0.15,
                    0.09,
                    0.07,
                    0.03,
                    0.11,
                    0.05,
                    0.13,
                    0.01,
                    0.15,
                    0.09,
                    0.07,
                    0.11,
                    0.05,
                    0.03,
                    0.13,
                    0.01,
                    0.15,
                    0.09,
                    0.07,
                    0.11,
                    0.05,
                    0.13,
                    0.03,
                    0.01,
                    0.15,
                    0.16,
                    0.18,
                    0.2,
                    0.22,
                    0.24,
                    0.28,
                    0.26,
                    0.3,
                    0.18,
                    0.16,
                    0.2,
                    0.22,
                    0.24,
                    0.28,
                    0.26,
                    0.3,
                    0.18,
                    0.16,
                    0.2,
                    0.22,
                    0.24,
                    0.28,
                    0.26,
                    0.18,
                    0.16,
                    0.2,
                    0.22,
                    0.24,
                    0.28,
                    0.26,
                    0.3,
                    0.18,
                    0.16,
                    0.2,
                    0.22,
                    0.24,
                    0.28,
                    0.26,
                    0.3,
                    0.18,
                    0.16,
                    0.2,
                    0.24,
                    0.22,
                    0.28,
                    0.26,
                    0.3,
                    0.18,
                    0.16,
                    0.2,
                    0.24,
                    0.22,
                    0.28,
                    0.26,
                    0.3,
                    0.18,
                    0.16,
                    0.2,
                    0.24,
                    0.22,
                    0.28,
                    0.26,
                    0.3,
                    0.18,
                    0.16,
                    0.2,
                    0.24,
                    0.22,
                    0.28,
                    0.26,
                    0.18,
                    0.16,
                    0.2,
                    0.24,
                    0.22,
                    0.28,
                    0.26,
                    0.3,
                    0.19,
                    0.17,
                    0.21,
                    0.25,
                    0.23,
                    0.27,
                    0.29,
                    0.19,
                    0.31,
                    0.17,
                    0.21,
                    0.25,
                    0.23,
                    0.27,
                    0.29,
                    0.31,
                    0.19,
                    0.17,
                    0.21,
                    0.29,
                    0.25,
                    0.23,
                    0.27,
                    0.19,
                    0.17,
                    0.21,
                    0.23,
                    0.25,
                    0.27,
                    0.29,
                    0.31,
                    0.19,
                    0.17,
                    0.21,
                    0.25,
                    0.23,
                    0.27,
                    0.29,
                    0.19,
                    0.17,
                    0.21,
                    0.25,
                    0.23,
                    0.27,
                    0.29,
                    0.31,
                    0.19,
                    0.17,
                    0.21,
                    0.25,
                    0.27,
                    0.23,
                    0.29,
                    0.31,
                    0.19,
                    0.17,
                    0.21,
                    0.25,
                    0.27,
                    0.23,
                    0.29,
                    0.31,
                    0.19,
                    0.17,
                    0.21,
                    0.25,
                    0.27,
                    0.23,
                    0.29,
                    0.19,
                    0.17,
                    0.29,
                    0.21,
                    0.25,
                    0.27,
                    0.23,
                    0.32,
                    0.31,
                    0.34,
                    0.4,
                    0.44,
                    0.46,
                    0.32,
                    0.38,
                    0.34,
                    0.32,
                    0.4,
                    0.36,
                    0.42,
                    0.32,
                    0.34,
                    0.32,
                    0.34,
                    0.38,
                    0.32,
                    0.34,
                    0.44,
                    0.33,
                    0.33,
                    0.35,
                    0.4,
                    0.35,
                    0.37,
                    0.35,
                    0.33,
                    0.35,
                    0.33,
                    0.33,
                    0.37,
                    0.33,
                    0.35,
                    0.35,
                    0.37,
                    0.48,
                    0.5,
                    0.43
                  ],
                  "xaxis": "x",
                  "y": [
                    0.000056,
                    0.000128,
                    0.000096,
                    0.000152,
                    0.000096,
                    0.000056,
                    0.000056,
                    0.000096,
                    0.000056,
                    0.000128,
                    0.000056,
                    0.000056,
                    0.000096,
                    0.000056,
                    0.000056,
                    0.000176,
                    0.000056,
                    0.000096,
                    0.00016,
                    0.000056,
                    0.000232,
                    0.000056,
                    0.000056,
                    0.000056,
                    0.000056,
                    0.000128,
                    0.000096,
                    0.000128,
                    0.000056,
                    0.000056,
                    0.000056,
                    0.000336,
                    0.000056,
                    0.000056,
                    0.000136,
                    0.000056,
                    0.000056,
                    0.000056,
                    0.000056,
                    0.000128,
                    0.000128,
                    0.000096,
                    0.000128,
                    0.000056,
                    0.000056,
                    0.00016,
                    0.000056,
                    0.00016,
                    0.000136,
                    0.000136,
                    0.000056,
                    0.000096,
                    0.000096,
                    0.000056,
                    0.000056,
                    0.00016,
                    0.000096,
                    0.000128,
                    0.000056,
                    0.000056,
                    0.000056,
                    0.000056,
                    0.000096,
                    0.000128,
                    0.000056,
                    0.000056,
                    0.000056,
                    0.000056,
                    0.000096,
                    0.000056,
                    0.000056,
                    0.000056,
                    0.000056,
                    0.000096,
                    0.000056,
                    0.000056,
                    0.000056,
                    0.000056,
                    0.000056,
                    0.000336,
                    0.000056,
                    0.000096,
                    0.000056,
                    0.000056,
                    0.000056,
                    0.000056,
                    0.000056,
                    0.000056,
                    0.000056,
                    0.000056,
                    0.000128,
                    0.000056,
                    0.000056,
                    0.000176,
                    0.000056,
                    0.000136,
                    0.000056,
                    0.000056,
                    0.000056,
                    0.000056,
                    0.000056,
                    0.00032,
                    0.000056,
                    0.000056,
                    0.000128,
                    0.000056,
                    0.000096,
                    0.000056,
                    0.000056,
                    0.000056,
                    0.000056,
                    0.000056,
                    0.000056,
                    0.000056,
                    0.000128,
                    0.000056,
                    0.000096,
                    0.00016,
                    0.000056,
                    0.000096,
                    0.000056,
                    0.000056,
                    0.000056,
                    0.000056,
                    0.000096,
                    0.000096,
                    0.000056,
                    0.000056,
                    0.000056,
                    0.000096,
                    0.000056,
                    0.00016,
                    0.000056,
                    0.000096,
                    0.000056,
                    0.000096,
                    0.000056,
                    0.000096,
                    0.000056,
                    0.000096,
                    0.000056,
                    0.0002,
                    0.000056,
                    0.000096,
                    0.000096,
                    0.000056,
                    0.000056,
                    0.000056,
                    0.000056,
                    0.000288,
                    0.000096,
                    0.000136,
                    0.000056,
                    0.000096,
                    0.000232,
                    0.000056,
                    0.000224,
                    0.000056,
                    0.000056,
                    0.000136,
                    0.000096,
                    0.000096,
                    0.000056,
                    0.000136,
                    0.000336,
                    0.000224,
                    0.000336,
                    0.000056,
                    0.000096,
                    0.000056,
                    0.000296,
                    0.001344,
                    0.000456,
                    0.007856,
                    0.001944,
                    0.001608,
                    0.000192,
                    0.000224,
                    0.000128,
                    0.000184,
                    0.000056,
                    0.00132,
                    0.00016,
                    0.000096,
                    0.000056,
                    0.000232,
                    0.000232,
                    0.000568,
                    0.000312,
                    0.001288,
                    0.001352,
                    0.000248,
                    0.000232,
                    0.0002,
                    0.000184,
                    0.00016,
                    0.000952,
                    0.000056,
                    0.001016,
                    0.000152,
                    0.000136,
                    0.000056,
                    0.000056,
                    0.000728,
                    0.001504,
                    0.002656,
                    0.00168,
                    0.000184,
                    0.000288,
                    0.000632,
                    0.000128,
                    0.000128,
                    0.002,
                    0.001688,
                    0.000184,
                    0.00016,
                    0.000096,
                    0.000232,
                    0.000248,
                    0.000184,
                    0.005344,
                    0.000136,
                    0.000336,
                    0.000136,
                    0.000056,
                    0.000336,
                    0.00028,
                    0.000384,
                    0.000096,
                    0.000344,
                    0.000896,
                    0.000224,
                    0.000264,
                    0.000208,
                    0.000056,
                    0.000368,
                    0.000056,
                    0.004824,
                    0.000096,
                    0.000496,
                    0.000056,
                    0.000152,
                    0.000928,
                    0.00044,
                    0.000096,
                    0.000192,
                    0.000248,
                    0.000096,
                    0.000216,
                    0.000872,
                    0.000328,
                    0.00016,
                    0.000136,
                    0.001184,
                    0.000096,
                    0.000056,
                    0.000056,
                    0.000056,
                    0.001112,
                    0.000208,
                    0.000368,
                    0.000272,
                    0.000056,
                    0.000056,
                    0.000512,
                    0.001472,
                    0.00092,
                    0.003904,
                    0.000136,
                    0.000056,
                    0.000192,
                    0.00016,
                    0.001816,
                    0.000752,
                    0.000616,
                    0.010768,
                    0.000536,
                    0.000232,
                    0.000992,
                    0.000096,
                    0.000704,
                    0.001392,
                    0.000136,
                    0.000056,
                    0.000128,
                    0.000056,
                    0.000536,
                    0.00016,
                    0.000632,
                    0.000096,
                    0.000128,
                    0.00264,
                    0.000056,
                    0.000056,
                    0.000056,
                    0.000128,
                    0.000856,
                    0.000096,
                    0.003416,
                    0.009536,
                    0.00016,
                    0.000096,
                    0.000096,
                    0.000264,
                    0.000624,
                    0.000544,
                    0.000896,
                    0.000056,
                    0.000056,
                    0.007752,
                    0.000096,
                    0.000128,
                    0.004128,
                    0.000576,
                    0.000128,
                    0.008568,
                    0.000056,
                    0.000056,
                    0.000056,
                    0.00016,
                    0.000736,
                    0.00016,
                    0.000192,
                    0.000728,
                    0.000056,
                    0.00064,
                    0.000096,
                    0.000464,
                    0.000256,
                    0.00128,
                    0.000384,
                    0.000096,
                    0.000096,
                    0.000056,
                    0.000056,
                    0.002,
                    0.000056,
                    0.000304,
                    0.000128,
                    0.000408,
                    0.000056,
                    0.000384,
                    0.000376,
                    0.002256,
                    0.000056,
                    0.000056,
                    0.000056,
                    0.0002,
                    0.000056,
                    0.000136,
                    0.000344,
                    0.000056,
                    0.0002,
                    0.000192
                  ],
                  "yaxis": "y"
                },
                {
                  "hovertemplate": "state=edge<br>probability_of_spacefaring=%{x}<br>fraction_of_space_colonised=%{y}<extra></extra>",
                  "legendgroup": "edge",
                  "marker": {
                    "color": "#EF553B",
                    "symbol": "circle"
                  },
                  "mode": "markers",
                  "name": "edge",
                  "orientation": "v",
                  "showlegend": true,
                  "type": "scatter",
                  "x": [
                    0.3,
                    0.3,
                    0.31,
                    0.31,
                    0.36,
                    0.32,
                    0.38,
                    0.42,
                    0.34,
                    0.4,
                    0.44,
                    0.36,
                    0.42,
                    0.46,
                    0.38,
                    0.44,
                    0.34,
                    0.36,
                    0.46,
                    0.38,
                    0.4,
                    0.44,
                    0.36,
                    0.42,
                    0.32,
                    0.46,
                    0.4,
                    0.34,
                    0.38,
                    0.32,
                    0.44,
                    0.42,
                    0.36,
                    0.46,
                    0.4,
                    0.34,
                    0.36,
                    0.44,
                    0.38,
                    0.42,
                    0.32,
                    0.4,
                    0.46,
                    0.36,
                    0.34,
                    0.42,
                    0.38,
                    0.4,
                    0.36,
                    0.33,
                    0.46,
                    0.38,
                    0.44,
                    0.35,
                    0.42,
                    0.33,
                    0.46,
                    0.36,
                    0.38,
                    0.44,
                    0.33,
                    0.42,
                    0.4,
                    0.37,
                    0.35,
                    0.33,
                    0.39,
                    0.46,
                    0.44,
                    0.41,
                    0.42,
                    0.41,
                    0.39,
                    0.46,
                    0.45,
                    0.37,
                    0.43,
                    0.39,
                    0.47,
                    0.35,
                    0.41,
                    0.45,
                    0.43,
                    0.37,
                    0.39,
                    0.35,
                    0.47,
                    0.41,
                    0.43,
                    0.45,
                    0.48,
                    0.39,
                    0.41,
                    0.37,
                    0.47,
                    0.45,
                    0.48,
                    0.43,
                    0.39,
                    0.41,
                    0.47,
                    0.5,
                    0.45,
                    0.43,
                    0.48,
                    0.37,
                    0.39,
                    0.5,
                    0.41,
                    0.37,
                    0.43,
                    0.48,
                    0.47,
                    0.45,
                    0.39,
                    0.41,
                    0.5,
                    0.37,
                    0.47,
                    0.45,
                    0.39,
                    0.43,
                    0.41,
                    0.52,
                    0.48,
                    0.5,
                    0.43,
                    0.45,
                    0.39,
                    0.47,
                    0.41,
                    0.52,
                    0.48,
                    0.43,
                    0.47,
                    0.54,
                    0.45,
                    0.5,
                    0.56,
                    0.52,
                    0.48,
                    0.45,
                    0.47,
                    0.54,
                    0.56,
                    0.52,
                    0.58,
                    0.5,
                    0.48,
                    0.47,
                    0.54,
                    0.56,
                    0.52,
                    0.58,
                    0.5,
                    0.52,
                    0.56,
                    0.48,
                    0.54,
                    0.52,
                    0.5,
                    0.56,
                    0.58,
                    0.49,
                    0.52,
                    0.54,
                    0.5,
                    0.52,
                    0.49,
                    0.58,
                    0.56,
                    0.51,
                    0.54,
                    0.52,
                    0.51,
                    0.49,
                    0.56,
                    0.53,
                    0.51,
                    0.58,
                    0.54,
                    0.53,
                    0.51,
                    0.49,
                    0.56,
                    0.53,
                    0.58,
                    0.54,
                    0.51,
                    0.53,
                    0.49,
                    0.56,
                    0.51,
                    0.58,
                    0.53,
                    0.51,
                    0.54,
                    0.49,
                    0.56,
                    0.53,
                    0.58,
                    0.51,
                    0.54,
                    0.53,
                    0.51,
                    0.49,
                    0.57,
                    0.58,
                    0.51,
                    0.55,
                    0.53,
                    0.49,
                    0.58,
                    0.53,
                    0.57,
                    0.49,
                    0.53,
                    0.55,
                    0.59,
                    0.49,
                    0.57,
                    0.55,
                    0.59,
                    0.57,
                    0.55,
                    0.59,
                    0.57,
                    0.55,
                    0.59,
                    0.57,
                    0.59,
                    0.55,
                    0.57,
                    0.55,
                    0.59,
                    0.57,
                    0.59,
                    0.55,
                    0.57,
                    0.55,
                    0.59,
                    0.57,
                    0.55,
                    0.59,
                    0.59
                  ],
                  "xaxis": "x",
                  "y": [
                    0.025064,
                    0.016272,
                    0.04228,
                    0.052656,
                    0.479888,
                    0.109152,
                    0.755208,
                    0.838064,
                    0.390504,
                    0.81052,
                    0.868088,
                    0.64348,
                    0.848664,
                    0.88672,
                    0.752088,
                    0.869512,
                    0.29112,
                    0.437016,
                    0.888208,
                    0.712952,
                    0.812632,
                    0.873624,
                    0.62324,
                    0.840376,
                    0.103272,
                    0.888568,
                    0.801584,
                    0.328024,
                    0.7518,
                    0.077136,
                    0.868632,
                    0.836792,
                    0.610512,
                    0.891632,
                    0.808224,
                    0.350032,
                    0.579584,
                    0.865304,
                    0.744672,
                    0.843056,
                    0.067256,
                    0.810368,
                    0.883072,
                    0.59112,
                    0.366696,
                    0.850224,
                    0.733128,
                    0.815568,
                    0.600032,
                    0.203096,
                    0.88908,
                    0.747856,
                    0.865464,
                    0.46616,
                    0.846464,
                    0.229792,
                    0.890224,
                    0.575352,
                    0.744376,
                    0.867096,
                    0.10212,
                    0.840168,
                    0.801936,
                    0.614696,
                    0.55628,
                    0.197432,
                    0.784792,
                    0.885152,
                    0.871768,
                    0.826944,
                    0.84428,
                    0.823768,
                    0.792512,
                    0.886824,
                    0.881624,
                    0.661624,
                    0.85768,
                    0.764224,
                    0.896256,
                    0.482896,
                    0.815616,
                    0.879608,
                    0.85768,
                    0.697256,
                    0.779592,
                    0.557744,
                    0.89132,
                    0.824768,
                    0.85544,
                    0.881016,
                    0.90228,
                    0.775368,
                    0.829928,
                    0.565504,
                    0.896256,
                    0.882496,
                    0.902928,
                    0.858784,
                    0.791616,
                    0.82432,
                    0.895808,
                    0.911664,
                    0.880552,
                    0.856576,
                    0.903528,
                    0.690776,
                    0.792952,
                    0.911488,
                    0.82572,
                    0.69652,
                    0.857768,
                    0.900568,
                    0.896776,
                    0.8828,
                    0.767224,
                    0.815704,
                    0.91376,
                    0.712744,
                    0.89152,
                    0.877136,
                    0.706248,
                    0.854296,
                    0.822312,
                    0.921896,
                    0.901488,
                    0.91164,
                    0.856608,
                    0.879552,
                    0.755712,
                    0.89528,
                    0.82436,
                    0.920384,
                    0.899936,
                    0.859384,
                    0.895968,
                    0.928664,
                    0.877272,
                    0.913312,
                    0.935384,
                    0.92076,
                    0.903528,
                    0.876232,
                    0.894688,
                    0.929888,
                    0.93348,
                    0.920648,
                    0.939568,
                    0.913056,
                    0.900856,
                    0.89416,
                    0.929856,
                    0.934632,
                    0.92052,
                    0.93996,
                    0.91316,
                    0.92228,
                    0.935696,
                    0.904728,
                    0.930496,
                    0.922424,
                    0.912024,
                    0.935752,
                    0.940672,
                    0.907832,
                    0.92132,
                    0.928976,
                    0.91096,
                    0.922376,
                    0.906864,
                    0.941192,
                    0.93596,
                    0.916728,
                    0.928976,
                    0.921944,
                    0.918872,
                    0.908784,
                    0.935816,
                    0.926584,
                    0.919328,
                    0.940528,
                    0.927424,
                    0.925392,
                    0.918056,
                    0.910464,
                    0.935088,
                    0.924312,
                    0.941584,
                    0.930264,
                    0.919136,
                    0.924528,
                    0.9046,
                    0.935608,
                    0.918056,
                    0.940744,
                    0.926688,
                    0.917992,
                    0.92768,
                    0.908968,
                    0.935688,
                    0.923744,
                    0.940544,
                    0.915976,
                    0.929424,
                    0.926792,
                    0.916792,
                    0.90796,
                    0.937856,
                    0.940224,
                    0.917664,
                    0.933976,
                    0.924856,
                    0.907184,
                    0.941152,
                    0.925656,
                    0.93768,
                    0.907712,
                    0.927168,
                    0.933384,
                    0.942672,
                    0.908944,
                    0.936176,
                    0.932792,
                    0.942096,
                    0.937424,
                    0.93156,
                    0.942904,
                    0.937912,
                    0.932712,
                    0.942712,
                    0.938352,
                    0.943024,
                    0.933208,
                    0.937768,
                    0.932744,
                    0.942752,
                    0.937784,
                    0.943368,
                    0.932264,
                    0.937176,
                    0.932616,
                    0.942488,
                    0.938552,
                    0.932632,
                    0.941312,
                    0.943696
                  ],
                  "yaxis": "y"
                },
                {
                  "hovertemplate": "state=expanding<br>probability_of_spacefaring=%{x}<br>fraction_of_space_colonised=%{y}<extra></extra>",
                  "legendgroup": "expanding",
                  "marker": {
                    "color": "#00cc96",
                    "symbol": "circle"
                  },
                  "mode": "markers",
                  "name": "expanding",
                  "orientation": "v",
                  "showlegend": true,
                  "type": "scatter",
                  "x": [
                    0.31
                  ],
                  "xaxis": "x",
                  "y": [
                    0.011768
                  ],
                  "yaxis": "y"
                }
              ],
              "layout": {
                "legend": {
                  "title": {
                    "text": "state"
                  },
                  "tracegroupgap": 0
                },
                "margin": {
                  "t": 60
                },
                "template": {
                  "data": {
                    "bar": [
                      {
                        "error_x": {
                          "color": "#2a3f5f"
                        },
                        "error_y": {
                          "color": "#2a3f5f"
                        },
                        "marker": {
                          "line": {
                            "color": "#E5ECF6",
                            "width": 0.5
                          },
                          "pattern": {
                            "fillmode": "overlay",
                            "size": 10,
                            "solidity": 0.2
                          }
                        },
                        "type": "bar"
                      }
                    ],
                    "barpolar": [
                      {
                        "marker": {
                          "line": {
                            "color": "#E5ECF6",
                            "width": 0.5
                          },
                          "pattern": {
                            "fillmode": "overlay",
                            "size": 10,
                            "solidity": 0.2
                          }
                        },
                        "type": "barpolar"
                      }
                    ],
                    "carpet": [
                      {
                        "aaxis": {
                          "endlinecolor": "#2a3f5f",
                          "gridcolor": "white",
                          "linecolor": "white",
                          "minorgridcolor": "white",
                          "startlinecolor": "#2a3f5f"
                        },
                        "baxis": {
                          "endlinecolor": "#2a3f5f",
                          "gridcolor": "white",
                          "linecolor": "white",
                          "minorgridcolor": "white",
                          "startlinecolor": "#2a3f5f"
                        },
                        "type": "carpet"
                      }
                    ],
                    "choropleth": [
                      {
                        "colorbar": {
                          "outlinewidth": 0,
                          "ticks": ""
                        },
                        "type": "choropleth"
                      }
                    ],
                    "contour": [
                      {
                        "colorbar": {
                          "outlinewidth": 0,
                          "ticks": ""
                        },
                        "colorscale": [
                          [
                            0,
                            "#0d0887"
                          ],
                          [
                            0.1111111111111111,
                            "#46039f"
                          ],
                          [
                            0.2222222222222222,
                            "#7201a8"
                          ],
                          [
                            0.3333333333333333,
                            "#9c179e"
                          ],
                          [
                            0.4444444444444444,
                            "#bd3786"
                          ],
                          [
                            0.5555555555555556,
                            "#d8576b"
                          ],
                          [
                            0.6666666666666666,
                            "#ed7953"
                          ],
                          [
                            0.7777777777777778,
                            "#fb9f3a"
                          ],
                          [
                            0.8888888888888888,
                            "#fdca26"
                          ],
                          [
                            1,
                            "#f0f921"
                          ]
                        ],
                        "type": "contour"
                      }
                    ],
                    "contourcarpet": [
                      {
                        "colorbar": {
                          "outlinewidth": 0,
                          "ticks": ""
                        },
                        "type": "contourcarpet"
                      }
                    ],
                    "heatmap": [
                      {
                        "colorbar": {
                          "outlinewidth": 0,
                          "ticks": ""
                        },
                        "colorscale": [
                          [
                            0,
                            "#0d0887"
                          ],
                          [
                            0.1111111111111111,
                            "#46039f"
                          ],
                          [
                            0.2222222222222222,
                            "#7201a8"
                          ],
                          [
                            0.3333333333333333,
                            "#9c179e"
                          ],
                          [
                            0.4444444444444444,
                            "#bd3786"
                          ],
                          [
                            0.5555555555555556,
                            "#d8576b"
                          ],
                          [
                            0.6666666666666666,
                            "#ed7953"
                          ],
                          [
                            0.7777777777777778,
                            "#fb9f3a"
                          ],
                          [
                            0.8888888888888888,
                            "#fdca26"
                          ],
                          [
                            1,
                            "#f0f921"
                          ]
                        ],
                        "type": "heatmap"
                      }
                    ],
                    "heatmapgl": [
                      {
                        "colorbar": {
                          "outlinewidth": 0,
                          "ticks": ""
                        },
                        "colorscale": [
                          [
                            0,
                            "#0d0887"
                          ],
                          [
                            0.1111111111111111,
                            "#46039f"
                          ],
                          [
                            0.2222222222222222,
                            "#7201a8"
                          ],
                          [
                            0.3333333333333333,
                            "#9c179e"
                          ],
                          [
                            0.4444444444444444,
                            "#bd3786"
                          ],
                          [
                            0.5555555555555556,
                            "#d8576b"
                          ],
                          [
                            0.6666666666666666,
                            "#ed7953"
                          ],
                          [
                            0.7777777777777778,
                            "#fb9f3a"
                          ],
                          [
                            0.8888888888888888,
                            "#fdca26"
                          ],
                          [
                            1,
                            "#f0f921"
                          ]
                        ],
                        "type": "heatmapgl"
                      }
                    ],
                    "histogram": [
                      {
                        "marker": {
                          "pattern": {
                            "fillmode": "overlay",
                            "size": 10,
                            "solidity": 0.2
                          }
                        },
                        "type": "histogram"
                      }
                    ],
                    "histogram2d": [
                      {
                        "colorbar": {
                          "outlinewidth": 0,
                          "ticks": ""
                        },
                        "colorscale": [
                          [
                            0,
                            "#0d0887"
                          ],
                          [
                            0.1111111111111111,
                            "#46039f"
                          ],
                          [
                            0.2222222222222222,
                            "#7201a8"
                          ],
                          [
                            0.3333333333333333,
                            "#9c179e"
                          ],
                          [
                            0.4444444444444444,
                            "#bd3786"
                          ],
                          [
                            0.5555555555555556,
                            "#d8576b"
                          ],
                          [
                            0.6666666666666666,
                            "#ed7953"
                          ],
                          [
                            0.7777777777777778,
                            "#fb9f3a"
                          ],
                          [
                            0.8888888888888888,
                            "#fdca26"
                          ],
                          [
                            1,
                            "#f0f921"
                          ]
                        ],
                        "type": "histogram2d"
                      }
                    ],
                    "histogram2dcontour": [
                      {
                        "colorbar": {
                          "outlinewidth": 0,
                          "ticks": ""
                        },
                        "colorscale": [
                          [
                            0,
                            "#0d0887"
                          ],
                          [
                            0.1111111111111111,
                            "#46039f"
                          ],
                          [
                            0.2222222222222222,
                            "#7201a8"
                          ],
                          [
                            0.3333333333333333,
                            "#9c179e"
                          ],
                          [
                            0.4444444444444444,
                            "#bd3786"
                          ],
                          [
                            0.5555555555555556,
                            "#d8576b"
                          ],
                          [
                            0.6666666666666666,
                            "#ed7953"
                          ],
                          [
                            0.7777777777777778,
                            "#fb9f3a"
                          ],
                          [
                            0.8888888888888888,
                            "#fdca26"
                          ],
                          [
                            1,
                            "#f0f921"
                          ]
                        ],
                        "type": "histogram2dcontour"
                      }
                    ],
                    "mesh3d": [
                      {
                        "colorbar": {
                          "outlinewidth": 0,
                          "ticks": ""
                        },
                        "type": "mesh3d"
                      }
                    ],
                    "parcoords": [
                      {
                        "line": {
                          "colorbar": {
                            "outlinewidth": 0,
                            "ticks": ""
                          }
                        },
                        "type": "parcoords"
                      }
                    ],
                    "pie": [
                      {
                        "automargin": true,
                        "type": "pie"
                      }
                    ],
                    "scatter": [
                      {
                        "fillpattern": {
                          "fillmode": "overlay",
                          "size": 10,
                          "solidity": 0.2
                        },
                        "type": "scatter"
                      }
                    ],
                    "scatter3d": [
                      {
                        "line": {
                          "colorbar": {
                            "outlinewidth": 0,
                            "ticks": ""
                          }
                        },
                        "marker": {
                          "colorbar": {
                            "outlinewidth": 0,
                            "ticks": ""
                          }
                        },
                        "type": "scatter3d"
                      }
                    ],
                    "scattercarpet": [
                      {
                        "marker": {
                          "colorbar": {
                            "outlinewidth": 0,
                            "ticks": ""
                          }
                        },
                        "type": "scattercarpet"
                      }
                    ],
                    "scattergeo": [
                      {
                        "marker": {
                          "colorbar": {
                            "outlinewidth": 0,
                            "ticks": ""
                          }
                        },
                        "type": "scattergeo"
                      }
                    ],
                    "scattergl": [
                      {
                        "marker": {
                          "colorbar": {
                            "outlinewidth": 0,
                            "ticks": ""
                          }
                        },
                        "type": "scattergl"
                      }
                    ],
                    "scattermapbox": [
                      {
                        "marker": {
                          "colorbar": {
                            "outlinewidth": 0,
                            "ticks": ""
                          }
                        },
                        "type": "scattermapbox"
                      }
                    ],
                    "scatterpolar": [
                      {
                        "marker": {
                          "colorbar": {
                            "outlinewidth": 0,
                            "ticks": ""
                          }
                        },
                        "type": "scatterpolar"
                      }
                    ],
                    "scatterpolargl": [
                      {
                        "marker": {
                          "colorbar": {
                            "outlinewidth": 0,
                            "ticks": ""
                          }
                        },
                        "type": "scatterpolargl"
                      }
                    ],
                    "scatterternary": [
                      {
                        "marker": {
                          "colorbar": {
                            "outlinewidth": 0,
                            "ticks": ""
                          }
                        },
                        "type": "scatterternary"
                      }
                    ],
                    "surface": [
                      {
                        "colorbar": {
                          "outlinewidth": 0,
                          "ticks": ""
                        },
                        "colorscale": [
                          [
                            0,
                            "#0d0887"
                          ],
                          [
                            0.1111111111111111,
                            "#46039f"
                          ],
                          [
                            0.2222222222222222,
                            "#7201a8"
                          ],
                          [
                            0.3333333333333333,
                            "#9c179e"
                          ],
                          [
                            0.4444444444444444,
                            "#bd3786"
                          ],
                          [
                            0.5555555555555556,
                            "#d8576b"
                          ],
                          [
                            0.6666666666666666,
                            "#ed7953"
                          ],
                          [
                            0.7777777777777778,
                            "#fb9f3a"
                          ],
                          [
                            0.8888888888888888,
                            "#fdca26"
                          ],
                          [
                            1,
                            "#f0f921"
                          ]
                        ],
                        "type": "surface"
                      }
                    ],
                    "table": [
                      {
                        "cells": {
                          "fill": {
                            "color": "#EBF0F8"
                          },
                          "line": {
                            "color": "white"
                          }
                        },
                        "header": {
                          "fill": {
                            "color": "#C8D4E3"
                          },
                          "line": {
                            "color": "white"
                          }
                        },
                        "type": "table"
                      }
                    ]
                  },
                  "layout": {
                    "annotationdefaults": {
                      "arrowcolor": "#2a3f5f",
                      "arrowhead": 0,
                      "arrowwidth": 1
                    },
                    "autotypenumbers": "strict",
                    "coloraxis": {
                      "colorbar": {
                        "outlinewidth": 0,
                        "ticks": ""
                      }
                    },
                    "colorscale": {
                      "diverging": [
                        [
                          0,
                          "#8e0152"
                        ],
                        [
                          0.1,
                          "#c51b7d"
                        ],
                        [
                          0.2,
                          "#de77ae"
                        ],
                        [
                          0.3,
                          "#f1b6da"
                        ],
                        [
                          0.4,
                          "#fde0ef"
                        ],
                        [
                          0.5,
                          "#f7f7f7"
                        ],
                        [
                          0.6,
                          "#e6f5d0"
                        ],
                        [
                          0.7,
                          "#b8e186"
                        ],
                        [
                          0.8,
                          "#7fbc41"
                        ],
                        [
                          0.9,
                          "#4d9221"
                        ],
                        [
                          1,
                          "#276419"
                        ]
                      ],
                      "sequential": [
                        [
                          0,
                          "#0d0887"
                        ],
                        [
                          0.1111111111111111,
                          "#46039f"
                        ],
                        [
                          0.2222222222222222,
                          "#7201a8"
                        ],
                        [
                          0.3333333333333333,
                          "#9c179e"
                        ],
                        [
                          0.4444444444444444,
                          "#bd3786"
                        ],
                        [
                          0.5555555555555556,
                          "#d8576b"
                        ],
                        [
                          0.6666666666666666,
                          "#ed7953"
                        ],
                        [
                          0.7777777777777778,
                          "#fb9f3a"
                        ],
                        [
                          0.8888888888888888,
                          "#fdca26"
                        ],
                        [
                          1,
                          "#f0f921"
                        ]
                      ],
                      "sequentialminus": [
                        [
                          0,
                          "#0d0887"
                        ],
                        [
                          0.1111111111111111,
                          "#46039f"
                        ],
                        [
                          0.2222222222222222,
                          "#7201a8"
                        ],
                        [
                          0.3333333333333333,
                          "#9c179e"
                        ],
                        [
                          0.4444444444444444,
                          "#bd3786"
                        ],
                        [
                          0.5555555555555556,
                          "#d8576b"
                        ],
                        [
                          0.6666666666666666,
                          "#ed7953"
                        ],
                        [
                          0.7777777777777778,
                          "#fb9f3a"
                        ],
                        [
                          0.8888888888888888,
                          "#fdca26"
                        ],
                        [
                          1,
                          "#f0f921"
                        ]
                      ]
                    },
                    "colorway": [
                      "#636efa",
                      "#EF553B",
                      "#00cc96",
                      "#ab63fa",
                      "#FFA15A",
                      "#19d3f3",
                      "#FF6692",
                      "#B6E880",
                      "#FF97FF",
                      "#FECB52"
                    ],
                    "font": {
                      "color": "#2a3f5f"
                    },
                    "geo": {
                      "bgcolor": "white",
                      "lakecolor": "white",
                      "landcolor": "#E5ECF6",
                      "showlakes": true,
                      "showland": true,
                      "subunitcolor": "white"
                    },
                    "hoverlabel": {
                      "align": "left"
                    },
                    "hovermode": "closest",
                    "mapbox": {
                      "style": "light"
                    },
                    "paper_bgcolor": "white",
                    "plot_bgcolor": "#E5ECF6",
                    "polar": {
                      "angularaxis": {
                        "gridcolor": "white",
                        "linecolor": "white",
                        "ticks": ""
                      },
                      "bgcolor": "#E5ECF6",
                      "radialaxis": {
                        "gridcolor": "white",
                        "linecolor": "white",
                        "ticks": ""
                      }
                    },
                    "scene": {
                      "xaxis": {
                        "backgroundcolor": "#E5ECF6",
                        "gridcolor": "white",
                        "gridwidth": 2,
                        "linecolor": "white",
                        "showbackground": true,
                        "ticks": "",
                        "zerolinecolor": "white"
                      },
                      "yaxis": {
                        "backgroundcolor": "#E5ECF6",
                        "gridcolor": "white",
                        "gridwidth": 2,
                        "linecolor": "white",
                        "showbackground": true,
                        "ticks": "",
                        "zerolinecolor": "white"
                      },
                      "zaxis": {
                        "backgroundcolor": "#E5ECF6",
                        "gridcolor": "white",
                        "gridwidth": 2,
                        "linecolor": "white",
                        "showbackground": true,
                        "ticks": "",
                        "zerolinecolor": "white"
                      }
                    },
                    "shapedefaults": {
                      "line": {
                        "color": "#2a3f5f"
                      }
                    },
                    "ternary": {
                      "aaxis": {
                        "gridcolor": "white",
                        "linecolor": "white",
                        "ticks": ""
                      },
                      "baxis": {
                        "gridcolor": "white",
                        "linecolor": "white",
                        "ticks": ""
                      },
                      "bgcolor": "#E5ECF6",
                      "caxis": {
                        "gridcolor": "white",
                        "linecolor": "white",
                        "ticks": ""
                      }
                    },
                    "title": {
                      "x": 0.05
                    },
                    "xaxis": {
                      "automargin": true,
                      "gridcolor": "white",
                      "linecolor": "white",
                      "ticks": "",
                      "title": {
                        "standoff": 15
                      },
                      "zerolinecolor": "white",
                      "zerolinewidth": 2
                    },
                    "yaxis": {
                      "automargin": true,
                      "gridcolor": "white",
                      "linecolor": "white",
                      "ticks": "",
                      "title": {
                        "standoff": 15
                      },
                      "zerolinecolor": "white",
                      "zerolinewidth": 2
                    }
                  }
                },
                "xaxis": {
                  "anchor": "y",
                  "domain": [
                    0,
                    1
                  ],
                  "title": {
                    "text": "probability_of_spacefaring"
                  }
                },
                "yaxis": {
                  "anchor": "x",
                  "domain": [
                    0,
                    1
                  ],
                  "title": {
                    "text": "fraction_of_space_colonised"
                  },
                  "type": "log"
                }
              }
            },
            "text/html": [
              "<div>                            <div id=\"49cb0902-d9be-446d-ad0d-afe82a5801ea\" class=\"plotly-graph-div\" style=\"height:525px; width:100%;\"></div>            <script type=\"text/javascript\">                require([\"plotly\"], function(Plotly) {                    window.PLOTLYENV=window.PLOTLYENV || {};                                    if (document.getElementById(\"49cb0902-d9be-446d-ad0d-afe82a5801ea\")) {                    Plotly.newPlot(                        \"49cb0902-d9be-446d-ad0d-afe82a5801ea\",                        [{\"hovertemplate\":\"state=dormant<br>probability_of_spacefaring=%{x}<br>fraction_of_space_colonised=%{y}<extra></extra>\",\"legendgroup\":\"dormant\",\"marker\":{\"color\":\"#636efa\",\"symbol\":\"circle\"},\"mode\":\"markers\",\"name\":\"dormant\",\"orientation\":\"v\",\"showlegend\":true,\"x\":[0.0,0.14,0.08,0.1,0.06,0.12,0.02,0.04,0.04,0.12,0.1,0.02,0.06,0.08,0.0,0.14,0.04,0.12,0.1,0.06,0.08,0.02,0.0,0.14,0.08,0.12,0.06,0.04,0.1,0.02,0.0,0.14,0.08,0.06,0.1,0.02,0.04,0.12,0.0,0.14,0.08,0.02,0.1,0.06,0.04,0.12,0.0,0.14,0.08,0.1,0.02,0.06,0.12,0.0,0.04,0.14,0.08,0.1,0.02,0.06,0.12,0.0,0.04,0.14,0.08,0.02,0.06,0.1,0.12,0.0,0.04,0.14,0.08,0.06,0.02,0.12,0.0,0.1,0.04,0.14,0.09,0.07,0.03,0.13,0.01,0.11,0.05,0.09,0.15,0.03,0.07,0.13,0.01,0.11,0.05,0.15,0.09,0.07,0.03,0.13,0.01,0.11,0.05,0.15,0.09,0.07,0.13,0.03,0.05,0.01,0.11,0.15,0.09,0.07,0.13,0.03,0.05,0.11,0.01,0.15,0.09,0.07,0.03,0.13,0.11,0.05,0.01,0.15,0.09,0.07,0.03,0.11,0.05,0.13,0.01,0.15,0.09,0.07,0.03,0.11,0.05,0.13,0.01,0.15,0.09,0.07,0.11,0.05,0.03,0.13,0.01,0.15,0.09,0.07,0.11,0.05,0.13,0.03,0.01,0.15,0.16,0.18,0.2,0.22,0.24,0.28,0.26,0.3,0.18,0.16,0.2,0.22,0.24,0.28,0.26,0.3,0.18,0.16,0.2,0.22,0.24,0.28,0.26,0.18,0.16,0.2,0.22,0.24,0.28,0.26,0.3,0.18,0.16,0.2,0.22,0.24,0.28,0.26,0.3,0.18,0.16,0.2,0.24,0.22,0.28,0.26,0.3,0.18,0.16,0.2,0.24,0.22,0.28,0.26,0.3,0.18,0.16,0.2,0.24,0.22,0.28,0.26,0.3,0.18,0.16,0.2,0.24,0.22,0.28,0.26,0.18,0.16,0.2,0.24,0.22,0.28,0.26,0.3,0.19,0.17,0.21,0.25,0.23,0.27,0.29,0.19,0.31,0.17,0.21,0.25,0.23,0.27,0.29,0.31,0.19,0.17,0.21,0.29,0.25,0.23,0.27,0.19,0.17,0.21,0.23,0.25,0.27,0.29,0.31,0.19,0.17,0.21,0.25,0.23,0.27,0.29,0.19,0.17,0.21,0.25,0.23,0.27,0.29,0.31,0.19,0.17,0.21,0.25,0.27,0.23,0.29,0.31,0.19,0.17,0.21,0.25,0.27,0.23,0.29,0.31,0.19,0.17,0.21,0.25,0.27,0.23,0.29,0.19,0.17,0.29,0.21,0.25,0.27,0.23,0.32,0.31,0.34,0.4,0.44,0.46,0.32,0.38,0.34,0.32,0.4,0.36,0.42,0.32,0.34,0.32,0.34,0.38,0.32,0.34,0.44,0.33,0.33,0.35,0.4,0.35,0.37,0.35,0.33,0.35,0.33,0.33,0.37,0.33,0.35,0.35,0.37,0.48,0.5,0.43],\"xaxis\":\"x\",\"y\":[5.6e-05,0.000128,9.6e-05,0.000152,9.6e-05,5.6e-05,5.6e-05,9.6e-05,5.6e-05,0.000128,5.6e-05,5.6e-05,9.6e-05,5.6e-05,5.6e-05,0.000176,5.6e-05,9.6e-05,0.00016,5.6e-05,0.000232,5.6e-05,5.6e-05,5.6e-05,5.6e-05,0.000128,9.6e-05,0.000128,5.6e-05,5.6e-05,5.6e-05,0.000336,5.6e-05,5.6e-05,0.000136,5.6e-05,5.6e-05,5.6e-05,5.6e-05,0.000128,0.000128,9.6e-05,0.000128,5.6e-05,5.6e-05,0.00016,5.6e-05,0.00016,0.000136,0.000136,5.6e-05,9.6e-05,9.6e-05,5.6e-05,5.6e-05,0.00016,9.6e-05,0.000128,5.6e-05,5.6e-05,5.6e-05,5.6e-05,9.6e-05,0.000128,5.6e-05,5.6e-05,5.6e-05,5.6e-05,9.6e-05,5.6e-05,5.6e-05,5.6e-05,5.6e-05,9.6e-05,5.6e-05,5.6e-05,5.6e-05,5.6e-05,5.6e-05,0.000336,5.6e-05,9.6e-05,5.6e-05,5.6e-05,5.6e-05,5.6e-05,5.6e-05,5.6e-05,5.6e-05,5.6e-05,0.000128,5.6e-05,5.6e-05,0.000176,5.6e-05,0.000136,5.6e-05,5.6e-05,5.6e-05,5.6e-05,5.6e-05,0.00032,5.6e-05,5.6e-05,0.000128,5.6e-05,9.6e-05,5.6e-05,5.6e-05,5.6e-05,5.6e-05,5.6e-05,5.6e-05,5.6e-05,0.000128,5.6e-05,9.6e-05,0.00016,5.6e-05,9.6e-05,5.6e-05,5.6e-05,5.6e-05,5.6e-05,9.6e-05,9.6e-05,5.6e-05,5.6e-05,5.6e-05,9.6e-05,5.6e-05,0.00016,5.6e-05,9.6e-05,5.6e-05,9.6e-05,5.6e-05,9.6e-05,5.6e-05,9.6e-05,5.6e-05,0.0002,5.6e-05,9.6e-05,9.6e-05,5.6e-05,5.6e-05,5.6e-05,5.6e-05,0.000288,9.6e-05,0.000136,5.6e-05,9.6e-05,0.000232,5.6e-05,0.000224,5.6e-05,5.6e-05,0.000136,9.6e-05,9.6e-05,5.6e-05,0.000136,0.000336,0.000224,0.000336,5.6e-05,9.6e-05,5.6e-05,0.000296,0.001344,0.000456,0.007856,0.001944,0.001608,0.000192,0.000224,0.000128,0.000184,5.6e-05,0.00132,0.00016,9.6e-05,5.6e-05,0.000232,0.000232,0.000568,0.000312,0.001288,0.001352,0.000248,0.000232,0.0002,0.000184,0.00016,0.000952,5.6e-05,0.001016,0.000152,0.000136,5.6e-05,5.6e-05,0.000728,0.001504,0.002656,0.00168,0.000184,0.000288,0.000632,0.000128,0.000128,0.002,0.001688,0.000184,0.00016,9.6e-05,0.000232,0.000248,0.000184,0.005344,0.000136,0.000336,0.000136,5.6e-05,0.000336,0.00028,0.000384,9.6e-05,0.000344,0.000896,0.000224,0.000264,0.000208,5.6e-05,0.000368,5.6e-05,0.004824,9.6e-05,0.000496,5.6e-05,0.000152,0.000928,0.00044,9.6e-05,0.000192,0.000248,9.6e-05,0.000216,0.000872,0.000328,0.00016,0.000136,0.001184,9.6e-05,5.6e-05,5.6e-05,5.6e-05,0.001112,0.000208,0.000368,0.000272,5.6e-05,5.6e-05,0.000512,0.001472,0.00092,0.003904,0.000136,5.6e-05,0.000192,0.00016,0.001816,0.000752,0.000616,0.010768,0.000536,0.000232,0.000992,9.6e-05,0.000704,0.001392,0.000136,5.6e-05,0.000128,5.6e-05,0.000536,0.00016,0.000632,9.6e-05,0.000128,0.00264,5.6e-05,5.6e-05,5.6e-05,0.000128,0.000856,9.6e-05,0.003416,0.009536,0.00016,9.6e-05,9.6e-05,0.000264,0.000624,0.000544,0.000896,5.6e-05,5.6e-05,0.007752,9.6e-05,0.000128,0.004128,0.000576,0.000128,0.008568,5.6e-05,5.6e-05,5.6e-05,0.00016,0.000736,0.00016,0.000192,0.000728,5.6e-05,0.00064,9.6e-05,0.000464,0.000256,0.00128,0.000384,9.6e-05,9.6e-05,5.6e-05,5.6e-05,0.002,5.6e-05,0.000304,0.000128,0.000408,5.6e-05,0.000384,0.000376,0.002256,5.6e-05,5.6e-05,5.6e-05,0.0002,5.6e-05,0.000136,0.000344,5.6e-05,0.0002,0.000192],\"yaxis\":\"y\",\"type\":\"scatter\"},{\"hovertemplate\":\"state=edge<br>probability_of_spacefaring=%{x}<br>fraction_of_space_colonised=%{y}<extra></extra>\",\"legendgroup\":\"edge\",\"marker\":{\"color\":\"#EF553B\",\"symbol\":\"circle\"},\"mode\":\"markers\",\"name\":\"edge\",\"orientation\":\"v\",\"showlegend\":true,\"x\":[0.3,0.3,0.31,0.31,0.36,0.32,0.38,0.42,0.34,0.4,0.44,0.36,0.42,0.46,0.38,0.44,0.34,0.36,0.46,0.38,0.4,0.44,0.36,0.42,0.32,0.46,0.4,0.34,0.38,0.32,0.44,0.42,0.36,0.46,0.4,0.34,0.36,0.44,0.38,0.42,0.32,0.4,0.46,0.36,0.34,0.42,0.38,0.4,0.36,0.33,0.46,0.38,0.44,0.35,0.42,0.33,0.46,0.36,0.38,0.44,0.33,0.42,0.4,0.37,0.35,0.33,0.39,0.46,0.44,0.41,0.42,0.41,0.39,0.46,0.45,0.37,0.43,0.39,0.47,0.35,0.41,0.45,0.43,0.37,0.39,0.35,0.47,0.41,0.43,0.45,0.48,0.39,0.41,0.37,0.47,0.45,0.48,0.43,0.39,0.41,0.47,0.5,0.45,0.43,0.48,0.37,0.39,0.5,0.41,0.37,0.43,0.48,0.47,0.45,0.39,0.41,0.5,0.37,0.47,0.45,0.39,0.43,0.41,0.52,0.48,0.5,0.43,0.45,0.39,0.47,0.41,0.52,0.48,0.43,0.47,0.54,0.45,0.5,0.56,0.52,0.48,0.45,0.47,0.54,0.56,0.52,0.58,0.5,0.48,0.47,0.54,0.56,0.52,0.58,0.5,0.52,0.56,0.48,0.54,0.52,0.5,0.56,0.58,0.49,0.52,0.54,0.5,0.52,0.49,0.58,0.56,0.51,0.54,0.52,0.51,0.49,0.56,0.53,0.51,0.58,0.54,0.53,0.51,0.49,0.56,0.53,0.58,0.54,0.51,0.53,0.49,0.56,0.51,0.58,0.53,0.51,0.54,0.49,0.56,0.53,0.58,0.51,0.54,0.53,0.51,0.49,0.57,0.58,0.51,0.55,0.53,0.49,0.58,0.53,0.57,0.49,0.53,0.55,0.59,0.49,0.57,0.55,0.59,0.57,0.55,0.59,0.57,0.55,0.59,0.57,0.59,0.55,0.57,0.55,0.59,0.57,0.59,0.55,0.57,0.55,0.59,0.57,0.55,0.59,0.59],\"xaxis\":\"x\",\"y\":[0.025064,0.016272,0.04228,0.052656,0.479888,0.109152,0.755208,0.838064,0.390504,0.81052,0.868088,0.64348,0.848664,0.88672,0.752088,0.869512,0.29112,0.437016,0.888208,0.712952,0.812632,0.873624,0.62324,0.840376,0.103272,0.888568,0.801584,0.328024,0.7518,0.077136,0.868632,0.836792,0.610512,0.891632,0.808224,0.350032,0.579584,0.865304,0.744672,0.843056,0.067256,0.810368,0.883072,0.59112,0.366696,0.850224,0.733128,0.815568,0.600032,0.203096,0.88908,0.747856,0.865464,0.46616,0.846464,0.229792,0.890224,0.575352,0.744376,0.867096,0.10212,0.840168,0.801936,0.614696,0.55628,0.197432,0.784792,0.885152,0.871768,0.826944,0.84428,0.823768,0.792512,0.886824,0.881624,0.661624,0.85768,0.764224,0.896256,0.482896,0.815616,0.879608,0.85768,0.697256,0.779592,0.557744,0.89132,0.824768,0.85544,0.881016,0.90228,0.775368,0.829928,0.565504,0.896256,0.882496,0.902928,0.858784,0.791616,0.82432,0.895808,0.911664,0.880552,0.856576,0.903528,0.690776,0.792952,0.911488,0.82572,0.69652,0.857768,0.900568,0.896776,0.8828,0.767224,0.815704,0.91376,0.712744,0.89152,0.877136,0.706248,0.854296,0.822312,0.921896,0.901488,0.91164,0.856608,0.879552,0.755712,0.89528,0.82436,0.920384,0.899936,0.859384,0.895968,0.928664,0.877272,0.913312,0.935384,0.92076,0.903528,0.876232,0.894688,0.929888,0.93348,0.920648,0.939568,0.913056,0.900856,0.89416,0.929856,0.934632,0.92052,0.93996,0.91316,0.92228,0.935696,0.904728,0.930496,0.922424,0.912024,0.935752,0.940672,0.907832,0.92132,0.928976,0.91096,0.922376,0.906864,0.941192,0.93596,0.916728,0.928976,0.921944,0.918872,0.908784,0.935816,0.926584,0.919328,0.940528,0.927424,0.925392,0.918056,0.910464,0.935088,0.924312,0.941584,0.930264,0.919136,0.924528,0.9046,0.935608,0.918056,0.940744,0.926688,0.917992,0.92768,0.908968,0.935688,0.923744,0.940544,0.915976,0.929424,0.926792,0.916792,0.90796,0.937856,0.940224,0.917664,0.933976,0.924856,0.907184,0.941152,0.925656,0.93768,0.907712,0.927168,0.933384,0.942672,0.908944,0.936176,0.932792,0.942096,0.937424,0.93156,0.942904,0.937912,0.932712,0.942712,0.938352,0.943024,0.933208,0.937768,0.932744,0.942752,0.937784,0.943368,0.932264,0.937176,0.932616,0.942488,0.938552,0.932632,0.941312,0.943696],\"yaxis\":\"y\",\"type\":\"scatter\"},{\"hovertemplate\":\"state=expanding<br>probability_of_spacefaring=%{x}<br>fraction_of_space_colonised=%{y}<extra></extra>\",\"legendgroup\":\"expanding\",\"marker\":{\"color\":\"#00cc96\",\"symbol\":\"circle\"},\"mode\":\"markers\",\"name\":\"expanding\",\"orientation\":\"v\",\"showlegend\":true,\"x\":[0.31],\"xaxis\":\"x\",\"y\":[0.011768],\"yaxis\":\"y\",\"type\":\"scatter\"}],                        {\"template\":{\"data\":{\"histogram2dcontour\":[{\"type\":\"histogram2dcontour\",\"colorbar\":{\"outlinewidth\":0,\"ticks\":\"\"},\"colorscale\":[[0.0,\"#0d0887\"],[0.1111111111111111,\"#46039f\"],[0.2222222222222222,\"#7201a8\"],[0.3333333333333333,\"#9c179e\"],[0.4444444444444444,\"#bd3786\"],[0.5555555555555556,\"#d8576b\"],[0.6666666666666666,\"#ed7953\"],[0.7777777777777778,\"#fb9f3a\"],[0.8888888888888888,\"#fdca26\"],[1.0,\"#f0f921\"]]}],\"choropleth\":[{\"type\":\"choropleth\",\"colorbar\":{\"outlinewidth\":0,\"ticks\":\"\"}}],\"histogram2d\":[{\"type\":\"histogram2d\",\"colorbar\":{\"outlinewidth\":0,\"ticks\":\"\"},\"colorscale\":[[0.0,\"#0d0887\"],[0.1111111111111111,\"#46039f\"],[0.2222222222222222,\"#7201a8\"],[0.3333333333333333,\"#9c179e\"],[0.4444444444444444,\"#bd3786\"],[0.5555555555555556,\"#d8576b\"],[0.6666666666666666,\"#ed7953\"],[0.7777777777777778,\"#fb9f3a\"],[0.8888888888888888,\"#fdca26\"],[1.0,\"#f0f921\"]]}],\"heatmap\":[{\"type\":\"heatmap\",\"colorbar\":{\"outlinewidth\":0,\"ticks\":\"\"},\"colorscale\":[[0.0,\"#0d0887\"],[0.1111111111111111,\"#46039f\"],[0.2222222222222222,\"#7201a8\"],[0.3333333333333333,\"#9c179e\"],[0.4444444444444444,\"#bd3786\"],[0.5555555555555556,\"#d8576b\"],[0.6666666666666666,\"#ed7953\"],[0.7777777777777778,\"#fb9f3a\"],[0.8888888888888888,\"#fdca26\"],[1.0,\"#f0f921\"]]}],\"heatmapgl\":[{\"type\":\"heatmapgl\",\"colorbar\":{\"outlinewidth\":0,\"ticks\":\"\"},\"colorscale\":[[0.0,\"#0d0887\"],[0.1111111111111111,\"#46039f\"],[0.2222222222222222,\"#7201a8\"],[0.3333333333333333,\"#9c179e\"],[0.4444444444444444,\"#bd3786\"],[0.5555555555555556,\"#d8576b\"],[0.6666666666666666,\"#ed7953\"],[0.7777777777777778,\"#fb9f3a\"],[0.8888888888888888,\"#fdca26\"],[1.0,\"#f0f921\"]]}],\"contourcarpet\":[{\"type\":\"contourcarpet\",\"colorbar\":{\"outlinewidth\":0,\"ticks\":\"\"}}],\"contour\":[{\"type\":\"contour\",\"colorbar\":{\"outlinewidth\":0,\"ticks\":\"\"},\"colorscale\":[[0.0,\"#0d0887\"],[0.1111111111111111,\"#46039f\"],[0.2222222222222222,\"#7201a8\"],[0.3333333333333333,\"#9c179e\"],[0.4444444444444444,\"#bd3786\"],[0.5555555555555556,\"#d8576b\"],[0.6666666666666666,\"#ed7953\"],[0.7777777777777778,\"#fb9f3a\"],[0.8888888888888888,\"#fdca26\"],[1.0,\"#f0f921\"]]}],\"surface\":[{\"type\":\"surface\",\"colorbar\":{\"outlinewidth\":0,\"ticks\":\"\"},\"colorscale\":[[0.0,\"#0d0887\"],[0.1111111111111111,\"#46039f\"],[0.2222222222222222,\"#7201a8\"],[0.3333333333333333,\"#9c179e\"],[0.4444444444444444,\"#bd3786\"],[0.5555555555555556,\"#d8576b\"],[0.6666666666666666,\"#ed7953\"],[0.7777777777777778,\"#fb9f3a\"],[0.8888888888888888,\"#fdca26\"],[1.0,\"#f0f921\"]]}],\"mesh3d\":[{\"type\":\"mesh3d\",\"colorbar\":{\"outlinewidth\":0,\"ticks\":\"\"}}],\"scatter\":[{\"fillpattern\":{\"fillmode\":\"overlay\",\"size\":10,\"solidity\":0.2},\"type\":\"scatter\"}],\"parcoords\":[{\"type\":\"parcoords\",\"line\":{\"colorbar\":{\"outlinewidth\":0,\"ticks\":\"\"}}}],\"scatterpolargl\":[{\"type\":\"scatterpolargl\",\"marker\":{\"colorbar\":{\"outlinewidth\":0,\"ticks\":\"\"}}}],\"bar\":[{\"error_x\":{\"color\":\"#2a3f5f\"},\"error_y\":{\"color\":\"#2a3f5f\"},\"marker\":{\"line\":{\"color\":\"#E5ECF6\",\"width\":0.5},\"pattern\":{\"fillmode\":\"overlay\",\"size\":10,\"solidity\":0.2}},\"type\":\"bar\"}],\"scattergeo\":[{\"type\":\"scattergeo\",\"marker\":{\"colorbar\":{\"outlinewidth\":0,\"ticks\":\"\"}}}],\"scatterpolar\":[{\"type\":\"scatterpolar\",\"marker\":{\"colorbar\":{\"outlinewidth\":0,\"ticks\":\"\"}}}],\"histogram\":[{\"marker\":{\"pattern\":{\"fillmode\":\"overlay\",\"size\":10,\"solidity\":0.2}},\"type\":\"histogram\"}],\"scattergl\":[{\"type\":\"scattergl\",\"marker\":{\"colorbar\":{\"outlinewidth\":0,\"ticks\":\"\"}}}],\"scatter3d\":[{\"type\":\"scatter3d\",\"line\":{\"colorbar\":{\"outlinewidth\":0,\"ticks\":\"\"}},\"marker\":{\"colorbar\":{\"outlinewidth\":0,\"ticks\":\"\"}}}],\"scattermapbox\":[{\"type\":\"scattermapbox\",\"marker\":{\"colorbar\":{\"outlinewidth\":0,\"ticks\":\"\"}}}],\"scatterternary\":[{\"type\":\"scatterternary\",\"marker\":{\"colorbar\":{\"outlinewidth\":0,\"ticks\":\"\"}}}],\"scattercarpet\":[{\"type\":\"scattercarpet\",\"marker\":{\"colorbar\":{\"outlinewidth\":0,\"ticks\":\"\"}}}],\"carpet\":[{\"aaxis\":{\"endlinecolor\":\"#2a3f5f\",\"gridcolor\":\"white\",\"linecolor\":\"white\",\"minorgridcolor\":\"white\",\"startlinecolor\":\"#2a3f5f\"},\"baxis\":{\"endlinecolor\":\"#2a3f5f\",\"gridcolor\":\"white\",\"linecolor\":\"white\",\"minorgridcolor\":\"white\",\"startlinecolor\":\"#2a3f5f\"},\"type\":\"carpet\"}],\"table\":[{\"cells\":{\"fill\":{\"color\":\"#EBF0F8\"},\"line\":{\"color\":\"white\"}},\"header\":{\"fill\":{\"color\":\"#C8D4E3\"},\"line\":{\"color\":\"white\"}},\"type\":\"table\"}],\"barpolar\":[{\"marker\":{\"line\":{\"color\":\"#E5ECF6\",\"width\":0.5},\"pattern\":{\"fillmode\":\"overlay\",\"size\":10,\"solidity\":0.2}},\"type\":\"barpolar\"}],\"pie\":[{\"automargin\":true,\"type\":\"pie\"}]},\"layout\":{\"autotypenumbers\":\"strict\",\"colorway\":[\"#636efa\",\"#EF553B\",\"#00cc96\",\"#ab63fa\",\"#FFA15A\",\"#19d3f3\",\"#FF6692\",\"#B6E880\",\"#FF97FF\",\"#FECB52\"],\"font\":{\"color\":\"#2a3f5f\"},\"hovermode\":\"closest\",\"hoverlabel\":{\"align\":\"left\"},\"paper_bgcolor\":\"white\",\"plot_bgcolor\":\"#E5ECF6\",\"polar\":{\"bgcolor\":\"#E5ECF6\",\"angularaxis\":{\"gridcolor\":\"white\",\"linecolor\":\"white\",\"ticks\":\"\"},\"radialaxis\":{\"gridcolor\":\"white\",\"linecolor\":\"white\",\"ticks\":\"\"}},\"ternary\":{\"bgcolor\":\"#E5ECF6\",\"aaxis\":{\"gridcolor\":\"white\",\"linecolor\":\"white\",\"ticks\":\"\"},\"baxis\":{\"gridcolor\":\"white\",\"linecolor\":\"white\",\"ticks\":\"\"},\"caxis\":{\"gridcolor\":\"white\",\"linecolor\":\"white\",\"ticks\":\"\"}},\"coloraxis\":{\"colorbar\":{\"outlinewidth\":0,\"ticks\":\"\"}},\"colorscale\":{\"sequential\":[[0.0,\"#0d0887\"],[0.1111111111111111,\"#46039f\"],[0.2222222222222222,\"#7201a8\"],[0.3333333333333333,\"#9c179e\"],[0.4444444444444444,\"#bd3786\"],[0.5555555555555556,\"#d8576b\"],[0.6666666666666666,\"#ed7953\"],[0.7777777777777778,\"#fb9f3a\"],[0.8888888888888888,\"#fdca26\"],[1.0,\"#f0f921\"]],\"sequentialminus\":[[0.0,\"#0d0887\"],[0.1111111111111111,\"#46039f\"],[0.2222222222222222,\"#7201a8\"],[0.3333333333333333,\"#9c179e\"],[0.4444444444444444,\"#bd3786\"],[0.5555555555555556,\"#d8576b\"],[0.6666666666666666,\"#ed7953\"],[0.7777777777777778,\"#fb9f3a\"],[0.8888888888888888,\"#fdca26\"],[1.0,\"#f0f921\"]],\"diverging\":[[0,\"#8e0152\"],[0.1,\"#c51b7d\"],[0.2,\"#de77ae\"],[0.3,\"#f1b6da\"],[0.4,\"#fde0ef\"],[0.5,\"#f7f7f7\"],[0.6,\"#e6f5d0\"],[0.7,\"#b8e186\"],[0.8,\"#7fbc41\"],[0.9,\"#4d9221\"],[1,\"#276419\"]]},\"xaxis\":{\"gridcolor\":\"white\",\"linecolor\":\"white\",\"ticks\":\"\",\"title\":{\"standoff\":15},\"zerolinecolor\":\"white\",\"automargin\":true,\"zerolinewidth\":2},\"yaxis\":{\"gridcolor\":\"white\",\"linecolor\":\"white\",\"ticks\":\"\",\"title\":{\"standoff\":15},\"zerolinecolor\":\"white\",\"automargin\":true,\"zerolinewidth\":2},\"scene\":{\"xaxis\":{\"backgroundcolor\":\"#E5ECF6\",\"gridcolor\":\"white\",\"linecolor\":\"white\",\"showbackground\":true,\"ticks\":\"\",\"zerolinecolor\":\"white\",\"gridwidth\":2},\"yaxis\":{\"backgroundcolor\":\"#E5ECF6\",\"gridcolor\":\"white\",\"linecolor\":\"white\",\"showbackground\":true,\"ticks\":\"\",\"zerolinecolor\":\"white\",\"gridwidth\":2},\"zaxis\":{\"backgroundcolor\":\"#E5ECF6\",\"gridcolor\":\"white\",\"linecolor\":\"white\",\"showbackground\":true,\"ticks\":\"\",\"zerolinecolor\":\"white\",\"gridwidth\":2}},\"shapedefaults\":{\"line\":{\"color\":\"#2a3f5f\"}},\"annotationdefaults\":{\"arrowcolor\":\"#2a3f5f\",\"arrowhead\":0,\"arrowwidth\":1},\"geo\":{\"bgcolor\":\"white\",\"landcolor\":\"#E5ECF6\",\"subunitcolor\":\"white\",\"showland\":true,\"showlakes\":true,\"lakecolor\":\"white\"},\"title\":{\"x\":0.05},\"mapbox\":{\"style\":\"light\"}}},\"xaxis\":{\"anchor\":\"y\",\"domain\":[0.0,1.0],\"title\":{\"text\":\"probability_of_spacefaring\"}},\"yaxis\":{\"anchor\":\"x\",\"domain\":[0.0,1.0],\"title\":{\"text\":\"fraction_of_space_colonised\"},\"type\":\"log\"},\"legend\":{\"title\":{\"text\":\"state\"},\"tracegroupgap\":0},\"margin\":{\"t\":60}},                        {\"responsive\": true}                    ).then(function(){\n",
              "                            \n",
              "var gd = document.getElementById('49cb0902-d9be-446d-ad0d-afe82a5801ea');\n",
              "var x = new MutationObserver(function (mutations, observer) {{\n",
              "        var display = window.getComputedStyle(gd).display;\n",
              "        if (!display || display === 'none') {{\n",
              "            console.log([gd, 'removed!']);\n",
              "            Plotly.purge(gd);\n",
              "            observer.disconnect();\n",
              "        }}\n",
              "}});\n",
              "\n",
              "// Listen for the removal of the full notebook cells\n",
              "var notebookContainer = gd.closest('#notebook-container');\n",
              "if (notebookContainer) {{\n",
              "    x.observe(notebookContainer, {childList: true});\n",
              "}}\n",
              "\n",
              "// Listen for the clearing of the current output cell\n",
              "var outputEl = gd.closest('.output');\n",
              "if (outputEl) {{\n",
              "    x.observe(outputEl, {childList: true});\n",
              "}}\n",
              "\n",
              "                        })                };                });            </script>        </div>"
            ]
          },
          "metadata": {},
          "output_type": "display_data"
        }
      ],
      "source": [
        "fig = px.scatter(df, x=\"probability_of_spacefaring\", y=\"fraction_of_space_colonised\", color=\"state\",log_y=True)\n",
        "fig.show()"
      ]
    },
    {
      "cell_type": "code",
      "execution_count": null,
      "metadata": {
        "id": "bB9QGyjzY6M1"
      },
      "outputs": [],
      "source": [
        "stats = df.groupby(\"probability_of_spacefaring\").agg({\"fraction_of_space_colonised\":['mean','std']})"
      ]
    },
    {
      "cell_type": "code",
      "execution_count": null,
      "metadata": {
        "id": "XjsYL97cY6M1",
        "outputId": "84172e58-f4d9-4f66-b694-756791bdedd2"
      },
      "outputs": [
        {
          "data": {
            "text/html": [
              "<div>\n",
              "<style scoped>\n",
              "    .dataframe tbody tr th:only-of-type {\n",
              "        vertical-align: middle;\n",
              "    }\n",
              "\n",
              "    .dataframe tbody tr th {\n",
              "        vertical-align: top;\n",
              "    }\n",
              "\n",
              "    .dataframe thead tr th {\n",
              "        text-align: left;\n",
              "    }\n",
              "\n",
              "    .dataframe thead tr:last-of-type th {\n",
              "        text-align: right;\n",
              "    }\n",
              "</style>\n",
              "<table border=\"1\" class=\"dataframe\">\n",
              "  <thead>\n",
              "    <tr>\n",
              "      <th></th>\n",
              "      <th colspan=\"2\" halign=\"left\">fraction_of_space_colonised</th>\n",
              "    </tr>\n",
              "    <tr>\n",
              "      <th></th>\n",
              "      <th>mean</th>\n",
              "      <th>std</th>\n",
              "    </tr>\n",
              "    <tr>\n",
              "      <th>probability_of_spacefaring</th>\n",
              "      <th></th>\n",
              "      <th></th>\n",
              "    </tr>\n",
              "  </thead>\n",
              "  <tbody>\n",
              "    <tr>\n",
              "      <th>0.00</th>\n",
              "      <td>0.000056</td>\n",
              "      <td>0.000000</td>\n",
              "    </tr>\n",
              "    <tr>\n",
              "      <th>0.01</th>\n",
              "      <td>0.000060</td>\n",
              "      <td>0.000013</td>\n",
              "    </tr>\n",
              "    <tr>\n",
              "      <th>0.02</th>\n",
              "      <td>0.000060</td>\n",
              "      <td>0.000013</td>\n",
              "    </tr>\n",
              "    <tr>\n",
              "      <th>0.03</th>\n",
              "      <td>0.000056</td>\n",
              "      <td>0.000000</td>\n",
              "    </tr>\n",
              "    <tr>\n",
              "      <th>0.04</th>\n",
              "      <td>0.000071</td>\n",
              "      <td>0.000026</td>\n",
              "    </tr>\n",
              "  </tbody>\n",
              "</table>\n",
              "</div>"
            ],
            "text/plain": [
              "                           fraction_of_space_colonised          \n",
              "                                                  mean       std\n",
              "probability_of_spacefaring                                      \n",
              "0.00                                          0.000056  0.000000\n",
              "0.01                                          0.000060  0.000013\n",
              "0.02                                          0.000060  0.000013\n",
              "0.03                                          0.000056  0.000000\n",
              "0.04                                          0.000071  0.000026"
            ]
          },
          "execution_count": 27,
          "metadata": {},
          "output_type": "execute_result"
        }
      ],
      "source": [
        "stats.head()"
      ]
    },
    {
      "cell_type": "code",
      "execution_count": null,
      "metadata": {
        "id": "N3bXpYlVY6M1",
        "outputId": "16ec113e-a377-4b24-e37d-ee190ce9a742"
      },
      "outputs": [
        {
          "data": {
            "application/vnd.plotly.v1+json": {
              "config": {
                "plotlyServerURL": "https://plot.ly"
              },
              "data": [
                {
                  "error_y": {
                    "array": [
                      0,
                      0.000012649110640673518,
                      0.000012649110640673518,
                      0,
                      0.000025977768272976113,
                      0.000016865480854231357,
                      0.0000210818510677892,
                      0.00002625007936495939,
                      0.000056875692913971996,
                      0.000024787093415727466,
                      0.00004447021475099935,
                      0.00008691860815984369,
                      0.0000371806401235912,
                      0.0000834841302284452,
                      0.00009803763449705311,
                      0.00003502380143083652,
                      0.00008763966631104383,
                      0.0001402575408945194,
                      0.00024058595137704943,
                      0.00014771504098545055,
                      0.0001661570876543573,
                      0.00030484094213212244,
                      0.00039578669900732026,
                      0.00028497298117540897,
                      0.00016729162826898685,
                      0.0006478984831317668,
                      0.0009496707265620485,
                      0.0011453390764310802,
                      0.002572804228852246,
                      0.003791198133689255,
                      0.00849953594550249,
                      0.01887261671075612,
                      0.04723191711073727,
                      0.09967440154066082,
                      0.1836267797947178,
                      0.2674844838944246,
                      0.1915016455625266,
                      0.3230595703730196,
                      0.31335831044391765,
                      0.026118337738497505,
                      0.3906193928931048,
                      0.004537540009006338,
                      0.26662446588880184,
                      0.27099336630043996,
                      0.3662555567590598,
                      0.002308148117719769,
                      0.2806818800690759,
                      0.0019449643698536076,
                      0.2852883903059811,
                      0.0015668757874615954,
                      0.28844564185116983,
                      0.0011010863322696923,
                      0.0008215969273987553,
                      0.0011961255972699444,
                      0.0010330860779453424,
                      0.0006486877009265054,
                      0.0007540944827333587,
                      0.0006578969861949818,
                      0.000602848939987781,
                      0.0006603627286070204
                    ],
                    "type": "data",
                    "visible": true
                  },
                  "mode": "markers",
                  "type": "scatter",
                  "x": [
                    0,
                    0.01,
                    0.02,
                    0.03,
                    0.04,
                    0.05,
                    0.06,
                    0.07,
                    0.08,
                    0.09,
                    0.1,
                    0.11,
                    0.12,
                    0.13,
                    0.14,
                    0.15,
                    0.16,
                    0.17,
                    0.18,
                    0.19,
                    0.2,
                    0.21,
                    0.22,
                    0.23,
                    0.24,
                    0.25,
                    0.26,
                    0.27,
                    0.28,
                    0.29,
                    0.3,
                    0.31,
                    0.32,
                    0.33,
                    0.34,
                    0.35,
                    0.36,
                    0.37,
                    0.38,
                    0.39,
                    0.4,
                    0.41,
                    0.42,
                    0.43,
                    0.44,
                    0.45,
                    0.46,
                    0.47,
                    0.48,
                    0.49,
                    0.5,
                    0.51,
                    0.52,
                    0.53,
                    0.54,
                    0.55,
                    0.56,
                    0.57,
                    0.58,
                    0.59
                  ],
                  "y": [
                    0.00005599999999999999,
                    0.000059999999999999995,
                    0.00006000000000000001,
                    0.00005599999999999999,
                    0.0000712,
                    0.000064,
                    0.000076,
                    0.0000792,
                    0.0000968,
                    0.0000672,
                    0.00010640000000000001,
                    0.0001408,
                    0.0000928,
                    0.0001256,
                    0.00016639999999999998,
                    0.000092,
                    0.0001464,
                    0.0001392,
                    0.0002256,
                    0.0001648,
                    0.0002432,
                    0.000232,
                    0.000356,
                    0.0004744,
                    0.0002496,
                    0.00062,
                    0.0008664,
                    0.0010136,
                    0.0019976,
                    0.0027288,
                    0.005239199999999999,
                    0.012907199999999999,
                    0.0360248,
                    0.0735184,
                    0.172732,
                    0.2066624,
                    0.5140863999999999,
                    0.46395759999999997,
                    0.5942336,
                    0.7710239999999999,
                    0.5661072,
                    0.823344,
                    0.7588184,
                    0.7714407999999999,
                    0.6949599999999999,
                    0.8798288,
                    0.798964,
                    0.8948031999999999,
                    0.8119896000000001,
                    0.9079311999999999,
                    0.8211264,
                    0.9178599999999999,
                    0.9214551999999999,
                    0.9255720000000001,
                    0.9291648,
                    0.9327888,
                    0.9353104,
                    0.9376680000000001,
                    0.9406167999999999,
                    0.9427023999999999
                  ]
                }
              ],
              "layout": {
                "template": {
                  "data": {
                    "bar": [
                      {
                        "error_x": {
                          "color": "#2a3f5f"
                        },
                        "error_y": {
                          "color": "#2a3f5f"
                        },
                        "marker": {
                          "line": {
                            "color": "#E5ECF6",
                            "width": 0.5
                          },
                          "pattern": {
                            "fillmode": "overlay",
                            "size": 10,
                            "solidity": 0.2
                          }
                        },
                        "type": "bar"
                      }
                    ],
                    "barpolar": [
                      {
                        "marker": {
                          "line": {
                            "color": "#E5ECF6",
                            "width": 0.5
                          },
                          "pattern": {
                            "fillmode": "overlay",
                            "size": 10,
                            "solidity": 0.2
                          }
                        },
                        "type": "barpolar"
                      }
                    ],
                    "carpet": [
                      {
                        "aaxis": {
                          "endlinecolor": "#2a3f5f",
                          "gridcolor": "white",
                          "linecolor": "white",
                          "minorgridcolor": "white",
                          "startlinecolor": "#2a3f5f"
                        },
                        "baxis": {
                          "endlinecolor": "#2a3f5f",
                          "gridcolor": "white",
                          "linecolor": "white",
                          "minorgridcolor": "white",
                          "startlinecolor": "#2a3f5f"
                        },
                        "type": "carpet"
                      }
                    ],
                    "choropleth": [
                      {
                        "colorbar": {
                          "outlinewidth": 0,
                          "ticks": ""
                        },
                        "type": "choropleth"
                      }
                    ],
                    "contour": [
                      {
                        "colorbar": {
                          "outlinewidth": 0,
                          "ticks": ""
                        },
                        "colorscale": [
                          [
                            0,
                            "#0d0887"
                          ],
                          [
                            0.1111111111111111,
                            "#46039f"
                          ],
                          [
                            0.2222222222222222,
                            "#7201a8"
                          ],
                          [
                            0.3333333333333333,
                            "#9c179e"
                          ],
                          [
                            0.4444444444444444,
                            "#bd3786"
                          ],
                          [
                            0.5555555555555556,
                            "#d8576b"
                          ],
                          [
                            0.6666666666666666,
                            "#ed7953"
                          ],
                          [
                            0.7777777777777778,
                            "#fb9f3a"
                          ],
                          [
                            0.8888888888888888,
                            "#fdca26"
                          ],
                          [
                            1,
                            "#f0f921"
                          ]
                        ],
                        "type": "contour"
                      }
                    ],
                    "contourcarpet": [
                      {
                        "colorbar": {
                          "outlinewidth": 0,
                          "ticks": ""
                        },
                        "type": "contourcarpet"
                      }
                    ],
                    "heatmap": [
                      {
                        "colorbar": {
                          "outlinewidth": 0,
                          "ticks": ""
                        },
                        "colorscale": [
                          [
                            0,
                            "#0d0887"
                          ],
                          [
                            0.1111111111111111,
                            "#46039f"
                          ],
                          [
                            0.2222222222222222,
                            "#7201a8"
                          ],
                          [
                            0.3333333333333333,
                            "#9c179e"
                          ],
                          [
                            0.4444444444444444,
                            "#bd3786"
                          ],
                          [
                            0.5555555555555556,
                            "#d8576b"
                          ],
                          [
                            0.6666666666666666,
                            "#ed7953"
                          ],
                          [
                            0.7777777777777778,
                            "#fb9f3a"
                          ],
                          [
                            0.8888888888888888,
                            "#fdca26"
                          ],
                          [
                            1,
                            "#f0f921"
                          ]
                        ],
                        "type": "heatmap"
                      }
                    ],
                    "heatmapgl": [
                      {
                        "colorbar": {
                          "outlinewidth": 0,
                          "ticks": ""
                        },
                        "colorscale": [
                          [
                            0,
                            "#0d0887"
                          ],
                          [
                            0.1111111111111111,
                            "#46039f"
                          ],
                          [
                            0.2222222222222222,
                            "#7201a8"
                          ],
                          [
                            0.3333333333333333,
                            "#9c179e"
                          ],
                          [
                            0.4444444444444444,
                            "#bd3786"
                          ],
                          [
                            0.5555555555555556,
                            "#d8576b"
                          ],
                          [
                            0.6666666666666666,
                            "#ed7953"
                          ],
                          [
                            0.7777777777777778,
                            "#fb9f3a"
                          ],
                          [
                            0.8888888888888888,
                            "#fdca26"
                          ],
                          [
                            1,
                            "#f0f921"
                          ]
                        ],
                        "type": "heatmapgl"
                      }
                    ],
                    "histogram": [
                      {
                        "marker": {
                          "pattern": {
                            "fillmode": "overlay",
                            "size": 10,
                            "solidity": 0.2
                          }
                        },
                        "type": "histogram"
                      }
                    ],
                    "histogram2d": [
                      {
                        "colorbar": {
                          "outlinewidth": 0,
                          "ticks": ""
                        },
                        "colorscale": [
                          [
                            0,
                            "#0d0887"
                          ],
                          [
                            0.1111111111111111,
                            "#46039f"
                          ],
                          [
                            0.2222222222222222,
                            "#7201a8"
                          ],
                          [
                            0.3333333333333333,
                            "#9c179e"
                          ],
                          [
                            0.4444444444444444,
                            "#bd3786"
                          ],
                          [
                            0.5555555555555556,
                            "#d8576b"
                          ],
                          [
                            0.6666666666666666,
                            "#ed7953"
                          ],
                          [
                            0.7777777777777778,
                            "#fb9f3a"
                          ],
                          [
                            0.8888888888888888,
                            "#fdca26"
                          ],
                          [
                            1,
                            "#f0f921"
                          ]
                        ],
                        "type": "histogram2d"
                      }
                    ],
                    "histogram2dcontour": [
                      {
                        "colorbar": {
                          "outlinewidth": 0,
                          "ticks": ""
                        },
                        "colorscale": [
                          [
                            0,
                            "#0d0887"
                          ],
                          [
                            0.1111111111111111,
                            "#46039f"
                          ],
                          [
                            0.2222222222222222,
                            "#7201a8"
                          ],
                          [
                            0.3333333333333333,
                            "#9c179e"
                          ],
                          [
                            0.4444444444444444,
                            "#bd3786"
                          ],
                          [
                            0.5555555555555556,
                            "#d8576b"
                          ],
                          [
                            0.6666666666666666,
                            "#ed7953"
                          ],
                          [
                            0.7777777777777778,
                            "#fb9f3a"
                          ],
                          [
                            0.8888888888888888,
                            "#fdca26"
                          ],
                          [
                            1,
                            "#f0f921"
                          ]
                        ],
                        "type": "histogram2dcontour"
                      }
                    ],
                    "mesh3d": [
                      {
                        "colorbar": {
                          "outlinewidth": 0,
                          "ticks": ""
                        },
                        "type": "mesh3d"
                      }
                    ],
                    "parcoords": [
                      {
                        "line": {
                          "colorbar": {
                            "outlinewidth": 0,
                            "ticks": ""
                          }
                        },
                        "type": "parcoords"
                      }
                    ],
                    "pie": [
                      {
                        "automargin": true,
                        "type": "pie"
                      }
                    ],
                    "scatter": [
                      {
                        "fillpattern": {
                          "fillmode": "overlay",
                          "size": 10,
                          "solidity": 0.2
                        },
                        "type": "scatter"
                      }
                    ],
                    "scatter3d": [
                      {
                        "line": {
                          "colorbar": {
                            "outlinewidth": 0,
                            "ticks": ""
                          }
                        },
                        "marker": {
                          "colorbar": {
                            "outlinewidth": 0,
                            "ticks": ""
                          }
                        },
                        "type": "scatter3d"
                      }
                    ],
                    "scattercarpet": [
                      {
                        "marker": {
                          "colorbar": {
                            "outlinewidth": 0,
                            "ticks": ""
                          }
                        },
                        "type": "scattercarpet"
                      }
                    ],
                    "scattergeo": [
                      {
                        "marker": {
                          "colorbar": {
                            "outlinewidth": 0,
                            "ticks": ""
                          }
                        },
                        "type": "scattergeo"
                      }
                    ],
                    "scattergl": [
                      {
                        "marker": {
                          "colorbar": {
                            "outlinewidth": 0,
                            "ticks": ""
                          }
                        },
                        "type": "scattergl"
                      }
                    ],
                    "scattermapbox": [
                      {
                        "marker": {
                          "colorbar": {
                            "outlinewidth": 0,
                            "ticks": ""
                          }
                        },
                        "type": "scattermapbox"
                      }
                    ],
                    "scatterpolar": [
                      {
                        "marker": {
                          "colorbar": {
                            "outlinewidth": 0,
                            "ticks": ""
                          }
                        },
                        "type": "scatterpolar"
                      }
                    ],
                    "scatterpolargl": [
                      {
                        "marker": {
                          "colorbar": {
                            "outlinewidth": 0,
                            "ticks": ""
                          }
                        },
                        "type": "scatterpolargl"
                      }
                    ],
                    "scatterternary": [
                      {
                        "marker": {
                          "colorbar": {
                            "outlinewidth": 0,
                            "ticks": ""
                          }
                        },
                        "type": "scatterternary"
                      }
                    ],
                    "surface": [
                      {
                        "colorbar": {
                          "outlinewidth": 0,
                          "ticks": ""
                        },
                        "colorscale": [
                          [
                            0,
                            "#0d0887"
                          ],
                          [
                            0.1111111111111111,
                            "#46039f"
                          ],
                          [
                            0.2222222222222222,
                            "#7201a8"
                          ],
                          [
                            0.3333333333333333,
                            "#9c179e"
                          ],
                          [
                            0.4444444444444444,
                            "#bd3786"
                          ],
                          [
                            0.5555555555555556,
                            "#d8576b"
                          ],
                          [
                            0.6666666666666666,
                            "#ed7953"
                          ],
                          [
                            0.7777777777777778,
                            "#fb9f3a"
                          ],
                          [
                            0.8888888888888888,
                            "#fdca26"
                          ],
                          [
                            1,
                            "#f0f921"
                          ]
                        ],
                        "type": "surface"
                      }
                    ],
                    "table": [
                      {
                        "cells": {
                          "fill": {
                            "color": "#EBF0F8"
                          },
                          "line": {
                            "color": "white"
                          }
                        },
                        "header": {
                          "fill": {
                            "color": "#C8D4E3"
                          },
                          "line": {
                            "color": "white"
                          }
                        },
                        "type": "table"
                      }
                    ]
                  },
                  "layout": {
                    "annotationdefaults": {
                      "arrowcolor": "#2a3f5f",
                      "arrowhead": 0,
                      "arrowwidth": 1
                    },
                    "autotypenumbers": "strict",
                    "coloraxis": {
                      "colorbar": {
                        "outlinewidth": 0,
                        "ticks": ""
                      }
                    },
                    "colorscale": {
                      "diverging": [
                        [
                          0,
                          "#8e0152"
                        ],
                        [
                          0.1,
                          "#c51b7d"
                        ],
                        [
                          0.2,
                          "#de77ae"
                        ],
                        [
                          0.3,
                          "#f1b6da"
                        ],
                        [
                          0.4,
                          "#fde0ef"
                        ],
                        [
                          0.5,
                          "#f7f7f7"
                        ],
                        [
                          0.6,
                          "#e6f5d0"
                        ],
                        [
                          0.7,
                          "#b8e186"
                        ],
                        [
                          0.8,
                          "#7fbc41"
                        ],
                        [
                          0.9,
                          "#4d9221"
                        ],
                        [
                          1,
                          "#276419"
                        ]
                      ],
                      "sequential": [
                        [
                          0,
                          "#0d0887"
                        ],
                        [
                          0.1111111111111111,
                          "#46039f"
                        ],
                        [
                          0.2222222222222222,
                          "#7201a8"
                        ],
                        [
                          0.3333333333333333,
                          "#9c179e"
                        ],
                        [
                          0.4444444444444444,
                          "#bd3786"
                        ],
                        [
                          0.5555555555555556,
                          "#d8576b"
                        ],
                        [
                          0.6666666666666666,
                          "#ed7953"
                        ],
                        [
                          0.7777777777777778,
                          "#fb9f3a"
                        ],
                        [
                          0.8888888888888888,
                          "#fdca26"
                        ],
                        [
                          1,
                          "#f0f921"
                        ]
                      ],
                      "sequentialminus": [
                        [
                          0,
                          "#0d0887"
                        ],
                        [
                          0.1111111111111111,
                          "#46039f"
                        ],
                        [
                          0.2222222222222222,
                          "#7201a8"
                        ],
                        [
                          0.3333333333333333,
                          "#9c179e"
                        ],
                        [
                          0.4444444444444444,
                          "#bd3786"
                        ],
                        [
                          0.5555555555555556,
                          "#d8576b"
                        ],
                        [
                          0.6666666666666666,
                          "#ed7953"
                        ],
                        [
                          0.7777777777777778,
                          "#fb9f3a"
                        ],
                        [
                          0.8888888888888888,
                          "#fdca26"
                        ],
                        [
                          1,
                          "#f0f921"
                        ]
                      ]
                    },
                    "colorway": [
                      "#636efa",
                      "#EF553B",
                      "#00cc96",
                      "#ab63fa",
                      "#FFA15A",
                      "#19d3f3",
                      "#FF6692",
                      "#B6E880",
                      "#FF97FF",
                      "#FECB52"
                    ],
                    "font": {
                      "color": "#2a3f5f"
                    },
                    "geo": {
                      "bgcolor": "white",
                      "lakecolor": "white",
                      "landcolor": "#E5ECF6",
                      "showlakes": true,
                      "showland": true,
                      "subunitcolor": "white"
                    },
                    "hoverlabel": {
                      "align": "left"
                    },
                    "hovermode": "closest",
                    "mapbox": {
                      "style": "light"
                    },
                    "paper_bgcolor": "white",
                    "plot_bgcolor": "#E5ECF6",
                    "polar": {
                      "angularaxis": {
                        "gridcolor": "white",
                        "linecolor": "white",
                        "ticks": ""
                      },
                      "bgcolor": "#E5ECF6",
                      "radialaxis": {
                        "gridcolor": "white",
                        "linecolor": "white",
                        "ticks": ""
                      }
                    },
                    "scene": {
                      "xaxis": {
                        "backgroundcolor": "#E5ECF6",
                        "gridcolor": "white",
                        "gridwidth": 2,
                        "linecolor": "white",
                        "showbackground": true,
                        "ticks": "",
                        "zerolinecolor": "white"
                      },
                      "yaxis": {
                        "backgroundcolor": "#E5ECF6",
                        "gridcolor": "white",
                        "gridwidth": 2,
                        "linecolor": "white",
                        "showbackground": true,
                        "ticks": "",
                        "zerolinecolor": "white"
                      },
                      "zaxis": {
                        "backgroundcolor": "#E5ECF6",
                        "gridcolor": "white",
                        "gridwidth": 2,
                        "linecolor": "white",
                        "showbackground": true,
                        "ticks": "",
                        "zerolinecolor": "white"
                      }
                    },
                    "shapedefaults": {
                      "line": {
                        "color": "#2a3f5f"
                      }
                    },
                    "ternary": {
                      "aaxis": {
                        "gridcolor": "white",
                        "linecolor": "white",
                        "ticks": ""
                      },
                      "baxis": {
                        "gridcolor": "white",
                        "linecolor": "white",
                        "ticks": ""
                      },
                      "bgcolor": "#E5ECF6",
                      "caxis": {
                        "gridcolor": "white",
                        "linecolor": "white",
                        "ticks": ""
                      }
                    },
                    "title": {
                      "x": 0.05
                    },
                    "xaxis": {
                      "automargin": true,
                      "gridcolor": "white",
                      "linecolor": "white",
                      "ticks": "",
                      "title": {
                        "standoff": 15
                      },
                      "zerolinecolor": "white",
                      "zerolinewidth": 2
                    },
                    "yaxis": {
                      "automargin": true,
                      "gridcolor": "white",
                      "linecolor": "white",
                      "ticks": "",
                      "title": {
                        "standoff": 15
                      },
                      "zerolinecolor": "white",
                      "zerolinewidth": 2
                    }
                  }
                }
              }
            },
            "text/html": [
              "<div>                            <div id=\"aa35b00e-ac75-4634-8535-12a9b2a0ea6f\" class=\"plotly-graph-div\" style=\"height:525px; width:100%;\"></div>            <script type=\"text/javascript\">                require([\"plotly\"], function(Plotly) {                    window.PLOTLYENV=window.PLOTLYENV || {};                                    if (document.getElementById(\"aa35b00e-ac75-4634-8535-12a9b2a0ea6f\")) {                    Plotly.newPlot(                        \"aa35b00e-ac75-4634-8535-12a9b2a0ea6f\",                        [{\"error_y\":{\"array\":[0.0,1.2649110640673518e-05,1.2649110640673518e-05,0.0,2.5977768272976113e-05,1.6865480854231357e-05,2.10818510677892e-05,2.625007936495939e-05,5.6875692913971996e-05,2.4787093415727466e-05,4.447021475099935e-05,8.691860815984369e-05,3.71806401235912e-05,8.34841302284452e-05,9.803763449705311e-05,3.502380143083652e-05,8.763966631104383e-05,0.0001402575408945194,0.00024058595137704943,0.00014771504098545055,0.0001661570876543573,0.00030484094213212244,0.00039578669900732026,0.00028497298117540897,0.00016729162826898685,0.0006478984831317668,0.0009496707265620485,0.0011453390764310802,0.002572804228852246,0.003791198133689255,0.00849953594550249,0.01887261671075612,0.04723191711073727,0.09967440154066082,0.1836267797947178,0.2674844838944246,0.1915016455625266,0.3230595703730196,0.31335831044391765,0.026118337738497505,0.3906193928931048,0.004537540009006338,0.26662446588880184,0.27099336630043996,0.3662555567590598,0.002308148117719769,0.2806818800690759,0.0019449643698536076,0.2852883903059811,0.0015668757874615954,0.28844564185116983,0.0011010863322696923,0.0008215969273987553,0.0011961255972699444,0.0010330860779453424,0.0006486877009265054,0.0007540944827333587,0.0006578969861949818,0.000602848939987781,0.0006603627286070204],\"type\":\"data\",\"visible\":true},\"mode\":\"markers\",\"x\":[0.0,0.01,0.02,0.03,0.04,0.05,0.06,0.07,0.08,0.09,0.1,0.11,0.12,0.13,0.14,0.15,0.16,0.17,0.18,0.19,0.2,0.21,0.22,0.23,0.24,0.25,0.26,0.27,0.28,0.29,0.3,0.31,0.32,0.33,0.34,0.35,0.36,0.37,0.38,0.39,0.4,0.41,0.42,0.43,0.44,0.45,0.46,0.47,0.48,0.49,0.5,0.51,0.52,0.53,0.54,0.55,0.56,0.57,0.58,0.59],\"y\":[5.599999999999999e-05,5.9999999999999995e-05,6.000000000000001e-05,5.599999999999999e-05,7.12e-05,6.4e-05,7.6e-05,7.92e-05,9.68e-05,6.72e-05,0.00010640000000000001,0.0001408,9.28e-05,0.0001256,0.00016639999999999998,9.2e-05,0.0001464,0.0001392,0.0002256,0.0001648,0.0002432,0.000232,0.000356,0.0004744,0.0002496,0.00062,0.0008664,0.0010136,0.0019976,0.0027288,0.005239199999999999,0.012907199999999999,0.0360248,0.0735184,0.172732,0.2066624,0.5140863999999999,0.46395759999999997,0.5942336,0.7710239999999999,0.5661072,0.823344,0.7588184,0.7714407999999999,0.6949599999999999,0.8798288,0.798964,0.8948031999999999,0.8119896000000001,0.9079311999999999,0.8211264,0.9178599999999999,0.9214551999999999,0.9255720000000001,0.9291648,0.9327888,0.9353104,0.9376680000000001,0.9406167999999999,0.9427023999999999],\"type\":\"scatter\"}],                        {\"template\":{\"data\":{\"histogram2dcontour\":[{\"type\":\"histogram2dcontour\",\"colorbar\":{\"outlinewidth\":0,\"ticks\":\"\"},\"colorscale\":[[0.0,\"#0d0887\"],[0.1111111111111111,\"#46039f\"],[0.2222222222222222,\"#7201a8\"],[0.3333333333333333,\"#9c179e\"],[0.4444444444444444,\"#bd3786\"],[0.5555555555555556,\"#d8576b\"],[0.6666666666666666,\"#ed7953\"],[0.7777777777777778,\"#fb9f3a\"],[0.8888888888888888,\"#fdca26\"],[1.0,\"#f0f921\"]]}],\"choropleth\":[{\"type\":\"choropleth\",\"colorbar\":{\"outlinewidth\":0,\"ticks\":\"\"}}],\"histogram2d\":[{\"type\":\"histogram2d\",\"colorbar\":{\"outlinewidth\":0,\"ticks\":\"\"},\"colorscale\":[[0.0,\"#0d0887\"],[0.1111111111111111,\"#46039f\"],[0.2222222222222222,\"#7201a8\"],[0.3333333333333333,\"#9c179e\"],[0.4444444444444444,\"#bd3786\"],[0.5555555555555556,\"#d8576b\"],[0.6666666666666666,\"#ed7953\"],[0.7777777777777778,\"#fb9f3a\"],[0.8888888888888888,\"#fdca26\"],[1.0,\"#f0f921\"]]}],\"heatmap\":[{\"type\":\"heatmap\",\"colorbar\":{\"outlinewidth\":0,\"ticks\":\"\"},\"colorscale\":[[0.0,\"#0d0887\"],[0.1111111111111111,\"#46039f\"],[0.2222222222222222,\"#7201a8\"],[0.3333333333333333,\"#9c179e\"],[0.4444444444444444,\"#bd3786\"],[0.5555555555555556,\"#d8576b\"],[0.6666666666666666,\"#ed7953\"],[0.7777777777777778,\"#fb9f3a\"],[0.8888888888888888,\"#fdca26\"],[1.0,\"#f0f921\"]]}],\"heatmapgl\":[{\"type\":\"heatmapgl\",\"colorbar\":{\"outlinewidth\":0,\"ticks\":\"\"},\"colorscale\":[[0.0,\"#0d0887\"],[0.1111111111111111,\"#46039f\"],[0.2222222222222222,\"#7201a8\"],[0.3333333333333333,\"#9c179e\"],[0.4444444444444444,\"#bd3786\"],[0.5555555555555556,\"#d8576b\"],[0.6666666666666666,\"#ed7953\"],[0.7777777777777778,\"#fb9f3a\"],[0.8888888888888888,\"#fdca26\"],[1.0,\"#f0f921\"]]}],\"contourcarpet\":[{\"type\":\"contourcarpet\",\"colorbar\":{\"outlinewidth\":0,\"ticks\":\"\"}}],\"contour\":[{\"type\":\"contour\",\"colorbar\":{\"outlinewidth\":0,\"ticks\":\"\"},\"colorscale\":[[0.0,\"#0d0887\"],[0.1111111111111111,\"#46039f\"],[0.2222222222222222,\"#7201a8\"],[0.3333333333333333,\"#9c179e\"],[0.4444444444444444,\"#bd3786\"],[0.5555555555555556,\"#d8576b\"],[0.6666666666666666,\"#ed7953\"],[0.7777777777777778,\"#fb9f3a\"],[0.8888888888888888,\"#fdca26\"],[1.0,\"#f0f921\"]]}],\"surface\":[{\"type\":\"surface\",\"colorbar\":{\"outlinewidth\":0,\"ticks\":\"\"},\"colorscale\":[[0.0,\"#0d0887\"],[0.1111111111111111,\"#46039f\"],[0.2222222222222222,\"#7201a8\"],[0.3333333333333333,\"#9c179e\"],[0.4444444444444444,\"#bd3786\"],[0.5555555555555556,\"#d8576b\"],[0.6666666666666666,\"#ed7953\"],[0.7777777777777778,\"#fb9f3a\"],[0.8888888888888888,\"#fdca26\"],[1.0,\"#f0f921\"]]}],\"mesh3d\":[{\"type\":\"mesh3d\",\"colorbar\":{\"outlinewidth\":0,\"ticks\":\"\"}}],\"scatter\":[{\"fillpattern\":{\"fillmode\":\"overlay\",\"size\":10,\"solidity\":0.2},\"type\":\"scatter\"}],\"parcoords\":[{\"type\":\"parcoords\",\"line\":{\"colorbar\":{\"outlinewidth\":0,\"ticks\":\"\"}}}],\"scatterpolargl\":[{\"type\":\"scatterpolargl\",\"marker\":{\"colorbar\":{\"outlinewidth\":0,\"ticks\":\"\"}}}],\"bar\":[{\"error_x\":{\"color\":\"#2a3f5f\"},\"error_y\":{\"color\":\"#2a3f5f\"},\"marker\":{\"line\":{\"color\":\"#E5ECF6\",\"width\":0.5},\"pattern\":{\"fillmode\":\"overlay\",\"size\":10,\"solidity\":0.2}},\"type\":\"bar\"}],\"scattergeo\":[{\"type\":\"scattergeo\",\"marker\":{\"colorbar\":{\"outlinewidth\":0,\"ticks\":\"\"}}}],\"scatterpolar\":[{\"type\":\"scatterpolar\",\"marker\":{\"colorbar\":{\"outlinewidth\":0,\"ticks\":\"\"}}}],\"histogram\":[{\"marker\":{\"pattern\":{\"fillmode\":\"overlay\",\"size\":10,\"solidity\":0.2}},\"type\":\"histogram\"}],\"scattergl\":[{\"type\":\"scattergl\",\"marker\":{\"colorbar\":{\"outlinewidth\":0,\"ticks\":\"\"}}}],\"scatter3d\":[{\"type\":\"scatter3d\",\"line\":{\"colorbar\":{\"outlinewidth\":0,\"ticks\":\"\"}},\"marker\":{\"colorbar\":{\"outlinewidth\":0,\"ticks\":\"\"}}}],\"scattermapbox\":[{\"type\":\"scattermapbox\",\"marker\":{\"colorbar\":{\"outlinewidth\":0,\"ticks\":\"\"}}}],\"scatterternary\":[{\"type\":\"scatterternary\",\"marker\":{\"colorbar\":{\"outlinewidth\":0,\"ticks\":\"\"}}}],\"scattercarpet\":[{\"type\":\"scattercarpet\",\"marker\":{\"colorbar\":{\"outlinewidth\":0,\"ticks\":\"\"}}}],\"carpet\":[{\"aaxis\":{\"endlinecolor\":\"#2a3f5f\",\"gridcolor\":\"white\",\"linecolor\":\"white\",\"minorgridcolor\":\"white\",\"startlinecolor\":\"#2a3f5f\"},\"baxis\":{\"endlinecolor\":\"#2a3f5f\",\"gridcolor\":\"white\",\"linecolor\":\"white\",\"minorgridcolor\":\"white\",\"startlinecolor\":\"#2a3f5f\"},\"type\":\"carpet\"}],\"table\":[{\"cells\":{\"fill\":{\"color\":\"#EBF0F8\"},\"line\":{\"color\":\"white\"}},\"header\":{\"fill\":{\"color\":\"#C8D4E3\"},\"line\":{\"color\":\"white\"}},\"type\":\"table\"}],\"barpolar\":[{\"marker\":{\"line\":{\"color\":\"#E5ECF6\",\"width\":0.5},\"pattern\":{\"fillmode\":\"overlay\",\"size\":10,\"solidity\":0.2}},\"type\":\"barpolar\"}],\"pie\":[{\"automargin\":true,\"type\":\"pie\"}]},\"layout\":{\"autotypenumbers\":\"strict\",\"colorway\":[\"#636efa\",\"#EF553B\",\"#00cc96\",\"#ab63fa\",\"#FFA15A\",\"#19d3f3\",\"#FF6692\",\"#B6E880\",\"#FF97FF\",\"#FECB52\"],\"font\":{\"color\":\"#2a3f5f\"},\"hovermode\":\"closest\",\"hoverlabel\":{\"align\":\"left\"},\"paper_bgcolor\":\"white\",\"plot_bgcolor\":\"#E5ECF6\",\"polar\":{\"bgcolor\":\"#E5ECF6\",\"angularaxis\":{\"gridcolor\":\"white\",\"linecolor\":\"white\",\"ticks\":\"\"},\"radialaxis\":{\"gridcolor\":\"white\",\"linecolor\":\"white\",\"ticks\":\"\"}},\"ternary\":{\"bgcolor\":\"#E5ECF6\",\"aaxis\":{\"gridcolor\":\"white\",\"linecolor\":\"white\",\"ticks\":\"\"},\"baxis\":{\"gridcolor\":\"white\",\"linecolor\":\"white\",\"ticks\":\"\"},\"caxis\":{\"gridcolor\":\"white\",\"linecolor\":\"white\",\"ticks\":\"\"}},\"coloraxis\":{\"colorbar\":{\"outlinewidth\":0,\"ticks\":\"\"}},\"colorscale\":{\"sequential\":[[0.0,\"#0d0887\"],[0.1111111111111111,\"#46039f\"],[0.2222222222222222,\"#7201a8\"],[0.3333333333333333,\"#9c179e\"],[0.4444444444444444,\"#bd3786\"],[0.5555555555555556,\"#d8576b\"],[0.6666666666666666,\"#ed7953\"],[0.7777777777777778,\"#fb9f3a\"],[0.8888888888888888,\"#fdca26\"],[1.0,\"#f0f921\"]],\"sequentialminus\":[[0.0,\"#0d0887\"],[0.1111111111111111,\"#46039f\"],[0.2222222222222222,\"#7201a8\"],[0.3333333333333333,\"#9c179e\"],[0.4444444444444444,\"#bd3786\"],[0.5555555555555556,\"#d8576b\"],[0.6666666666666666,\"#ed7953\"],[0.7777777777777778,\"#fb9f3a\"],[0.8888888888888888,\"#fdca26\"],[1.0,\"#f0f921\"]],\"diverging\":[[0,\"#8e0152\"],[0.1,\"#c51b7d\"],[0.2,\"#de77ae\"],[0.3,\"#f1b6da\"],[0.4,\"#fde0ef\"],[0.5,\"#f7f7f7\"],[0.6,\"#e6f5d0\"],[0.7,\"#b8e186\"],[0.8,\"#7fbc41\"],[0.9,\"#4d9221\"],[1,\"#276419\"]]},\"xaxis\":{\"gridcolor\":\"white\",\"linecolor\":\"white\",\"ticks\":\"\",\"title\":{\"standoff\":15},\"zerolinecolor\":\"white\",\"automargin\":true,\"zerolinewidth\":2},\"yaxis\":{\"gridcolor\":\"white\",\"linecolor\":\"white\",\"ticks\":\"\",\"title\":{\"standoff\":15},\"zerolinecolor\":\"white\",\"automargin\":true,\"zerolinewidth\":2},\"scene\":{\"xaxis\":{\"backgroundcolor\":\"#E5ECF6\",\"gridcolor\":\"white\",\"linecolor\":\"white\",\"showbackground\":true,\"ticks\":\"\",\"zerolinecolor\":\"white\",\"gridwidth\":2},\"yaxis\":{\"backgroundcolor\":\"#E5ECF6\",\"gridcolor\":\"white\",\"linecolor\":\"white\",\"showbackground\":true,\"ticks\":\"\",\"zerolinecolor\":\"white\",\"gridwidth\":2},\"zaxis\":{\"backgroundcolor\":\"#E5ECF6\",\"gridcolor\":\"white\",\"linecolor\":\"white\",\"showbackground\":true,\"ticks\":\"\",\"zerolinecolor\":\"white\",\"gridwidth\":2}},\"shapedefaults\":{\"line\":{\"color\":\"#2a3f5f\"}},\"annotationdefaults\":{\"arrowcolor\":\"#2a3f5f\",\"arrowhead\":0,\"arrowwidth\":1},\"geo\":{\"bgcolor\":\"white\",\"landcolor\":\"#E5ECF6\",\"subunitcolor\":\"white\",\"showland\":true,\"showlakes\":true,\"lakecolor\":\"white\"},\"title\":{\"x\":0.05},\"mapbox\":{\"style\":\"light\"}}}},                        {\"responsive\": true}                    ).then(function(){\n",
              "                            \n",
              "var gd = document.getElementById('aa35b00e-ac75-4634-8535-12a9b2a0ea6f');\n",
              "var x = new MutationObserver(function (mutations, observer) {{\n",
              "        var display = window.getComputedStyle(gd).display;\n",
              "        if (!display || display === 'none') {{\n",
              "            console.log([gd, 'removed!']);\n",
              "            Plotly.purge(gd);\n",
              "            observer.disconnect();\n",
              "        }}\n",
              "}});\n",
              "\n",
              "// Listen for the removal of the full notebook cells\n",
              "var notebookContainer = gd.closest('#notebook-container');\n",
              "if (notebookContainer) {{\n",
              "    x.observe(notebookContainer, {childList: true});\n",
              "}}\n",
              "\n",
              "// Listen for the clearing of the current output cell\n",
              "var outputEl = gd.closest('.output');\n",
              "if (outputEl) {{\n",
              "    x.observe(outputEl, {childList: true});\n",
              "}}\n",
              "\n",
              "                        })                };                });            </script>        </div>"
            ]
          },
          "metadata": {},
          "output_type": "display_data"
        }
      ],
      "source": [
        "fig = go.Figure(data=go.Scatter(\n",
        "        x=stats.index,\n",
        "        y=stats[\"fraction_of_space_colonised\"][\"mean\"],\n",
        "        mode='markers',\n",
        "        error_y=dict(\n",
        "            type='data', # value of error bar given in data coordinates\n",
        "            array=stats[\"fraction_of_space_colonised\"][\"std\"],\n",
        "            visible=True)\n",
        "    ))\n",
        "#fig.update_yaxes(type=\"log\")\n",
        "fig.show()"
      ]
    },
    {
      "cell_type": "code",
      "execution_count": null,
      "metadata": {
        "id": "yMvLA24EY6M1",
        "outputId": "4b906604-5449-432a-db87-bede3611d477"
      },
      "outputs": [
        {
          "data": {
            "application/vnd.plotly.v1+json": {
              "config": {
                "plotlyServerURL": "https://plot.ly"
              },
              "data": [
                {
                  "mode": "markers",
                  "type": "scatter",
                  "x": [
                    0,
                    0.01,
                    0.02,
                    0.03,
                    0.04,
                    0.05,
                    0.06,
                    0.07,
                    0.08,
                    0.09,
                    0.1,
                    0.11,
                    0.12,
                    0.13,
                    0.14,
                    0.15,
                    0.16,
                    0.17,
                    0.18,
                    0.19,
                    0.2,
                    0.21,
                    0.22,
                    0.23,
                    0.24,
                    0.25,
                    0.26,
                    0.27,
                    0.28,
                    0.29,
                    0.3,
                    0.31,
                    0.32,
                    0.33,
                    0.34,
                    0.35,
                    0.36,
                    0.37,
                    0.38,
                    0.39,
                    0.4,
                    0.41,
                    0.42,
                    0.43,
                    0.44,
                    0.45,
                    0.46,
                    0.47,
                    0.48,
                    0.49,
                    0.5,
                    0.51,
                    0.52,
                    0.53,
                    0.54,
                    0.55,
                    0.56,
                    0.57,
                    0.58,
                    0.59
                  ],
                  "y": [
                    0.00005599999999999999,
                    0.000059999999999999995,
                    0.00006000000000000001,
                    0.00005599999999999999,
                    0.0000712,
                    0.000064,
                    0.000076,
                    0.0000792,
                    0.0000968,
                    0.0000672,
                    0.00010640000000000001,
                    0.0001408,
                    0.0000928,
                    0.0001256,
                    0.00016639999999999998,
                    0.000092,
                    0.0001464,
                    0.0001392,
                    0.0002256,
                    0.0001648,
                    0.0002432,
                    0.000232,
                    0.000356,
                    0.0004744,
                    0.0002496,
                    0.00062,
                    0.0008664,
                    0.0010136,
                    0.0019976,
                    0.0027288,
                    0.005239199999999999,
                    0.012907199999999999,
                    0.0360248,
                    0.0735184,
                    0.172732,
                    0.2066624,
                    0.5140863999999999,
                    0.46395759999999997,
                    0.5942336,
                    0.7710239999999999,
                    0.5661072,
                    0.823344,
                    0.7588184,
                    0.7714407999999999,
                    0.6949599999999999,
                    0.8798288,
                    0.798964,
                    0.8948031999999999,
                    0.8119896000000001,
                    0.9079311999999999,
                    0.8211264,
                    0.9178599999999999,
                    0.9214551999999999,
                    0.9255720000000001,
                    0.9291648,
                    0.9327888,
                    0.9353104,
                    0.9376680000000001,
                    0.9406167999999999,
                    0.9427023999999999
                  ]
                }
              ],
              "layout": {
                "template": {
                  "data": {
                    "bar": [
                      {
                        "error_x": {
                          "color": "#2a3f5f"
                        },
                        "error_y": {
                          "color": "#2a3f5f"
                        },
                        "marker": {
                          "line": {
                            "color": "#E5ECF6",
                            "width": 0.5
                          },
                          "pattern": {
                            "fillmode": "overlay",
                            "size": 10,
                            "solidity": 0.2
                          }
                        },
                        "type": "bar"
                      }
                    ],
                    "barpolar": [
                      {
                        "marker": {
                          "line": {
                            "color": "#E5ECF6",
                            "width": 0.5
                          },
                          "pattern": {
                            "fillmode": "overlay",
                            "size": 10,
                            "solidity": 0.2
                          }
                        },
                        "type": "barpolar"
                      }
                    ],
                    "carpet": [
                      {
                        "aaxis": {
                          "endlinecolor": "#2a3f5f",
                          "gridcolor": "white",
                          "linecolor": "white",
                          "minorgridcolor": "white",
                          "startlinecolor": "#2a3f5f"
                        },
                        "baxis": {
                          "endlinecolor": "#2a3f5f",
                          "gridcolor": "white",
                          "linecolor": "white",
                          "minorgridcolor": "white",
                          "startlinecolor": "#2a3f5f"
                        },
                        "type": "carpet"
                      }
                    ],
                    "choropleth": [
                      {
                        "colorbar": {
                          "outlinewidth": 0,
                          "ticks": ""
                        },
                        "type": "choropleth"
                      }
                    ],
                    "contour": [
                      {
                        "colorbar": {
                          "outlinewidth": 0,
                          "ticks": ""
                        },
                        "colorscale": [
                          [
                            0,
                            "#0d0887"
                          ],
                          [
                            0.1111111111111111,
                            "#46039f"
                          ],
                          [
                            0.2222222222222222,
                            "#7201a8"
                          ],
                          [
                            0.3333333333333333,
                            "#9c179e"
                          ],
                          [
                            0.4444444444444444,
                            "#bd3786"
                          ],
                          [
                            0.5555555555555556,
                            "#d8576b"
                          ],
                          [
                            0.6666666666666666,
                            "#ed7953"
                          ],
                          [
                            0.7777777777777778,
                            "#fb9f3a"
                          ],
                          [
                            0.8888888888888888,
                            "#fdca26"
                          ],
                          [
                            1,
                            "#f0f921"
                          ]
                        ],
                        "type": "contour"
                      }
                    ],
                    "contourcarpet": [
                      {
                        "colorbar": {
                          "outlinewidth": 0,
                          "ticks": ""
                        },
                        "type": "contourcarpet"
                      }
                    ],
                    "heatmap": [
                      {
                        "colorbar": {
                          "outlinewidth": 0,
                          "ticks": ""
                        },
                        "colorscale": [
                          [
                            0,
                            "#0d0887"
                          ],
                          [
                            0.1111111111111111,
                            "#46039f"
                          ],
                          [
                            0.2222222222222222,
                            "#7201a8"
                          ],
                          [
                            0.3333333333333333,
                            "#9c179e"
                          ],
                          [
                            0.4444444444444444,
                            "#bd3786"
                          ],
                          [
                            0.5555555555555556,
                            "#d8576b"
                          ],
                          [
                            0.6666666666666666,
                            "#ed7953"
                          ],
                          [
                            0.7777777777777778,
                            "#fb9f3a"
                          ],
                          [
                            0.8888888888888888,
                            "#fdca26"
                          ],
                          [
                            1,
                            "#f0f921"
                          ]
                        ],
                        "type": "heatmap"
                      }
                    ],
                    "heatmapgl": [
                      {
                        "colorbar": {
                          "outlinewidth": 0,
                          "ticks": ""
                        },
                        "colorscale": [
                          [
                            0,
                            "#0d0887"
                          ],
                          [
                            0.1111111111111111,
                            "#46039f"
                          ],
                          [
                            0.2222222222222222,
                            "#7201a8"
                          ],
                          [
                            0.3333333333333333,
                            "#9c179e"
                          ],
                          [
                            0.4444444444444444,
                            "#bd3786"
                          ],
                          [
                            0.5555555555555556,
                            "#d8576b"
                          ],
                          [
                            0.6666666666666666,
                            "#ed7953"
                          ],
                          [
                            0.7777777777777778,
                            "#fb9f3a"
                          ],
                          [
                            0.8888888888888888,
                            "#fdca26"
                          ],
                          [
                            1,
                            "#f0f921"
                          ]
                        ],
                        "type": "heatmapgl"
                      }
                    ],
                    "histogram": [
                      {
                        "marker": {
                          "pattern": {
                            "fillmode": "overlay",
                            "size": 10,
                            "solidity": 0.2
                          }
                        },
                        "type": "histogram"
                      }
                    ],
                    "histogram2d": [
                      {
                        "colorbar": {
                          "outlinewidth": 0,
                          "ticks": ""
                        },
                        "colorscale": [
                          [
                            0,
                            "#0d0887"
                          ],
                          [
                            0.1111111111111111,
                            "#46039f"
                          ],
                          [
                            0.2222222222222222,
                            "#7201a8"
                          ],
                          [
                            0.3333333333333333,
                            "#9c179e"
                          ],
                          [
                            0.4444444444444444,
                            "#bd3786"
                          ],
                          [
                            0.5555555555555556,
                            "#d8576b"
                          ],
                          [
                            0.6666666666666666,
                            "#ed7953"
                          ],
                          [
                            0.7777777777777778,
                            "#fb9f3a"
                          ],
                          [
                            0.8888888888888888,
                            "#fdca26"
                          ],
                          [
                            1,
                            "#f0f921"
                          ]
                        ],
                        "type": "histogram2d"
                      }
                    ],
                    "histogram2dcontour": [
                      {
                        "colorbar": {
                          "outlinewidth": 0,
                          "ticks": ""
                        },
                        "colorscale": [
                          [
                            0,
                            "#0d0887"
                          ],
                          [
                            0.1111111111111111,
                            "#46039f"
                          ],
                          [
                            0.2222222222222222,
                            "#7201a8"
                          ],
                          [
                            0.3333333333333333,
                            "#9c179e"
                          ],
                          [
                            0.4444444444444444,
                            "#bd3786"
                          ],
                          [
                            0.5555555555555556,
                            "#d8576b"
                          ],
                          [
                            0.6666666666666666,
                            "#ed7953"
                          ],
                          [
                            0.7777777777777778,
                            "#fb9f3a"
                          ],
                          [
                            0.8888888888888888,
                            "#fdca26"
                          ],
                          [
                            1,
                            "#f0f921"
                          ]
                        ],
                        "type": "histogram2dcontour"
                      }
                    ],
                    "mesh3d": [
                      {
                        "colorbar": {
                          "outlinewidth": 0,
                          "ticks": ""
                        },
                        "type": "mesh3d"
                      }
                    ],
                    "parcoords": [
                      {
                        "line": {
                          "colorbar": {
                            "outlinewidth": 0,
                            "ticks": ""
                          }
                        },
                        "type": "parcoords"
                      }
                    ],
                    "pie": [
                      {
                        "automargin": true,
                        "type": "pie"
                      }
                    ],
                    "scatter": [
                      {
                        "fillpattern": {
                          "fillmode": "overlay",
                          "size": 10,
                          "solidity": 0.2
                        },
                        "type": "scatter"
                      }
                    ],
                    "scatter3d": [
                      {
                        "line": {
                          "colorbar": {
                            "outlinewidth": 0,
                            "ticks": ""
                          }
                        },
                        "marker": {
                          "colorbar": {
                            "outlinewidth": 0,
                            "ticks": ""
                          }
                        },
                        "type": "scatter3d"
                      }
                    ],
                    "scattercarpet": [
                      {
                        "marker": {
                          "colorbar": {
                            "outlinewidth": 0,
                            "ticks": ""
                          }
                        },
                        "type": "scattercarpet"
                      }
                    ],
                    "scattergeo": [
                      {
                        "marker": {
                          "colorbar": {
                            "outlinewidth": 0,
                            "ticks": ""
                          }
                        },
                        "type": "scattergeo"
                      }
                    ],
                    "scattergl": [
                      {
                        "marker": {
                          "colorbar": {
                            "outlinewidth": 0,
                            "ticks": ""
                          }
                        },
                        "type": "scattergl"
                      }
                    ],
                    "scattermapbox": [
                      {
                        "marker": {
                          "colorbar": {
                            "outlinewidth": 0,
                            "ticks": ""
                          }
                        },
                        "type": "scattermapbox"
                      }
                    ],
                    "scatterpolar": [
                      {
                        "marker": {
                          "colorbar": {
                            "outlinewidth": 0,
                            "ticks": ""
                          }
                        },
                        "type": "scatterpolar"
                      }
                    ],
                    "scatterpolargl": [
                      {
                        "marker": {
                          "colorbar": {
                            "outlinewidth": 0,
                            "ticks": ""
                          }
                        },
                        "type": "scatterpolargl"
                      }
                    ],
                    "scatterternary": [
                      {
                        "marker": {
                          "colorbar": {
                            "outlinewidth": 0,
                            "ticks": ""
                          }
                        },
                        "type": "scatterternary"
                      }
                    ],
                    "surface": [
                      {
                        "colorbar": {
                          "outlinewidth": 0,
                          "ticks": ""
                        },
                        "colorscale": [
                          [
                            0,
                            "#0d0887"
                          ],
                          [
                            0.1111111111111111,
                            "#46039f"
                          ],
                          [
                            0.2222222222222222,
                            "#7201a8"
                          ],
                          [
                            0.3333333333333333,
                            "#9c179e"
                          ],
                          [
                            0.4444444444444444,
                            "#bd3786"
                          ],
                          [
                            0.5555555555555556,
                            "#d8576b"
                          ],
                          [
                            0.6666666666666666,
                            "#ed7953"
                          ],
                          [
                            0.7777777777777778,
                            "#fb9f3a"
                          ],
                          [
                            0.8888888888888888,
                            "#fdca26"
                          ],
                          [
                            1,
                            "#f0f921"
                          ]
                        ],
                        "type": "surface"
                      }
                    ],
                    "table": [
                      {
                        "cells": {
                          "fill": {
                            "color": "#EBF0F8"
                          },
                          "line": {
                            "color": "white"
                          }
                        },
                        "header": {
                          "fill": {
                            "color": "#C8D4E3"
                          },
                          "line": {
                            "color": "white"
                          }
                        },
                        "type": "table"
                      }
                    ]
                  },
                  "layout": {
                    "annotationdefaults": {
                      "arrowcolor": "#2a3f5f",
                      "arrowhead": 0,
                      "arrowwidth": 1
                    },
                    "autotypenumbers": "strict",
                    "coloraxis": {
                      "colorbar": {
                        "outlinewidth": 0,
                        "ticks": ""
                      }
                    },
                    "colorscale": {
                      "diverging": [
                        [
                          0,
                          "#8e0152"
                        ],
                        [
                          0.1,
                          "#c51b7d"
                        ],
                        [
                          0.2,
                          "#de77ae"
                        ],
                        [
                          0.3,
                          "#f1b6da"
                        ],
                        [
                          0.4,
                          "#fde0ef"
                        ],
                        [
                          0.5,
                          "#f7f7f7"
                        ],
                        [
                          0.6,
                          "#e6f5d0"
                        ],
                        [
                          0.7,
                          "#b8e186"
                        ],
                        [
                          0.8,
                          "#7fbc41"
                        ],
                        [
                          0.9,
                          "#4d9221"
                        ],
                        [
                          1,
                          "#276419"
                        ]
                      ],
                      "sequential": [
                        [
                          0,
                          "#0d0887"
                        ],
                        [
                          0.1111111111111111,
                          "#46039f"
                        ],
                        [
                          0.2222222222222222,
                          "#7201a8"
                        ],
                        [
                          0.3333333333333333,
                          "#9c179e"
                        ],
                        [
                          0.4444444444444444,
                          "#bd3786"
                        ],
                        [
                          0.5555555555555556,
                          "#d8576b"
                        ],
                        [
                          0.6666666666666666,
                          "#ed7953"
                        ],
                        [
                          0.7777777777777778,
                          "#fb9f3a"
                        ],
                        [
                          0.8888888888888888,
                          "#fdca26"
                        ],
                        [
                          1,
                          "#f0f921"
                        ]
                      ],
                      "sequentialminus": [
                        [
                          0,
                          "#0d0887"
                        ],
                        [
                          0.1111111111111111,
                          "#46039f"
                        ],
                        [
                          0.2222222222222222,
                          "#7201a8"
                        ],
                        [
                          0.3333333333333333,
                          "#9c179e"
                        ],
                        [
                          0.4444444444444444,
                          "#bd3786"
                        ],
                        [
                          0.5555555555555556,
                          "#d8576b"
                        ],
                        [
                          0.6666666666666666,
                          "#ed7953"
                        ],
                        [
                          0.7777777777777778,
                          "#fb9f3a"
                        ],
                        [
                          0.8888888888888888,
                          "#fdca26"
                        ],
                        [
                          1,
                          "#f0f921"
                        ]
                      ]
                    },
                    "colorway": [
                      "#636efa",
                      "#EF553B",
                      "#00cc96",
                      "#ab63fa",
                      "#FFA15A",
                      "#19d3f3",
                      "#FF6692",
                      "#B6E880",
                      "#FF97FF",
                      "#FECB52"
                    ],
                    "font": {
                      "color": "#2a3f5f"
                    },
                    "geo": {
                      "bgcolor": "white",
                      "lakecolor": "white",
                      "landcolor": "#E5ECF6",
                      "showlakes": true,
                      "showland": true,
                      "subunitcolor": "white"
                    },
                    "hoverlabel": {
                      "align": "left"
                    },
                    "hovermode": "closest",
                    "mapbox": {
                      "style": "light"
                    },
                    "paper_bgcolor": "white",
                    "plot_bgcolor": "#E5ECF6",
                    "polar": {
                      "angularaxis": {
                        "gridcolor": "white",
                        "linecolor": "white",
                        "ticks": ""
                      },
                      "bgcolor": "#E5ECF6",
                      "radialaxis": {
                        "gridcolor": "white",
                        "linecolor": "white",
                        "ticks": ""
                      }
                    },
                    "scene": {
                      "xaxis": {
                        "backgroundcolor": "#E5ECF6",
                        "gridcolor": "white",
                        "gridwidth": 2,
                        "linecolor": "white",
                        "showbackground": true,
                        "ticks": "",
                        "zerolinecolor": "white"
                      },
                      "yaxis": {
                        "backgroundcolor": "#E5ECF6",
                        "gridcolor": "white",
                        "gridwidth": 2,
                        "linecolor": "white",
                        "showbackground": true,
                        "ticks": "",
                        "zerolinecolor": "white"
                      },
                      "zaxis": {
                        "backgroundcolor": "#E5ECF6",
                        "gridcolor": "white",
                        "gridwidth": 2,
                        "linecolor": "white",
                        "showbackground": true,
                        "ticks": "",
                        "zerolinecolor": "white"
                      }
                    },
                    "shapedefaults": {
                      "line": {
                        "color": "#2a3f5f"
                      }
                    },
                    "ternary": {
                      "aaxis": {
                        "gridcolor": "white",
                        "linecolor": "white",
                        "ticks": ""
                      },
                      "baxis": {
                        "gridcolor": "white",
                        "linecolor": "white",
                        "ticks": ""
                      },
                      "bgcolor": "#E5ECF6",
                      "caxis": {
                        "gridcolor": "white",
                        "linecolor": "white",
                        "ticks": ""
                      }
                    },
                    "title": {
                      "x": 0.05
                    },
                    "xaxis": {
                      "automargin": true,
                      "gridcolor": "white",
                      "linecolor": "white",
                      "ticks": "",
                      "title": {
                        "standoff": 15
                      },
                      "zerolinecolor": "white",
                      "zerolinewidth": 2
                    },
                    "yaxis": {
                      "automargin": true,
                      "gridcolor": "white",
                      "linecolor": "white",
                      "ticks": "",
                      "title": {
                        "standoff": 15
                      },
                      "zerolinecolor": "white",
                      "zerolinewidth": 2
                    }
                  }
                },
                "yaxis": {
                  "type": "log"
                }
              }
            },
            "text/html": [
              "<div>                            <div id=\"e014c404-ac56-4ea7-988c-56a798fdc3af\" class=\"plotly-graph-div\" style=\"height:525px; width:100%;\"></div>            <script type=\"text/javascript\">                require([\"plotly\"], function(Plotly) {                    window.PLOTLYENV=window.PLOTLYENV || {};                                    if (document.getElementById(\"e014c404-ac56-4ea7-988c-56a798fdc3af\")) {                    Plotly.newPlot(                        \"e014c404-ac56-4ea7-988c-56a798fdc3af\",                        [{\"mode\":\"markers\",\"x\":[0.0,0.01,0.02,0.03,0.04,0.05,0.06,0.07,0.08,0.09,0.1,0.11,0.12,0.13,0.14,0.15,0.16,0.17,0.18,0.19,0.2,0.21,0.22,0.23,0.24,0.25,0.26,0.27,0.28,0.29,0.3,0.31,0.32,0.33,0.34,0.35,0.36,0.37,0.38,0.39,0.4,0.41,0.42,0.43,0.44,0.45,0.46,0.47,0.48,0.49,0.5,0.51,0.52,0.53,0.54,0.55,0.56,0.57,0.58,0.59],\"y\":[5.599999999999999e-05,5.9999999999999995e-05,6.000000000000001e-05,5.599999999999999e-05,7.12e-05,6.4e-05,7.6e-05,7.92e-05,9.68e-05,6.72e-05,0.00010640000000000001,0.0001408,9.28e-05,0.0001256,0.00016639999999999998,9.2e-05,0.0001464,0.0001392,0.0002256,0.0001648,0.0002432,0.000232,0.000356,0.0004744,0.0002496,0.00062,0.0008664,0.0010136,0.0019976,0.0027288,0.005239199999999999,0.012907199999999999,0.0360248,0.0735184,0.172732,0.2066624,0.5140863999999999,0.46395759999999997,0.5942336,0.7710239999999999,0.5661072,0.823344,0.7588184,0.7714407999999999,0.6949599999999999,0.8798288,0.798964,0.8948031999999999,0.8119896000000001,0.9079311999999999,0.8211264,0.9178599999999999,0.9214551999999999,0.9255720000000001,0.9291648,0.9327888,0.9353104,0.9376680000000001,0.9406167999999999,0.9427023999999999],\"type\":\"scatter\"}],                        {\"template\":{\"data\":{\"histogram2dcontour\":[{\"type\":\"histogram2dcontour\",\"colorbar\":{\"outlinewidth\":0,\"ticks\":\"\"},\"colorscale\":[[0.0,\"#0d0887\"],[0.1111111111111111,\"#46039f\"],[0.2222222222222222,\"#7201a8\"],[0.3333333333333333,\"#9c179e\"],[0.4444444444444444,\"#bd3786\"],[0.5555555555555556,\"#d8576b\"],[0.6666666666666666,\"#ed7953\"],[0.7777777777777778,\"#fb9f3a\"],[0.8888888888888888,\"#fdca26\"],[1.0,\"#f0f921\"]]}],\"choropleth\":[{\"type\":\"choropleth\",\"colorbar\":{\"outlinewidth\":0,\"ticks\":\"\"}}],\"histogram2d\":[{\"type\":\"histogram2d\",\"colorbar\":{\"outlinewidth\":0,\"ticks\":\"\"},\"colorscale\":[[0.0,\"#0d0887\"],[0.1111111111111111,\"#46039f\"],[0.2222222222222222,\"#7201a8\"],[0.3333333333333333,\"#9c179e\"],[0.4444444444444444,\"#bd3786\"],[0.5555555555555556,\"#d8576b\"],[0.6666666666666666,\"#ed7953\"],[0.7777777777777778,\"#fb9f3a\"],[0.8888888888888888,\"#fdca26\"],[1.0,\"#f0f921\"]]}],\"heatmap\":[{\"type\":\"heatmap\",\"colorbar\":{\"outlinewidth\":0,\"ticks\":\"\"},\"colorscale\":[[0.0,\"#0d0887\"],[0.1111111111111111,\"#46039f\"],[0.2222222222222222,\"#7201a8\"],[0.3333333333333333,\"#9c179e\"],[0.4444444444444444,\"#bd3786\"],[0.5555555555555556,\"#d8576b\"],[0.6666666666666666,\"#ed7953\"],[0.7777777777777778,\"#fb9f3a\"],[0.8888888888888888,\"#fdca26\"],[1.0,\"#f0f921\"]]}],\"heatmapgl\":[{\"type\":\"heatmapgl\",\"colorbar\":{\"outlinewidth\":0,\"ticks\":\"\"},\"colorscale\":[[0.0,\"#0d0887\"],[0.1111111111111111,\"#46039f\"],[0.2222222222222222,\"#7201a8\"],[0.3333333333333333,\"#9c179e\"],[0.4444444444444444,\"#bd3786\"],[0.5555555555555556,\"#d8576b\"],[0.6666666666666666,\"#ed7953\"],[0.7777777777777778,\"#fb9f3a\"],[0.8888888888888888,\"#fdca26\"],[1.0,\"#f0f921\"]]}],\"contourcarpet\":[{\"type\":\"contourcarpet\",\"colorbar\":{\"outlinewidth\":0,\"ticks\":\"\"}}],\"contour\":[{\"type\":\"contour\",\"colorbar\":{\"outlinewidth\":0,\"ticks\":\"\"},\"colorscale\":[[0.0,\"#0d0887\"],[0.1111111111111111,\"#46039f\"],[0.2222222222222222,\"#7201a8\"],[0.3333333333333333,\"#9c179e\"],[0.4444444444444444,\"#bd3786\"],[0.5555555555555556,\"#d8576b\"],[0.6666666666666666,\"#ed7953\"],[0.7777777777777778,\"#fb9f3a\"],[0.8888888888888888,\"#fdca26\"],[1.0,\"#f0f921\"]]}],\"surface\":[{\"type\":\"surface\",\"colorbar\":{\"outlinewidth\":0,\"ticks\":\"\"},\"colorscale\":[[0.0,\"#0d0887\"],[0.1111111111111111,\"#46039f\"],[0.2222222222222222,\"#7201a8\"],[0.3333333333333333,\"#9c179e\"],[0.4444444444444444,\"#bd3786\"],[0.5555555555555556,\"#d8576b\"],[0.6666666666666666,\"#ed7953\"],[0.7777777777777778,\"#fb9f3a\"],[0.8888888888888888,\"#fdca26\"],[1.0,\"#f0f921\"]]}],\"mesh3d\":[{\"type\":\"mesh3d\",\"colorbar\":{\"outlinewidth\":0,\"ticks\":\"\"}}],\"scatter\":[{\"fillpattern\":{\"fillmode\":\"overlay\",\"size\":10,\"solidity\":0.2},\"type\":\"scatter\"}],\"parcoords\":[{\"type\":\"parcoords\",\"line\":{\"colorbar\":{\"outlinewidth\":0,\"ticks\":\"\"}}}],\"scatterpolargl\":[{\"type\":\"scatterpolargl\",\"marker\":{\"colorbar\":{\"outlinewidth\":0,\"ticks\":\"\"}}}],\"bar\":[{\"error_x\":{\"color\":\"#2a3f5f\"},\"error_y\":{\"color\":\"#2a3f5f\"},\"marker\":{\"line\":{\"color\":\"#E5ECF6\",\"width\":0.5},\"pattern\":{\"fillmode\":\"overlay\",\"size\":10,\"solidity\":0.2}},\"type\":\"bar\"}],\"scattergeo\":[{\"type\":\"scattergeo\",\"marker\":{\"colorbar\":{\"outlinewidth\":0,\"ticks\":\"\"}}}],\"scatterpolar\":[{\"type\":\"scatterpolar\",\"marker\":{\"colorbar\":{\"outlinewidth\":0,\"ticks\":\"\"}}}],\"histogram\":[{\"marker\":{\"pattern\":{\"fillmode\":\"overlay\",\"size\":10,\"solidity\":0.2}},\"type\":\"histogram\"}],\"scattergl\":[{\"type\":\"scattergl\",\"marker\":{\"colorbar\":{\"outlinewidth\":0,\"ticks\":\"\"}}}],\"scatter3d\":[{\"type\":\"scatter3d\",\"line\":{\"colorbar\":{\"outlinewidth\":0,\"ticks\":\"\"}},\"marker\":{\"colorbar\":{\"outlinewidth\":0,\"ticks\":\"\"}}}],\"scattermapbox\":[{\"type\":\"scattermapbox\",\"marker\":{\"colorbar\":{\"outlinewidth\":0,\"ticks\":\"\"}}}],\"scatterternary\":[{\"type\":\"scatterternary\",\"marker\":{\"colorbar\":{\"outlinewidth\":0,\"ticks\":\"\"}}}],\"scattercarpet\":[{\"type\":\"scattercarpet\",\"marker\":{\"colorbar\":{\"outlinewidth\":0,\"ticks\":\"\"}}}],\"carpet\":[{\"aaxis\":{\"endlinecolor\":\"#2a3f5f\",\"gridcolor\":\"white\",\"linecolor\":\"white\",\"minorgridcolor\":\"white\",\"startlinecolor\":\"#2a3f5f\"},\"baxis\":{\"endlinecolor\":\"#2a3f5f\",\"gridcolor\":\"white\",\"linecolor\":\"white\",\"minorgridcolor\":\"white\",\"startlinecolor\":\"#2a3f5f\"},\"type\":\"carpet\"}],\"table\":[{\"cells\":{\"fill\":{\"color\":\"#EBF0F8\"},\"line\":{\"color\":\"white\"}},\"header\":{\"fill\":{\"color\":\"#C8D4E3\"},\"line\":{\"color\":\"white\"}},\"type\":\"table\"}],\"barpolar\":[{\"marker\":{\"line\":{\"color\":\"#E5ECF6\",\"width\":0.5},\"pattern\":{\"fillmode\":\"overlay\",\"size\":10,\"solidity\":0.2}},\"type\":\"barpolar\"}],\"pie\":[{\"automargin\":true,\"type\":\"pie\"}]},\"layout\":{\"autotypenumbers\":\"strict\",\"colorway\":[\"#636efa\",\"#EF553B\",\"#00cc96\",\"#ab63fa\",\"#FFA15A\",\"#19d3f3\",\"#FF6692\",\"#B6E880\",\"#FF97FF\",\"#FECB52\"],\"font\":{\"color\":\"#2a3f5f\"},\"hovermode\":\"closest\",\"hoverlabel\":{\"align\":\"left\"},\"paper_bgcolor\":\"white\",\"plot_bgcolor\":\"#E5ECF6\",\"polar\":{\"bgcolor\":\"#E5ECF6\",\"angularaxis\":{\"gridcolor\":\"white\",\"linecolor\":\"white\",\"ticks\":\"\"},\"radialaxis\":{\"gridcolor\":\"white\",\"linecolor\":\"white\",\"ticks\":\"\"}},\"ternary\":{\"bgcolor\":\"#E5ECF6\",\"aaxis\":{\"gridcolor\":\"white\",\"linecolor\":\"white\",\"ticks\":\"\"},\"baxis\":{\"gridcolor\":\"white\",\"linecolor\":\"white\",\"ticks\":\"\"},\"caxis\":{\"gridcolor\":\"white\",\"linecolor\":\"white\",\"ticks\":\"\"}},\"coloraxis\":{\"colorbar\":{\"outlinewidth\":0,\"ticks\":\"\"}},\"colorscale\":{\"sequential\":[[0.0,\"#0d0887\"],[0.1111111111111111,\"#46039f\"],[0.2222222222222222,\"#7201a8\"],[0.3333333333333333,\"#9c179e\"],[0.4444444444444444,\"#bd3786\"],[0.5555555555555556,\"#d8576b\"],[0.6666666666666666,\"#ed7953\"],[0.7777777777777778,\"#fb9f3a\"],[0.8888888888888888,\"#fdca26\"],[1.0,\"#f0f921\"]],\"sequentialminus\":[[0.0,\"#0d0887\"],[0.1111111111111111,\"#46039f\"],[0.2222222222222222,\"#7201a8\"],[0.3333333333333333,\"#9c179e\"],[0.4444444444444444,\"#bd3786\"],[0.5555555555555556,\"#d8576b\"],[0.6666666666666666,\"#ed7953\"],[0.7777777777777778,\"#fb9f3a\"],[0.8888888888888888,\"#fdca26\"],[1.0,\"#f0f921\"]],\"diverging\":[[0,\"#8e0152\"],[0.1,\"#c51b7d\"],[0.2,\"#de77ae\"],[0.3,\"#f1b6da\"],[0.4,\"#fde0ef\"],[0.5,\"#f7f7f7\"],[0.6,\"#e6f5d0\"],[0.7,\"#b8e186\"],[0.8,\"#7fbc41\"],[0.9,\"#4d9221\"],[1,\"#276419\"]]},\"xaxis\":{\"gridcolor\":\"white\",\"linecolor\":\"white\",\"ticks\":\"\",\"title\":{\"standoff\":15},\"zerolinecolor\":\"white\",\"automargin\":true,\"zerolinewidth\":2},\"yaxis\":{\"gridcolor\":\"white\",\"linecolor\":\"white\",\"ticks\":\"\",\"title\":{\"standoff\":15},\"zerolinecolor\":\"white\",\"automargin\":true,\"zerolinewidth\":2},\"scene\":{\"xaxis\":{\"backgroundcolor\":\"#E5ECF6\",\"gridcolor\":\"white\",\"linecolor\":\"white\",\"showbackground\":true,\"ticks\":\"\",\"zerolinecolor\":\"white\",\"gridwidth\":2},\"yaxis\":{\"backgroundcolor\":\"#E5ECF6\",\"gridcolor\":\"white\",\"linecolor\":\"white\",\"showbackground\":true,\"ticks\":\"\",\"zerolinecolor\":\"white\",\"gridwidth\":2},\"zaxis\":{\"backgroundcolor\":\"#E5ECF6\",\"gridcolor\":\"white\",\"linecolor\":\"white\",\"showbackground\":true,\"ticks\":\"\",\"zerolinecolor\":\"white\",\"gridwidth\":2}},\"shapedefaults\":{\"line\":{\"color\":\"#2a3f5f\"}},\"annotationdefaults\":{\"arrowcolor\":\"#2a3f5f\",\"arrowhead\":0,\"arrowwidth\":1},\"geo\":{\"bgcolor\":\"white\",\"landcolor\":\"#E5ECF6\",\"subunitcolor\":\"white\",\"showland\":true,\"showlakes\":true,\"lakecolor\":\"white\"},\"title\":{\"x\":0.05},\"mapbox\":{\"style\":\"light\"}}},\"yaxis\":{\"type\":\"log\"}},                        {\"responsive\": true}                    ).then(function(){\n",
              "                            \n",
              "var gd = document.getElementById('e014c404-ac56-4ea7-988c-56a798fdc3af');\n",
              "var x = new MutationObserver(function (mutations, observer) {{\n",
              "        var display = window.getComputedStyle(gd).display;\n",
              "        if (!display || display === 'none') {{\n",
              "            console.log([gd, 'removed!']);\n",
              "            Plotly.purge(gd);\n",
              "            observer.disconnect();\n",
              "        }}\n",
              "}});\n",
              "\n",
              "// Listen for the removal of the full notebook cells\n",
              "var notebookContainer = gd.closest('#notebook-container');\n",
              "if (notebookContainer) {{\n",
              "    x.observe(notebookContainer, {childList: true});\n",
              "}}\n",
              "\n",
              "// Listen for the clearing of the current output cell\n",
              "var outputEl = gd.closest('.output');\n",
              "if (outputEl) {{\n",
              "    x.observe(outputEl, {childList: true});\n",
              "}}\n",
              "\n",
              "                        })                };                });            </script>        </div>"
            ]
          },
          "metadata": {},
          "output_type": "display_data"
        }
      ],
      "source": [
        "fig = go.Figure(data=go.Scatter(\n",
        "        x=stats.index,\n",
        "        y=stats[\"fraction_of_space_colonised\"][\"mean\"],\n",
        "        mode='markers'\n",
        "    ))\n",
        "fig.update_yaxes(type=\"log\")\n",
        "fig.show()"
      ]
    },
    {
      "cell_type": "code",
      "execution_count": null,
      "metadata": {
        "id": "846fhR1VY6M1"
      },
      "outputs": [],
      "source": []
    }
  ],
  "metadata": {
    "colab": {
      "provenance": [],
      "include_colab_link": true
    },
    "kernelspec": {
      "display_name": "Python 3 (ipykernel)",
      "language": "python",
      "name": "python3"
    },
    "language_info": {
      "codemirror_mode": {
        "name": "ipython",
        "version": 3
      },
      "file_extension": ".py",
      "mimetype": "text/x-python",
      "name": "python",
      "nbconvert_exporter": "python",
      "pygments_lexer": "ipython3",
      "version": "3.10.6"
    }
  },
  "nbformat": 4,
  "nbformat_minor": 0
}