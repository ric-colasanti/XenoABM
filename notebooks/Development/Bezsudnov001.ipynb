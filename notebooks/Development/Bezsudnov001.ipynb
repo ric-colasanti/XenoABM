{
 "cells": [
  {
   "cell_type": "code",
   "execution_count": 1,
   "id": "0c6e50bc",
   "metadata": {},
   "outputs": [],
   "source": [
    "from IPython.display import display, HTML,clear_output\n",
    "import time\n",
    "import random as rnd"
   ]
  },
  {
   "cell_type": "markdown",
   "id": "63ba3bb1",
   "metadata": {},
   "source": [
    "[Bezsudnov, I., and A. Snarskii. \"Where is everybody?--Wait a moment... New approach to the Fermi paradox.\" arXiv preprint arXiv:1007.2774 (2010).\n",
    "](https://arxiv.org/abs/1007.2774)\n"
   ]
  },
  {
   "cell_type": "code",
   "execution_count": 2,
   "id": "22820143",
   "metadata": {},
   "outputs": [],
   "source": [
    "class SVGCanvas:\n",
    "    def __init__(self,width,height,size):\n",
    "        self.width = width\n",
    "        self.height = height\n",
    "        self.size = size\n",
    "        self.html_s =\"\"\n",
    "    \n",
    "    def clear(self):\n",
    "        self.html_s = '<svg width=\"'+str(self.width)+'\" height=\"'+str(self.height)+'\"style=\"border:1px solid black\">'\n",
    "\n",
    "    def addCircle(self,x_pos,y_pos,color):\n",
    "        x_pos = x_pos/self.size\n",
    "        y_pos = y_pos/self.size\n",
    "        r = 1/(self.size*2)\n",
    "        str_int_x = str(int((x_pos*self.width)+(r*self.width)))\n",
    "        str_int_y = str(int((y_pos*self.height)+(r*self.width)))\n",
    "        str_int_r = str(int(r*self.width))\n",
    "        self.html_s +='<circle cx=\"'+str_int_x+'\" cy=\"'+str_int_y+'\" r=\"'+str_int_r+'\" fill=\"'+color+'\"/>'\n",
    "\n",
    "    def addRect(self,x_pos,y_pos,color):\n",
    "        x_pos = x_pos/self.size\n",
    "        y_pos = y_pos/self.size\n",
    "        height = 1/self.size\n",
    "        width = 1/self.size\n",
    "        str_int_x = str(int(x_pos*self.width))\n",
    "        str_int_y = str(int(y_pos*self.height))\n",
    "        str_int_width = str(int(width*self.width))\n",
    "        str_int_height = str(int(height*self.height))\n",
    "        self.html_s +='<rect x=\"'+str_int_x+'\" y=\"'+str_int_y+'\" width=\"'+str_int_width+'\" height=\"'+str_int_height+'\" fill=\"'+color+'\"/>'\n",
    "\n",
    "    def getCanvas(self):\n",
    "        self.html_s += \"</svg>\"\n",
    "        return HTML(self.html_s)\n"
   ]
  },
  {
   "cell_type": "code",
   "execution_count": 47,
   "id": "7873b769",
   "metadata": {},
   "outputs": [],
   "source": [
    "def update():\n",
    "    for x in range(1,s_size-1):\n",
    "        for y in range(1,s_size-1):\n",
    "            if rnd.randint(0,1):\n",
    "                space[t_next][x][y]={\"color\":'black'}\n",
    "            else:\n",
    "                space[t_next][x][y]=0\n",
    "                "
   ]
  },
  {
   "cell_type": "code",
   "execution_count": 54,
   "id": "f89ebd21",
   "metadata": {},
   "outputs": [],
   "source": [
    "def initilise():\n",
    "    space=[[[-1 for _ in range(s_size)] for _ in range(s_size)] for _ in range(2)]\n",
    "    for x in range(1,s_size-1):\n",
    "        for y in range(1,s_size-1):\n",
    "            space[t_next][x][y]=0\n",
    "            space[t_now][x][y]=0\n",
    "    \n",
    "    n_civilisation = {\"c_name\":\"c0\",\"c_count\":0,\"c_color\":\"black\"}\n",
    "    civilisations[\"c0\"]=n_civilisation\n",
    "    colony = {\"civisation\":n_civilisation,\"cord\":(s_size//2,s_size//2)}\n",
    "    space[t_next][s_size//2][s_size//2] = colony\n",
    "    space[t_now][s_size//2][s_size//2] = colony\n",
    "    return space\n",
    "    "
   ]
  },
  {
   "cell_type": "code",
   "execution_count": 55,
   "id": "f18c8913",
   "metadata": {},
   "outputs": [],
   "source": [
    "s_size=64\n",
    "t_now = 0\n",
    "t_next = 1 \n",
    "civilisations={}\n",
    "colonies=[]\n",
    "space =initilise()"
   ]
  },
  {
   "cell_type": "code",
   "execution_count": 56,
   "id": "0e65641c",
   "metadata": {},
   "outputs": [],
   "source": [
    "# print(space)"
   ]
  },
  {
   "cell_type": "code",
   "execution_count": 57,
   "id": "23615011",
   "metadata": {},
   "outputs": [
    {
     "data": {
      "text/html": [
       "<svg width=\"600\" height=\"600\"style=\"border:1px solid black\"><circle cx=\"304\" cy=\"304\" r=\"4\" fill=\"black\"/></svg>"
      ],
      "text/plain": [
       "<IPython.core.display.HTML object>"
      ]
     },
     "metadata": {},
     "output_type": "display_data"
    }
   ],
   "source": [
    "svg = SVGCanvas(600,600,s_size)\n",
    "for i in range(4):\n",
    "    clear_output(wait=True)\n",
    "    svg.clear()\n",
    "    for x in range(1,s_size-1):\n",
    "        for y in range(1,s_size-1):\n",
    "            if space[t_now][x][y]!=0: \n",
    "                svg.addCircle(x,y,space[t_now][x][y][\"civisation\"][\"c_color\"])\n",
    "    display(svg.getCanvas())\n",
    "#     update()\n",
    "    t_next,t_now = t_now, t_next\n",
    "    time.sleep(1)"
   ]
  },
  {
   "cell_type": "code",
   "execution_count": null,
   "id": "04b10587",
   "metadata": {},
   "outputs": [],
   "source": []
  },
  {
   "cell_type": "code",
   "execution_count": null,
   "id": "ac63d25c",
   "metadata": {},
   "outputs": [],
   "source": []
  }
 ],
 "metadata": {
  "kernelspec": {
   "display_name": "Python 3 (ipykernel)",
   "language": "python",
   "name": "python3"
  },
  "language_info": {
   "codemirror_mode": {
    "name": "ipython",
    "version": 3
   },
   "file_extension": ".py",
   "mimetype": "text/x-python",
   "name": "python",
   "nbconvert_exporter": "python",
   "pygments_lexer": "ipython3",
   "version": "3.10.6"
  }
 },
 "nbformat": 4,
 "nbformat_minor": 5
}
