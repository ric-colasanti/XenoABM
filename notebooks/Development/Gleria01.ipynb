{
 "cells": [
  {
   "cell_type": "code",
   "execution_count": 1,
   "id": "834e2fd6",
   "metadata": {},
   "outputs": [],
   "source": [
    "from random import random,randint,shuffle\n",
    "from scipy.stats import expon\n",
    "from math import exp\n",
    "import matplotlib.pyplot as plt\n"
   ]
  },
  {
   "cell_type": "code",
   "execution_count": 2,
   "id": "33ab526c",
   "metadata": {},
   "outputs": [],
   "source": [
    "size = 102\n",
    "area = size*size\n",
    "flag = False\n",
    "exps=[]\n",
    "rnds=[]"
   ]
  },
  {
   "cell_type": "code",
   "execution_count": 3,
   "id": "da4d6b92",
   "metadata": {},
   "outputs": [],
   "source": [
    "def pos(x,y):\n",
    "    global size\n",
    "    return y*size + x"
   ]
  },
  {
   "cell_type": "code",
   "execution_count": 4,
   "id": "7cebfba6",
   "metadata": {},
   "outputs": [],
   "source": [
    "def coordinates(pos):\n",
    "    global size\n",
    "    y = pos// size\n",
    "    x = pos - y * size\n",
    "    return x , y"
   ]
  },
  {
   "cell_type": "code",
   "execution_count": 5,
   "id": "7db1ee7a",
   "metadata": {},
   "outputs": [],
   "source": [
    "def sector_factory(pos,occupied,habitability,beta):\n",
    "    x,y = coordinates(pos)\n",
    "    return{\"pos\":pos,\"occupied\":occupied,\"habitability\":habitability,\"beta\":beta\n",
    "           ,\"neighbours\":[],\"x_pos\":x,\"y_pos\":y,\"edge\":True}"
   ]
  },
  {
   "cell_type": "code",
   "execution_count": 6,
   "id": "8eff4ecc",
   "metadata": {},
   "outputs": [],
   "source": [
    "def occupy(sector):\n",
    "    global flag\n",
    "    if sector[\"edge\"]:\n",
    "        flag = False;\n",
    "    sector[\"occpied\"]=True\n",
    "    pos = sector[\"pos\"]\n",
    "    all_ccs.add(pos)\n",
    "    for i in sector[\"neighbours\"]:\n",
    "        if pos in space[i][\"neighbours\"]:\n",
    "            space[i][\"neighbours\"].remove(pos)\n",
    "            \n",
    "    "
   ]
  },
  {
   "cell_type": "code",
   "execution_count": 7,
   "id": "27868ec2",
   "metadata": {},
   "outputs": [],
   "source": [
    "def iterate(occupied):\n",
    "    n_occupied=[]\n",
    "    l = len(occupied)\n",
    "    shuffle(occupied)\n",
    "    for i in range(l):\n",
    "        z = occupied.pop()\n",
    "        cc = space[z]\n",
    "        if len(cc[\"neighbours\"])>0:\n",
    "            neighbours = cc[\"neighbours\"].copy()\n",
    "            for n in neighbours:\n",
    "                ncc = space[n]\n",
    "                e = exp(-random()*ncc[\"beta\"])\n",
    "                exps.append(e)\n",
    "                if ncc[\"habitability\"]<e:\n",
    "                    occupy(ncc)\n",
    "                    cc[\"neighbours\"].remove(ncc[\"pos\"])\n",
    "                    n_occupied.append(ncc[\"pos\"])\n",
    "        if len(cc[\"neighbours\"])>0:\n",
    "            n_occupied.append(cc[\"pos\"])\n",
    "    return n_occupied\n",
    "                \n",
    "    "
   ]
  },
  {
   "cell_type": "code",
   "execution_count": 8,
   "id": "80064779",
   "metadata": {},
   "outputs": [],
   "source": [
    "beta = 0\n",
    "space=[sector_factory(i,False,random(),beta) for i in range(area)]\n",
    "all_ccs=set()\n",
    "for x in range(1,size-1):\n",
    "    for y in range(1,size-1):\n",
    "        s = space[pos(x,y)]\n",
    "        s[\"edge\"]=False\n",
    "        s[\"neighbours\"]=[pos(x+1,y),pos(x-1,y),pos(x,y+1),pos(x,y-1)]\n",
    "occupied = [5050]\n",
    "occupy(space[5050])\n",
    "\n",
    "for s in space:\n",
    "    rnds.append(s[\"habitability\"])"
   ]
  },
  {
   "cell_type": "code",
   "execution_count": 9,
   "id": "89183094",
   "metadata": {},
   "outputs": [
    {
     "name": "stdout",
     "output_type": "stream",
     "text": [
      "49\n"
     ]
    }
   ],
   "source": [
    "flag = True\n",
    "t=0\n",
    "while flag:\n",
    "    shuffle(occupied)\n",
    "    occupied = iterate(occupied)\n",
    "    t+=1\n",
    "print(t)"
   ]
  },
  {
   "cell_type": "code",
   "execution_count": 10,
   "id": "452fdf3c",
   "metadata": {},
   "outputs": [],
   "source": [
    "x=[]\n",
    "y=[]\n",
    "for i in all_ccs:\n",
    "    x.append(space[i][\"x_pos\"])\n",
    "    y.append(space[i][\"y_pos\"])\n",
    "    \n"
   ]
  },
  {
   "cell_type": "code",
   "execution_count": 11,
   "id": "a163e862",
   "metadata": {},
   "outputs": [
    {
     "data": {
      "image/png": "[encoded data removed]",
      "text/plain": [
       "<Figure size 640x480 with 1 Axes>"
      ]
     },
     "metadata": {},
     "output_type": "display_data"
    }
   ],
   "source": [
    "plt.scatter(x,y,[0.1])\n",
    "plt.show()"
   ]
  },
  {
   "cell_type": "code",
   "execution_count": 12,
   "id": "fe33cdb0",
   "metadata": {},
   "outputs": [
    {
     "data": {
      "text/plain": [
       "4901"
      ]
     },
     "execution_count": 12,
     "metadata": {},
     "output_type": "execute_result"
    }
   ],
   "source": [
    "len(all_ccs)"
   ]
  },
  {
   "cell_type": "code",
   "execution_count": 13,
   "id": "c36f601a",
   "metadata": {},
   "outputs": [
    {
     "data": {
      "text/plain": [
       "(array([   0.,    0.,    0.,    0.,    0., 9604.,    0.,    0.,    0.,\n",
       "           0.]),\n",
       " array([0.5, 0.6, 0.7, 0.8, 0.9, 1. , 1.1, 1.2, 1.3, 1.4, 1.5]),\n",
       " <BarContainer object of 10 artists>)"
      ]
     },
     "execution_count": 13,
     "metadata": {},
     "output_type": "execute_result"
    },
    {
     "data": {
      "image/png": "[encoded data removed]",
      "text/plain": [
       "<Figure size 640x480 with 1 Axes>"
      ]
     },
     "metadata": {},
     "output_type": "display_data"
    }
   ],
   "source": [
    "plt.hist(exps)"
   ]
  },
  {
   "cell_type": "code",
   "execution_count": null,
   "id": "548feb18",
   "metadata": {},
   "outputs": [],
   "source": []
  },
  {
   "cell_type": "code",
   "execution_count": null,
   "id": "af0d7d46",
   "metadata": {},
   "outputs": [],
   "source": []
  }
 ],
 "metadata": {
  "kernelspec": {
   "display_name": "Python 3 (ipykernel)",
   "language": "python",
   "name": "python3"
  },
  "language_info": {
   "codemirror_mode": {
    "name": "ipython",
    "version": 3
   },
   "file_extension": ".py",
   "mimetype": "text/x-python",
   "name": "python",
   "nbconvert_exporter": "python",
   "pygments_lexer": "ipython3",
   "version": "3.10.6"
  }
 },
 "nbformat": 4,
 "nbformat_minor": 5
}
