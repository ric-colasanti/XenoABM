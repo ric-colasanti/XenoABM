{
 "cells": [
  {
   "cell_type": "code",
   "execution_count": 83,
   "metadata": {
    "colab": {
     "base_uri": "https://localhost:8080/"
    },
    "id": "3Bxw47Bbuy2u",
    "outputId": "0b6b2ea4-bb4c-479d-aac5-ad1f57d453b0"
   },
   "outputs": [
    {
     "name": "stdout",
     "output_type": "stream",
     "text": [
      "8\n"
     ]
    }
   ],
   "source": [
    "import numpy as np\n",
    "import random as rnd\n",
    "import matplotlib.pyplot as plt\n",
    "from mpl_toolkits import mplot3d\n",
    "from IPython.display import display, clear_output\n",
    "# import ipywidgets.interact class, this class will represent a slide bar.\n",
    "from ipywidgets import interact\n",
    "from matplotlib.colors import LinearSegmentedColormap\n",
    "import plotly.express as px\n",
    "import plotly.graph_objects as go\n",
    "import pandas as pd\n",
    "\n",
    "from multiprocessing import Pool, Lock, cpu_count,Manager\n",
    "manager = Manager()\n",
    "results = manager.list()\n",
    "cpu = cpu_count()\n",
    "print(cpu)"
   ]
  },
  {
   "cell_type": "markdown",
   "metadata": {
    "id": "Pxrkf-qw4rle"
   },
   "source": [
    "From:\n",
    "\n",
    "[Landis, Geoffrey A. \"The Fermi paradox: an approach based on percolation theory.\" Journal of the british interplanetary society 51.5 (1998): 163-166](http://www.geoffreylandis.com/percolation.htp)\n",
    "\n",
    "\n",
    "Space is a 3D grid. each cell of the grid ( a sector) is linked to its 6 immediate Von Numan neighbours. Each sector can be in one of three states:\n",
    " \n",
    "1: Uncolonized\n",
    " \n",
    "2: Colonised by colonising colony\n",
    " \n",
    "3: Colonised by a non colonising colony\n",
    "\n",
    "Algorithm:\n",
    " \n",
    "Each colonising colony searches its 6 immediate sectors for an uncolonized sector. If one is found then it is colonised with a colonising colony with a probability of p and a a non colonising colony with a probability 1-p\n"
   ]
  },
  {
   "cell_type": "markdown",
   "metadata": {
    "id": "kxDa3Soh8czS"
   },
   "source": [
    "\n",
    "Sector class\n",
    "\n",
    "This is a unit of 3d space\n",
    "\n",
    "It contains a state and a link to its 6 imediate neighbours\n",
    "\n",
    "Attributes\n",
    "\n",
    "            colonized -> int\n",
    "\n",
    "            x_pos ->int\n",
    "\n",
    "            y_pos ->int\n",
    "\n",
    "            z_pos ->int\n",
    "\n",
    "            neighbours-> list of Space\n",
    "\n",
    "            capasity -> boolean # if there are no empty neighbours\n",
    "\n",
    "Methods\n",
    "\n",
    "            add_neighbour\n",
    "\n",
    "            colonize\n",
    "\n",
    "            get_pos -> x,y,z\n"
   ]
  },
  {
   "cell_type": "code",
   "execution_count": 84,
   "metadata": {
    "id": "9SfGZGDF8y6K"
   },
   "outputs": [],
   "source": [
    "class Sector:\n",
    "    colinising = 0.5\n",
    "    def __init__(self,x_pos,y_pos,z_pos):\n",
    "        self.id = str(x_pos)+\":\"+str(y_pos)+\":\"+str(z_pos)\n",
    "        # give slight random stutter in xyz to produce a more 'realistic' plot\n",
    "        self.x_pos = x_pos + 0.5-rnd.random()\n",
    "        self.y_pos = y_pos + 0.5-rnd.random()\n",
    "        self.z_pos = z_pos + 0.5-rnd.random()\n",
    "        self.neighbours =[]\n",
    "        self.colonized=0\n",
    "        self.edge = True\n",
    "\n",
    "    def add_neighbour(self,sector):\n",
    "        self.neighbours.append(sector)\n",
    "\n",
    "    def colonize(self):\n",
    "        if len(self.neighbours)>0:\n",
    "            sector = rnd.choice(self.neighbours)\n",
    "            while sector.colonized>0 and len(self.neighbours)>0:\n",
    "                self.neighbours.remove(sector)\n",
    "                if len(self.neighbours)>0:\n",
    "                    sector = rnd.choice(self.neighbours)\n",
    "                else:\n",
    "                    return False\n",
    "            if rnd.random()<Sector.colinising:\n",
    "                sector.colonized=1\n",
    "            else:\n",
    "                sector.colonized=2\n",
    "            self.neighbours.remove(sector)\n",
    "            return sector\n",
    "        else:\n",
    "             return False\n",
    "\n",
    "    def get_pos(self):\n",
    "        c_type= \"un colonized\"\n",
    "        if self.colonized == 1:\n",
    "            c_type = \"spacefaring\"\n",
    "        if self.colonized == 2:\n",
    "            c_type = \"non-spacefaring\"    \n",
    "        return self.x_pos,self.y_pos,self.z_pos,c_type\n"
   ]
  },
  {
   "cell_type": "markdown",
   "metadata": {
    "id": "MRcK_zUS8qGU"
   },
   "source": [
    "Space class\n",
    "\n",
    "\n",
    "Attributes\n",
    "\n",
    "            size -> int\n",
    "            \n",
    "            colonies -> list of Space\n",
    "\n",
    "            space_faring -> list of Space\n",
    "\n",
    "            space_chart ->list of np lists (x,y,z,c)\n",
    "\n",
    "\n",
    "Methods\n",
    "\n",
    "            init_space\n",
    "\n",
    "            iterate\n",
    "\n",
    "            plot\n"
   ]
  },
  {
   "cell_type": "code",
   "execution_count": 85,
   "metadata": {
    "id": "Fqo8byi_5AE0"
   },
   "outputs": [],
   "source": [
    "\n",
    "class Space:\n",
    "    def __init__(self,size) -> None:\n",
    "        def bounds(v):\n",
    "            if v>=size: \n",
    "                return False\n",
    "            if v<0:\n",
    "                return False\n",
    "            return True\n",
    "            \n",
    "        self.size = size\n",
    "        self.edge = False\n",
    "        # crate sectors and link in network\n",
    "        temp_space=[]\n",
    "        for x in range(size):\n",
    "            temp_space.append([])\n",
    "            for y in range(size):\n",
    "                temp_space[x].append([])\n",
    "                for z in range(size):\n",
    "                    temp_space[x][y].append(Sector(x,y,z))\n",
    "        for x in range(1,size-1):\n",
    "            for y in range(1,size-1):\n",
    "                for z in range(1,size-1):\n",
    "                    temp_space[x][y][z].edge = False\n",
    "                    temp_space[x][y][z].add_neighbour(temp_space[x-1][y][z]) \n",
    "                    temp_space[x][y][z].add_neighbour(temp_space[x+1][y][z]) \n",
    "                    temp_space[x][y][z].add_neighbour(temp_space[x][y-1][z]) \n",
    "                    temp_space[x][y][z].add_neighbour(temp_space[x][y+1][z]) \n",
    "                    temp_space[x][y][z].add_neighbour(temp_space[x][y][z-1]) \n",
    "                    temp_space[x][y][z].add_neighbour(temp_space[x][y][z+1]) \n",
    "        \n",
    "        home_world = temp_space[x//2][y//2][z//2] \n",
    "        home_world.colonized=1\n",
    "        self.colonies = [home_world]\n",
    "        self.space_faring = [home_world]\n",
    "        x,y,z,c = home_world.get_pos()\n",
    "        self.star_map = []\n",
    "        self.star_map.append([x,y,z,c])\n",
    "\n",
    "    def iterate(self):\n",
    "        \n",
    "        new_worlds = []\n",
    "        settled = []\n",
    "\n",
    "        for c in self.space_faring:\n",
    "            new_world = c.colonize()\n",
    "            if new_world != False:\n",
    "                self.colonies.append(new_world)\n",
    "                x,y,z,c_type = new_world.get_pos()\n",
    "                self.star_map.append([x,y,z,c_type])\n",
    "                if new_world.colonized==1:\n",
    "                    new_worlds.append(new_world)\n",
    "                if new_world.edge:\n",
    "                    self.edge= True\n",
    "\n",
    "            if len(c.neighbours)==0:\n",
    "                settled.append(c)\n",
    "\n",
    "\n",
    "        for s in settled:\n",
    "            self.space_faring.remove(s)\n",
    "        for n in new_worlds:\n",
    "            self.space_faring.append(n)\n",
    "                    \n",
    "    \n",
    "        return len(self.space_faring)==0, self.edge\n",
    "\n",
    "\n",
    "                    \n",
    "    "
   ]
  },
  {
   "cell_type": "code",
   "execution_count": 86,
   "metadata": {
    "id": "cWQ4sZSf8VVl"
   },
   "outputs": [],
   "source": [
    "# seed = rnd.randrange(1000000)\n",
    "# seed=145138\n",
    "# rnd.seed(seed)\n",
    "def experiment(p):\n",
    "    Sector.colinising=p\n",
    "    size =50\n",
    "    asize=size-2\n",
    "    for r in range(10):\n",
    "        state = \"expanding\"\n",
    "        exp = Space(size)\n",
    "        for i in range(200):\n",
    "            flag, edge = exp.iterate()\n",
    "            if flag:\n",
    "                state = \"dormant\"\n",
    "                break\n",
    "        if edge:\n",
    "            state = \"edge\"\n",
    "        results.append([p,r,len(exp.star_map)/(size*size*size),state])\n"
   ]
  },
  {
   "cell_type": "code",
   "execution_count": null,
   "metadata": {
    "colab": {
     "base_uri": "https://localhost:8080/"
    },
    "id": "ZDnRxYGyuLlv",
    "outputId": "5831a9d8-2243-457c-8b5b-bda13f7cc6f6",
    "scrolled": true
   },
   "outputs": [],
   "source": [
    "\n",
    "\n",
    "\n",
    "p = Pool(cpu)\n",
    "result = p.map(experiment, [i/100 for i in range(60)])"
   ]
  },
  {
   "cell_type": "code",
   "execution_count": null,
   "metadata": {
    "id": "ieo2a8Si95HB"
   },
   "outputs": [],
   "source": [
    "print(\"done\")"
   ]
  },
  {
   "cell_type": "code",
   "execution_count": null,
   "metadata": {
    "id": "MvisxrC_B8J6"
   },
   "outputs": [],
   "source": [
    "df = pd.DataFrame(list(results), columns=['probability_of_spacefaring','rep','fraction_of_space_colonised','state'])"
   ]
  },
  {
   "cell_type": "code",
   "execution_count": null,
   "metadata": {},
   "outputs": [],
   "source": [
    "fig = px.scatter(df, x=\"probability_of_spacefaring\", y=\"fraction_of_space_colonised\", color=\"state\",log_y=True)\n",
    "fig.show()"
   ]
  },
  {
   "cell_type": "code",
   "execution_count": null,
   "metadata": {},
   "outputs": [],
   "source": [
    "stats = df.groupby(\"probability_of_spacefaring\").agg({\"fraction_of_space_colonised\":['mean','std']})"
   ]
  },
  {
   "cell_type": "code",
   "execution_count": null,
   "metadata": {},
   "outputs": [],
   "source": [
    "stats.head()"
   ]
  },
  {
   "cell_type": "code",
   "execution_count": null,
   "metadata": {},
   "outputs": [],
   "source": [
    "fig = go.Figure(data=go.Scatter(\n",
    "        x=stats.index,\n",
    "        y=stats[\"fraction_of_space_colonised\"][\"mean\"],\n",
    "        mode='markers',\n",
    "        error_y=dict(\n",
    "            type='data', # value of error bar given in data coordinates\n",
    "            array=stats[\"fraction_of_space_colonised\"][\"std\"],\n",
    "            visible=True)\n",
    "    ))\n",
    "#fig.update_yaxes(type=\"log\")\n",
    "fig.show()"
   ]
  },
  {
   "cell_type": "code",
   "execution_count": null,
   "metadata": {},
   "outputs": [],
   "source": [
    "fig = go.Figure(data=go.Scatter(\n",
    "        x=stats.index,\n",
    "        y=stats[\"fraction_of_space_colonised\"][\"mean\"],\n",
    "        mode='markers'\n",
    "    ))\n",
    "fig.update_yaxes(type=\"log\")\n",
    "fig.show()"
   ]
  },
  {
   "cell_type": "code",
   "execution_count": null,
   "metadata": {},
   "outputs": [],
   "source": []
  }
 ],
 "metadata": {
  "colab": {
   "provenance": []
  },
  "kernelspec": {
   "display_name": "Python 3 (ipykernel)",
   "language": "python",
   "name": "python3"
  },
  "language_info": {
   "codemirror_mode": {
    "name": "ipython",
    "version": 3
   },
   "file_extension": ".py",
   "mimetype": "text/x-python",
   "name": "python",
   "nbconvert_exporter": "python",
   "pygments_lexer": "ipython3",
   "version": "3.10.6"
  }
 },
 "nbformat": 4,
 "nbformat_minor": 1
}
