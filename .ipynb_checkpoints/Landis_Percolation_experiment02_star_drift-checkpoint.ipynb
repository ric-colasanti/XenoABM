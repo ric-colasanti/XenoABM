{
 "cells": [
  {
   "cell_type": "code",
   "execution_count": 70,
   "metadata": {
    "colab": {
     "base_uri": "https://localhost:8080/"
    },
    "id": "3Bxw47Bbuy2u",
    "outputId": "0b6b2ea4-bb4c-479d-aac5-ad1f57d453b0"
   },
   "outputs": [
    {
     "name": "stdout",
     "output_type": "stream",
     "text": [
      "8\n"
     ]
    }
   ],
   "source": [
    "import numpy as np\n",
    "import random as rnd\n",
    "import matplotlib.pyplot as plt\n",
    "from mpl_toolkits import mplot3d\n",
    "from IPython.display import display, clear_output\n",
    "# import ipywidgets.interact class, this class will represent a slide bar.\n",
    "from ipywidgets import interact\n",
    "from matplotlib.colors import LinearSegmentedColormap\n",
    "import plotly.express as px\n",
    "import pandas as pd\n",
    "\n",
    "from multiprocessing import Pool, Lock, cpu_count,Manager\n",
    "manager = Manager()\n",
    "results = manager.list()\n",
    "cpu = cpu_count()\n",
    "print(cpu)"
   ]
  },
  {
   "cell_type": "markdown",
   "metadata": {
    "id": "Pxrkf-qw4rle"
   },
   "source": [
    "From:\n",
    "\n",
    "[Landis, Geoffrey A. \"The Fermi paradox: an approach based on percolation theory.\" Journal of the british interplanetary society 51.5 (1998): 163-166](http://www.geoffreylandis.com/percolation.htp)\n",
    "\n",
    "\n",
    "Space is a 3D grid. each cell of the grid ( a sector) is linked to its 6 immediate Von Numan neighbours. Each sector can be in one of three states:\n",
    " \n",
    "1: Uncolonized\n",
    " \n",
    "2: Colonised by colonising colony\n",
    " \n",
    "3: Colonised by a non colonising colony\n",
    "\n",
    "Algorithm:\n",
    " \n",
    "Each colonising colony searches its 6 immediate sectors for an uncolonized sector. If one is found then it is colonised with a colonising colony with a probability of p and a a non colonising colony with a probability 1-p\n"
   ]
  },
  {
   "cell_type": "markdown",
   "metadata": {
    "id": "kxDa3Soh8czS"
   },
   "source": [
    "\n",
    "Sector class\n",
    "\n",
    "This is a unit of 3d space\n",
    "\n",
    "It contains a state and a link to its 6 imediate neighbours\n",
    "\n",
    "Attributes\n",
    "\n",
    "            colonized -> int\n",
    "\n",
    "            x_pos ->int\n",
    "\n",
    "            y_pos ->int\n",
    "\n",
    "            z_pos ->int\n",
    "\n",
    "            neighbours-> list of Space\n",
    "\n",
    "            capasity -> boolean # if there are no empty neighbours\n",
    "\n",
    "Methods\n",
    "\n",
    "            add_neighbour\n",
    "\n",
    "            colonize\n",
    "\n",
    "            get_pos -> x,y,z\n"
   ]
  },
  {
   "cell_type": "code",
   "execution_count": 71,
   "metadata": {
    "id": "9SfGZGDF8y6K"
   },
   "outputs": [],
   "source": [
    "class Sector:\n",
    "    colinising = 0.5\n",
    "    def __init__(self,x_pos,y_pos,z_pos):\n",
    "        self.id = str(x_pos)+\":\"+str(y_pos)+\":\"+str(z_pos)\n",
    "        # give slight random stutter in xyz to produce a more 'realistic' plot\n",
    "        self.x_pos = x_pos + 0.5-rnd.random()\n",
    "        self.y_pos = y_pos + 0.5-rnd.random()\n",
    "        self.z_pos = z_pos + 0.5-rnd.random()\n",
    "        self.neighbours =[]\n",
    "        self.colonized=0\n",
    "        self.edge = True\n",
    "\n",
    "    def add_neighbour(self,sector):\n",
    "        self.neighbours.append(sector)\n",
    "\n",
    "    def colonize(self):\n",
    "        if len(self.neighbours)>0:\n",
    "            sector = rnd.choice(self.neighbours)\n",
    "            while sector.colonized>0 and len(self.neighbours)>0:\n",
    "                self.neighbours.remove(sector)\n",
    "                if len(self.neighbours)>0:\n",
    "                    sector = rnd.choice(self.neighbours)\n",
    "                else:\n",
    "                    return False\n",
    "            if rnd.random()<Sector.colinising:\n",
    "                sector.colonized=1\n",
    "            else:\n",
    "                sector.colonized=2\n",
    "            self.neighbours.remove(sector)\n",
    "            return sector\n",
    "        else:\n",
    "             return False\n",
    "\n",
    "    def get_pos(self):\n",
    "        c_type= \"un colonized\"\n",
    "        if self.colonized == 1:\n",
    "            c_type = \"spacefaring\"\n",
    "        if self.colonized == 2:\n",
    "            c_type = \"non-spacefaring\"    \n",
    "        return self.x_pos,self.y_pos,self.z_pos,c_type\n"
   ]
  },
  {
   "cell_type": "markdown",
   "metadata": {
    "id": "MRcK_zUS8qGU"
   },
   "source": [
    "Space class\n",
    "\n",
    "\n",
    "Attributes\n",
    "\n",
    "            size -> int\n",
    "            \n",
    "            colonies -> list of Space\n",
    "\n",
    "            space_faring -> list of Space\n",
    "\n",
    "            space_chart ->list of np lists (x,y,z,c)\n",
    "\n",
    "\n",
    "Methods\n",
    "\n",
    "            init_space\n",
    "\n",
    "            iterate\n",
    "\n",
    "            plot\n"
   ]
  },
  {
   "cell_type": "code",
   "execution_count": 72,
   "metadata": {
    "id": "Fqo8byi_5AE0"
   },
   "outputs": [],
   "source": [
    "\n",
    "class Space:\n",
    "    def __init__(self,size) -> None:\n",
    "        def bounds(v):\n",
    "            if v>=size: \n",
    "                return False\n",
    "            if v<0:\n",
    "                return False\n",
    "            return True\n",
    "            \n",
    "        self.size = size\n",
    "        self.edge = False\n",
    "        # crate sectors and link in network\n",
    "        temp_space=[]\n",
    "        for x in range(size):\n",
    "            temp_space.append([])\n",
    "            for y in range(size):\n",
    "                temp_space[x].append([])\n",
    "                for z in range(size):\n",
    "                    temp_space[x][y].append(Sector(x,y,z))\n",
    "        for x in range(1,size-1):\n",
    "            for y in range(1,size-1):\n",
    "                for z in range(1,size-1):\n",
    "                    temp_space[x][y][z].edge = False\n",
    "                    temp_space[x][y][z].add_neighbour(temp_space[x-1][y][z]) \n",
    "                    temp_space[x][y][z].add_neighbour(temp_space[x+1][y][z]) \n",
    "                    temp_space[x][y][z].add_neighbour(temp_space[x][y-1][z]) \n",
    "                    temp_space[x][y][z].add_neighbour(temp_space[x][y+1][z]) \n",
    "                    temp_space[x][y][z].add_neighbour(temp_space[x][y][z-1]) \n",
    "                    temp_space[x][y][z].add_neighbour(temp_space[x][y][z+1]) \n",
    "        \n",
    "        home_world = temp_space[x//2][y//2][z//2] \n",
    "        home_world.colonized=1\n",
    "        self.colonies = [home_world]\n",
    "        self.space_faring = [home_world]\n",
    "        x,y,z,c = home_world.get_pos()\n",
    "        self.star_map = []\n",
    "        self.star_map.append([x,y,z,c])\n",
    "\n",
    "    def iterate(self):\n",
    "        \n",
    "        new_worlds = []\n",
    "        settled = []\n",
    "\n",
    "        for c in self.space_faring:\n",
    "            new_world = c.colonize()\n",
    "            if new_world != False:\n",
    "                self.colonies.append(new_world)\n",
    "                x,y,z,c_type = new_world.get_pos()\n",
    "                self.star_map.append([x,y,z,c_type])\n",
    "                if new_world.colonized==1:\n",
    "                    new_worlds.append(new_world)\n",
    "                if new_world.edge:\n",
    "                    self.edge= True\n",
    "\n",
    "            if len(c.neighbours)==0:\n",
    "                settled.append(c)\n",
    "\n",
    "\n",
    "        for s in settled:\n",
    "            self.space_faring.remove(s)\n",
    "        for n in new_worlds:\n",
    "            self.space_faring.append(n)\n",
    "                    \n",
    "    \n",
    "        return len(self.space_faring)==0, self.edge\n",
    "\n",
    "\n",
    "                    \n",
    "    "
   ]
  },
  {
   "cell_type": "code",
   "execution_count": 73,
   "metadata": {
    "id": "cWQ4sZSf8VVl"
   },
   "outputs": [],
   "source": [
    "# seed = rnd.randrange(1000000)\n",
    "# seed=145138\n",
    "# rnd.seed(seed)\n",
    "def experiment(p):\n",
    "    Sector.colinising=p\n",
    "    size =50\n",
    "    asize=size-2\n",
    "    for r in range(5):\n",
    "        state = \"expanding\"\n",
    "        exp = Space(size)\n",
    "        for i in range(200):\n",
    "            flag, edge = exp.iterate()\n",
    "            if flag:\n",
    "                state = \"dormant\"\n",
    "                break\n",
    "        if edge:\n",
    "            state = \"edge\"\n",
    "        results.append([p,r,len(exp.star_map)/(size*size*size),state])\n"
   ]
  },
  {
   "cell_type": "code",
   "execution_count": 74,
   "metadata": {
    "colab": {
     "base_uri": "https://localhost:8080/"
    },
    "id": "ZDnRxYGyuLlv",
    "outputId": "5831a9d8-2243-457c-8b5b-bda13f7cc6f6",
    "scrolled": true
   },
   "outputs": [],
   "source": [
    "\n",
    "\n",
    "\n",
    "p = Pool(cpu)\n",
    "result = p.map(experiment, [i/100 for i in range(100)])"
   ]
  },
  {
   "cell_type": "code",
   "execution_count": 75,
   "metadata": {
    "id": "ieo2a8Si95HB"
   },
   "outputs": [
    {
     "name": "stdout",
     "output_type": "stream",
     "text": [
      "done\n"
     ]
    }
   ],
   "source": [
    "print(\"done\")"
   ]
  },
  {
   "cell_type": "code",
   "execution_count": 76,
   "metadata": {
    "id": "MvisxrC_B8J6"
   },
   "outputs": [],
   "source": [
    "df = pd.DataFrame(list(results), columns=['probability_of_spacefaring','rep','fraction_of_space_colonised','state'])"
   ]
  },
  {
   "cell_type": "code",
   "execution_count": 82,
   "metadata": {},
   "outputs": [
    {
     "data": {
      "application/vnd.plotly.v1+json": {
       "config": {
        "plotlyServerURL": "https://plot.ly"
       },
       "data": [
        {
         "hovertemplate": "state=dormant<br>probability_of_spacefaring=%{x}<br>fraction_of_space_colonised=%{y}<extra></extra>",
         "legendgroup": "dormant",
         "marker": {
          "color": "#636efa",
          "symbol": "circle"
         },
         "mode": "markers",
         "name": "dormant",
         "orientation": "v",
         "showlegend": true,
         "type": "scatter",
         "x": [
          0.24,
          0.08,
          0.16,
          0.04,
          0.2,
          0,
          0.28,
          0.12,
          0.24,
          0.04,
          0.28,
          0.16,
          0.12,
          0,
          0.08,
          0.2,
          0.24,
          0.28,
          0.08,
          0.04,
          0,
          0.12,
          0.2,
          0.16,
          0.24,
          0.08,
          0,
          0.28,
          0.04,
          0.12,
          0.16,
          0.2,
          0.24,
          0,
          0.28,
          0.04,
          0.08,
          0.12,
          0.16,
          0.2,
          0.25,
          0.01,
          0.29,
          0.05,
          0.09,
          0.13,
          0.17,
          0.21,
          0.25,
          0.01,
          0.29,
          0.05,
          0.09,
          0.13,
          0.17,
          0.21,
          0.25,
          0.01,
          0.29,
          0.05,
          0.09,
          0.13,
          0.17,
          0.21,
          0.25,
          0.01,
          0.29,
          0.05,
          0.09,
          0.13,
          0.17,
          0.21,
          0.25,
          0.01,
          0.29,
          0.05,
          0.13,
          0.17,
          0.09,
          0.21,
          0.26,
          0.02,
          0.3,
          0.06,
          0.14,
          0.18,
          0.1,
          0.22,
          0.26,
          0.02,
          0.3,
          0.06,
          0.14,
          0.18,
          0.22,
          0.1,
          0.26,
          0.02,
          0.3,
          0.06,
          0.14,
          0.18,
          0.22,
          0.1,
          0.26,
          0.02,
          0.06,
          0.14,
          0.18,
          0.22,
          0.1,
          0.26,
          0.02,
          0.3,
          0.06,
          0.14,
          0.18,
          0.22,
          0.1,
          0.27,
          0.03,
          0.31,
          0.07,
          0.15,
          0.19,
          0.23,
          0.11,
          0.27,
          0.03,
          0.31,
          0.07,
          0.15,
          0.19,
          0.23,
          0.11,
          0.27,
          0.03,
          0.31,
          0.07,
          0.15,
          0.19,
          0.23,
          0.11,
          0.27,
          0.03,
          0.07,
          0.15,
          0.19,
          0.23,
          0.11,
          0.27,
          0.03,
          0.07,
          0.31,
          0.15,
          0.19,
          0.23,
          0.11,
          0.4,
          0.32,
          0.32,
          0.44,
          0.36,
          0.33,
          0.33,
          0.48,
          0.33,
          0.34,
          0.41,
          0.37,
          0.34,
          0.34,
          0.39,
          0.39
         ],
         "xaxis": "x",
         "y": [
          0.00036,
          5.6e-05,
          5.6e-05,
          5.6e-05,
          9.6e-05,
          5.6e-05,
          0.000248,
          5.6e-05,
          0.00056,
          5.6e-05,
          0.000128,
          0.000168,
          0.000128,
          5.6e-05,
          5.6e-05,
          0.000304,
          0.000432,
          0.003536,
          5.6e-05,
          5.6e-05,
          5.6e-05,
          0.000128,
          5.6e-05,
          5.6e-05,
          0.000128,
          5.6e-05,
          5.6e-05,
          0.000232,
          5.6e-05,
          9.6e-05,
          0.000312,
          0.000736,
          5.6e-05,
          5.6e-05,
          5.6e-05,
          5.6e-05,
          9.6e-05,
          5.6e-05,
          5.6e-05,
          0.00016,
          0.000168,
          5.6e-05,
          0.000352,
          9.6e-05,
          5.6e-05,
          0.000296,
          9.6e-05,
          9.6e-05,
          0.001824,
          5.6e-05,
          0.000224,
          5.6e-05,
          9.6e-05,
          5.6e-05,
          0.000232,
          0.000448,
          0.000232,
          5.6e-05,
          0.00088,
          0.000128,
          5.6e-05,
          0.000128,
          0.000456,
          0.001064,
          5.6e-05,
          5.6e-05,
          5.6e-05,
          5.6e-05,
          5.6e-05,
          5.6e-05,
          0.000288,
          0.00032,
          0.000216,
          5.6e-05,
          0.001,
          0.000128,
          0.000272,
          9.6e-05,
          5.6e-05,
          5.6e-05,
          0.000384,
          5.6e-05,
          0.000512,
          5.6e-05,
          5.6e-05,
          0.000152,
          5.6e-05,
          0.00016,
          0.001024,
          5.6e-05,
          0.00364,
          5.6e-05,
          0.000224,
          5.6e-05,
          0.000296,
          5.6e-05,
          0.000184,
          5.6e-05,
          0.000208,
          5.6e-05,
          5.6e-05,
          0.000192,
          0.00052,
          0.00016,
          0.000328,
          5.6e-05,
          9.6e-05,
          9.6e-05,
          9.6e-05,
          5.6e-05,
          5.6e-05,
          0.002536,
          5.6e-05,
          0.00032,
          5.6e-05,
          5.6e-05,
          5.6e-05,
          9.6e-05,
          5.6e-05,
          9.6e-05,
          5.6e-05,
          5.6e-05,
          5.6e-05,
          0.000208,
          0.00024,
          9.6e-05,
          0.000328,
          0.000272,
          5.6e-05,
          0.00116,
          5.6e-05,
          5.6e-05,
          9.6e-05,
          5.6e-05,
          0.000128,
          9.6e-05,
          5.6e-05,
          0.000368,
          0.000128,
          9.6e-05,
          0.000368,
          0.000224,
          0.000192,
          0.001024,
          5.6e-05,
          5.6e-05,
          5.6e-05,
          0.000128,
          5.6e-05,
          0.000128,
          0.00016,
          5.6e-05,
          9.6e-05,
          0.00148,
          9.6e-05,
          5.6e-05,
          0.000392,
          0.000136,
          5.6e-05,
          0.00116,
          5.6e-05,
          5.6e-05,
          5.6e-05,
          0.001664,
          0.000168,
          9.6e-05,
          0.000344,
          0.000192,
          5.6e-05,
          0.000128,
          9.6e-05,
          0.002712,
          0.000128,
          0.000128
         ],
         "yaxis": "y"
        },
        {
         "hovertemplate": "state=edge<br>probability_of_spacefaring=%{x}<br>fraction_of_space_colonised=%{y}<extra></extra>",
         "legendgroup": "edge",
         "marker": {
          "color": "#EF553B",
          "symbol": "circle"
         },
         "mode": "markers",
         "name": "edge",
         "orientation": "v",
         "showlegend": true,
         "type": "scatter",
         "x": [
          0.3,
          0.31,
          0.36,
          0.44,
          0.32,
          0.48,
          0.4,
          0.52,
          0.36,
          0.56,
          0.6,
          0.44,
          0.48,
          0.36,
          0.52,
          0.56,
          0.4,
          0.6,
          0.32,
          0.33,
          0.4,
          0.48,
          0.44,
          0.56,
          0.52,
          0.36,
          0.6,
          0.48,
          0.4,
          0.44,
          0.56,
          0.37,
          0.52,
          0.33,
          0.6,
          0.41,
          0.45,
          0.37,
          0.56,
          0.52,
          0.49,
          0.41,
          0.37,
          0.6,
          0.34,
          0.45,
          0.49,
          0.57,
          0.53,
          0.61,
          0.45,
          0.57,
          0.37,
          0.41,
          0.34,
          0.53,
          0.49,
          0.61,
          0.38,
          0.45,
          0.41,
          0.57,
          0.49,
          0.53,
          0.35,
          0.38,
          0.42,
          0.45,
          0.61,
          0.35,
          0.49,
          0.53,
          0.57,
          0.38,
          0.35,
          0.46,
          0.42,
          0.5,
          0.61,
          0.38,
          0.35,
          0.42,
          0.46,
          0.57,
          0.53,
          0.38,
          0.5,
          0.61,
          0.42,
          0.35,
          0.58,
          0.46,
          0.54,
          0.5,
          0.39,
          0.42,
          0.62,
          0.64,
          0.54,
          0.58,
          0.46,
          0.5,
          0.39,
          0.43,
          0.64,
          0.58,
          0.62,
          0.46,
          0.54,
          0.43,
          0.5,
          0.58,
          0.47,
          0.39,
          0.64,
          0.54,
          0.62,
          0.51,
          0.43,
          0.47,
          0.68,
          0.62,
          0.54,
          0.58,
          0.51,
          0.64,
          0.43,
          0.47,
          0.68,
          0.43,
          0.59,
          0.55,
          0.64,
          0.62,
          0.51,
          0.47,
          0.59,
          0.55,
          0.68,
          0.72,
          0.51,
          0.63,
          0.65,
          0.47,
          0.55,
          0.59,
          0.68,
          0.51,
          0.72,
          0.65,
          0.63,
          0.76,
          0.55,
          0.59,
          0.72,
          0.8,
          0.63,
          0.65,
          0.68,
          0.76,
          0.55,
          0.59,
          0.63,
          0.72,
          0.69,
          0.8,
          0.76,
          0.65,
          0.84,
          0.88,
          0.72,
          0.8,
          0.63,
          0.69,
          0.65,
          0.76,
          0.84,
          0.88,
          0.8,
          0.73,
          0.69,
          0.92,
          0.66,
          0.76,
          0.84,
          0.69,
          0.88,
          0.8,
          0.73,
          0.66,
          0.92,
          0.77,
          0.84,
          0.69,
          0.88,
          0.73,
          0.81,
          0.66,
          0.92,
          0.77,
          0.84,
          0.7,
          0.66,
          0.81,
          0.88,
          0.73,
          0.92,
          0.77,
          0.85,
          0.81,
          0.7,
          0.89,
          0.66,
          0.73,
          0.92,
          0.77,
          0.7,
          0.85,
          0.81,
          0.67,
          0.89,
          0.74,
          0.77,
          0.93,
          0.7,
          0.85,
          0.67,
          0.81,
          0.89,
          0.74,
          0.78,
          0.93,
          0.7,
          0.67,
          0.85,
          0.82,
          0.78,
          0.74,
          0.89,
          0.93,
          0.71,
          0.67,
          0.85,
          0.82,
          0.74,
          0.78,
          0.89,
          0.93,
          0.71,
          0.86,
          0.67,
          0.82,
          0.9,
          0.78,
          0.74,
          0.93,
          0.71,
          0.86,
          0.82,
          0.96,
          0.9,
          0.75,
          0.78,
          0.94,
          0.71,
          0.86,
          0.82,
          0.96,
          0.75,
          0.9,
          0.79,
          0.94,
          0.71,
          0.86,
          0.83,
          0.75,
          0.96,
          0.9,
          0.79,
          0.86,
          0.94,
          0.96,
          0.83,
          0.75,
          0.9,
          0.79,
          0.94,
          0.87,
          0.96,
          0.91,
          0.83,
          0.79,
          0.75,
          0.87,
          0.94,
          0.91,
          0.97,
          0.87,
          0.83,
          0.79,
          0.91,
          0.95,
          0.87,
          0.97,
          0.83,
          0.91,
          0.95,
          0.87,
          0.97,
          0.91,
          0.95,
          0.97,
          0.95,
          0.97,
          0.95,
          0.98,
          0.98,
          0.98,
          0.98,
          0.98,
          0.99,
          0.99,
          0.99,
          0.99,
          0.99
         ],
         "xaxis": "x",
         "y": [
          0.01272,
          0.046904,
          0.612232,
          0.87172,
          0.031272,
          0.901648,
          0.805,
          0.922472,
          0.52484,
          0.934096,
          0.945704,
          0.867032,
          0.902472,
          0.61076,
          0.921304,
          0.935792,
          0.806712,
          0.944912,
          0.017232,
          0.201184,
          0.806192,
          0.903752,
          0.87012,
          0.935168,
          0.920024,
          0.519832,
          0.944736,
          0.900072,
          0.80228,
          0.872528,
          0.934744,
          0.710032,
          0.921264,
          0.056664,
          0.945648,
          0.82872,
          0.879256,
          0.591648,
          0.935848,
          0.92044,
          0.906688,
          0.829672,
          0.716984,
          0.944,
          0.23764,
          0.877104,
          0.908968,
          0.938544,
          0.927352,
          0.945928,
          0.87712,
          0.938072,
          0.706112,
          0.821008,
          0.187792,
          0.923248,
          0.906864,
          0.94592,
          0.699944,
          0.876704,
          0.832328,
          0.938496,
          0.90592,
          0.925272,
          0.30688,
          0.741904,
          0.848016,
          0.87708,
          0.946296,
          0.437808,
          0.910656,
          0.924936,
          0.938208,
          0.751736,
          0.398152,
          0.888608,
          0.845664,
          0.911624,
          0.946792,
          0.737368,
          0.5444,
          0.841592,
          0.890544,
          0.938488,
          0.925512,
          0.743928,
          0.913904,
          0.947168,
          0.843952,
          0.55432,
          0.9404,
          0.885888,
          0.9312,
          0.912568,
          0.770512,
          0.843584,
          0.949016,
          0.95176,
          0.929144,
          0.939728,
          0.887424,
          0.913,
          0.784472,
          0.857144,
          0.952096,
          0.940864,
          0.948632,
          0.886768,
          0.929736,
          0.85476,
          0.911856,
          0.941656,
          0.893856,
          0.784384,
          0.951616,
          0.928768,
          0.948176,
          0.91972,
          0.861448,
          0.889776,
          0.959328,
          0.94736,
          0.929472,
          0.941648,
          0.918792,
          0.951568,
          0.86268,
          0.894952,
          0.957328,
          0.85724,
          0.941632,
          0.933216,
          0.951912,
          0.948824,
          0.918752,
          0.896632,
          0.942792,
          0.931944,
          0.958496,
          0.963136,
          0.920648,
          0.950864,
          0.954656,
          0.89116,
          0.931936,
          0.9432,
          0.95792,
          0.919928,
          0.963224,
          0.95292,
          0.949976,
          0.968576,
          0.931984,
          0.94304,
          0.96312,
          0.972824,
          0.95084,
          0.954368,
          0.958336,
          0.968808,
          0.930704,
          0.943344,
          0.950592,
          0.96488,
          0.959288,
          0.973608,
          0.967896,
          0.953928,
          0.977304,
          0.981976,
          0.963696,
          0.973608,
          0.950624,
          0.959312,
          0.954096,
          0.968744,
          0.977752,
          0.981992,
          0.973056,
          0.965328,
          0.960104,
          0.986712,
          0.955496,
          0.969056,
          0.977768,
          0.95928,
          0.981408,
          0.973592,
          0.964608,
          0.955736,
          0.98648,
          0.969968,
          0.977792,
          0.959136,
          0.981568,
          0.9648,
          0.973888,
          0.956392,
          0.986544,
          0.9696,
          0.977008,
          0.961776,
          0.955456,
          0.974112,
          0.982008,
          0.965672,
          0.986696,
          0.969464,
          0.978968,
          0.974384,
          0.961248,
          0.98292,
          0.95448,
          0.964576,
          0.986352,
          0.9706,
          0.961248,
          0.978864,
          0.974304,
          0.957016,
          0.983312,
          0.96612,
          0.969192,
          0.987768,
          0.960816,
          0.978184,
          0.956288,
          0.974184,
          0.982896,
          0.966152,
          0.971088,
          0.987344,
          0.961208,
          0.956776,
          0.979184,
          0.97524,
          0.970248,
          0.9658,
          0.983576,
          0.987552,
          0.96328,
          0.957096,
          0.979,
          0.9752,
          0.966696,
          0.970624,
          0.98336,
          0.987936,
          0.962344,
          0.979376,
          0.956744,
          0.975568,
          0.984688,
          0.970552,
          0.966312,
          0.98772,
          0.962088,
          0.979576,
          0.975552,
          0.99128,
          0.984184,
          0.967608,
          0.971504,
          0.988712,
          0.96208,
          0.979328,
          0.974864,
          0.99088,
          0.967808,
          0.984224,
          0.971784,
          0.988256,
          0.961568,
          0.979624,
          0.977264,
          0.967768,
          0.991136,
          0.984384,
          0.971104,
          0.979808,
          0.988488,
          0.99128,
          0.977,
          0.967584,
          0.984544,
          0.97168,
          0.988608,
          0.98104,
          0.9912,
          0.984872,
          0.975584,
          0.97244,
          0.967096,
          0.98068,
          0.989008,
          0.98536,
          0.991976,
          0.980632,
          0.976336,
          0.971848,
          0.985288,
          0.989856,
          0.980712,
          0.992088,
          0.976456,
          0.98568,
          0.989824,
          0.980368,
          0.992272,
          0.98492,
          0.989888,
          0.99184,
          0.989808,
          0.991992,
          0.989968,
          0.993136,
          0.993112,
          0.993144,
          0.993064,
          0.993024,
          0.99436,
          0.994208,
          0.994248,
          0.994144,
          0.994304
         ],
         "yaxis": "y"
        },
        {
         "hovertemplate": "state=expanding<br>probability_of_spacefaring=%{x}<br>fraction_of_space_colonised=%{y}<extra></extra>",
         "legendgroup": "expanding",
         "marker": {
          "color": "#00cc96",
          "symbol": "circle"
         },
         "mode": "markers",
         "name": "expanding",
         "orientation": "v",
         "showlegend": true,
         "type": "scatter",
         "x": [
          0.32
         ],
         "xaxis": "x",
         "y": [
          0.023752
         ],
         "yaxis": "y"
        }
       ],
       "layout": {
        "legend": {
         "title": {
          "text": "state"
         },
         "tracegroupgap": 0
        },
        "margin": {
         "t": 60
        },
        "template": {
         "data": {
          "bar": [
           {
            "error_x": {
             "color": "#2a3f5f"
            },
            "error_y": {
             "color": "#2a3f5f"
            },
            "marker": {
             "line": {
              "color": "#E5ECF6",
              "width": 0.5
             },
             "pattern": {
              "fillmode": "overlay",
              "size": 10,
              "solidity": 0.2
             }
            },
            "type": "bar"
           }
          ],
          "barpolar": [
           {
            "marker": {
             "line": {
              "color": "#E5ECF6",
              "width": 0.5
             },
             "pattern": {
              "fillmode": "overlay",
              "size": 10,
              "solidity": 0.2
             }
            },
            "type": "barpolar"
           }
          ],
          "carpet": [
           {
            "aaxis": {
             "endlinecolor": "#2a3f5f",
             "gridcolor": "white",
             "linecolor": "white",
             "minorgridcolor": "white",
             "startlinecolor": "#2a3f5f"
            },
            "baxis": {
             "endlinecolor": "#2a3f5f",
             "gridcolor": "white",
             "linecolor": "white",
             "minorgridcolor": "white",
             "startlinecolor": "#2a3f5f"
            },
            "type": "carpet"
           }
          ],
          "choropleth": [
           {
            "colorbar": {
             "outlinewidth": 0,
             "ticks": ""
            },
            "type": "choropleth"
           }
          ],
          "contour": [
           {
            "colorbar": {
             "outlinewidth": 0,
             "ticks": ""
            },
            "colorscale": [
             [
              0,
              "#0d0887"
             ],
             [
              0.1111111111111111,
              "#46039f"
             ],
             [
              0.2222222222222222,
              "#7201a8"
             ],
             [
              0.3333333333333333,
              "#9c179e"
             ],
             [
              0.4444444444444444,
              "#bd3786"
             ],
             [
              0.5555555555555556,
              "#d8576b"
             ],
             [
              0.6666666666666666,
              "#ed7953"
             ],
             [
              0.7777777777777778,
              "#fb9f3a"
             ],
             [
              0.8888888888888888,
              "#fdca26"
             ],
             [
              1,
              "#f0f921"
             ]
            ],
            "type": "contour"
           }
          ],
          "contourcarpet": [
           {
            "colorbar": {
             "outlinewidth": 0,
             "ticks": ""
            },
            "type": "contourcarpet"
           }
          ],
          "heatmap": [
           {
            "colorbar": {
             "outlinewidth": 0,
             "ticks": ""
            },
            "colorscale": [
             [
              0,
              "#0d0887"
             ],
             [
              0.1111111111111111,
              "#46039f"
             ],
             [
              0.2222222222222222,
              "#7201a8"
             ],
             [
              0.3333333333333333,
              "#9c179e"
             ],
             [
              0.4444444444444444,
              "#bd3786"
             ],
             [
              0.5555555555555556,
              "#d8576b"
             ],
             [
              0.6666666666666666,
              "#ed7953"
             ],
             [
              0.7777777777777778,
              "#fb9f3a"
             ],
             [
              0.8888888888888888,
              "#fdca26"
             ],
             [
              1,
              "#f0f921"
             ]
            ],
            "type": "heatmap"
           }
          ],
          "heatmapgl": [
           {
            "colorbar": {
             "outlinewidth": 0,
             "ticks": ""
            },
            "colorscale": [
             [
              0,
              "#0d0887"
             ],
             [
              0.1111111111111111,
              "#46039f"
             ],
             [
              0.2222222222222222,
              "#7201a8"
             ],
             [
              0.3333333333333333,
              "#9c179e"
             ],
             [
              0.4444444444444444,
              "#bd3786"
             ],
             [
              0.5555555555555556,
              "#d8576b"
             ],
             [
              0.6666666666666666,
              "#ed7953"
             ],
             [
              0.7777777777777778,
              "#fb9f3a"
             ],
             [
              0.8888888888888888,
              "#fdca26"
             ],
             [
              1,
              "#f0f921"
             ]
            ],
            "type": "heatmapgl"
           }
          ],
          "histogram": [
           {
            "marker": {
             "pattern": {
              "fillmode": "overlay",
              "size": 10,
              "solidity": 0.2
             }
            },
            "type": "histogram"
           }
          ],
          "histogram2d": [
           {
            "colorbar": {
             "outlinewidth": 0,
             "ticks": ""
            },
            "colorscale": [
             [
              0,
              "#0d0887"
             ],
             [
              0.1111111111111111,
              "#46039f"
             ],
             [
              0.2222222222222222,
              "#7201a8"
             ],
             [
              0.3333333333333333,
              "#9c179e"
             ],
             [
              0.4444444444444444,
              "#bd3786"
             ],
             [
              0.5555555555555556,
              "#d8576b"
             ],
             [
              0.6666666666666666,
              "#ed7953"
             ],
             [
              0.7777777777777778,
              "#fb9f3a"
             ],
             [
              0.8888888888888888,
              "#fdca26"
             ],
             [
              1,
              "#f0f921"
             ]
            ],
            "type": "histogram2d"
           }
          ],
          "histogram2dcontour": [
           {
            "colorbar": {
             "outlinewidth": 0,
             "ticks": ""
            },
            "colorscale": [
             [
              0,
              "#0d0887"
             ],
             [
              0.1111111111111111,
              "#46039f"
             ],
             [
              0.2222222222222222,
              "#7201a8"
             ],
             [
              0.3333333333333333,
              "#9c179e"
             ],
             [
              0.4444444444444444,
              "#bd3786"
             ],
             [
              0.5555555555555556,
              "#d8576b"
             ],
             [
              0.6666666666666666,
              "#ed7953"
             ],
             [
              0.7777777777777778,
              "#fb9f3a"
             ],
             [
              0.8888888888888888,
              "#fdca26"
             ],
             [
              1,
              "#f0f921"
             ]
            ],
            "type": "histogram2dcontour"
           }
          ],
          "mesh3d": [
           {
            "colorbar": {
             "outlinewidth": 0,
             "ticks": ""
            },
            "type": "mesh3d"
           }
          ],
          "parcoords": [
           {
            "line": {
             "colorbar": {
              "outlinewidth": 0,
              "ticks": ""
             }
            },
            "type": "parcoords"
           }
          ],
          "pie": [
           {
            "automargin": true,
            "type": "pie"
           }
          ],
          "scatter": [
           {
            "fillpattern": {
             "fillmode": "overlay",
             "size": 10,
             "solidity": 0.2
            },
            "type": "scatter"
           }
          ],
          "scatter3d": [
           {
            "line": {
             "colorbar": {
              "outlinewidth": 0,
              "ticks": ""
             }
            },
            "marker": {
             "colorbar": {
              "outlinewidth": 0,
              "ticks": ""
             }
            },
            "type": "scatter3d"
           }
          ],
          "scattercarpet": [
           {
            "marker": {
             "colorbar": {
              "outlinewidth": 0,
              "ticks": ""
             }
            },
            "type": "scattercarpet"
           }
          ],
          "scattergeo": [
           {
            "marker": {
             "colorbar": {
              "outlinewidth": 0,
              "ticks": ""
             }
            },
            "type": "scattergeo"
           }
          ],
          "scattergl": [
           {
            "marker": {
             "colorbar": {
              "outlinewidth": 0,
              "ticks": ""
             }
            },
            "type": "scattergl"
           }
          ],
          "scattermapbox": [
           {
            "marker": {
             "colorbar": {
              "outlinewidth": 0,
              "ticks": ""
             }
            },
            "type": "scattermapbox"
           }
          ],
          "scatterpolar": [
           {
            "marker": {
             "colorbar": {
              "outlinewidth": 0,
              "ticks": ""
             }
            },
            "type": "scatterpolar"
           }
          ],
          "scatterpolargl": [
           {
            "marker": {
             "colorbar": {
              "outlinewidth": 0,
              "ticks": ""
             }
            },
            "type": "scatterpolargl"
           }
          ],
          "scatterternary": [
           {
            "marker": {
             "colorbar": {
              "outlinewidth": 0,
              "ticks": ""
             }
            },
            "type": "scatterternary"
           }
          ],
          "surface": [
           {
            "colorbar": {
             "outlinewidth": 0,
             "ticks": ""
            },
            "colorscale": [
             [
              0,
              "#0d0887"
             ],
             [
              0.1111111111111111,
              "#46039f"
             ],
             [
              0.2222222222222222,
              "#7201a8"
             ],
             [
              0.3333333333333333,
              "#9c179e"
             ],
             [
              0.4444444444444444,
              "#bd3786"
             ],
             [
              0.5555555555555556,
              "#d8576b"
             ],
             [
              0.6666666666666666,
              "#ed7953"
             ],
             [
              0.7777777777777778,
              "#fb9f3a"
             ],
             [
              0.8888888888888888,
              "#fdca26"
             ],
             [
              1,
              "#f0f921"
             ]
            ],
            "type": "surface"
           }
          ],
          "table": [
           {
            "cells": {
             "fill": {
              "color": "#EBF0F8"
             },
             "line": {
              "color": "white"
             }
            },
            "header": {
             "fill": {
              "color": "#C8D4E3"
             },
             "line": {
              "color": "white"
             }
            },
            "type": "table"
           }
          ]
         },
         "layout": {
          "annotationdefaults": {
           "arrowcolor": "#2a3f5f",
           "arrowhead": 0,
           "arrowwidth": 1
          },
          "autotypenumbers": "strict",
          "coloraxis": {
           "colorbar": {
            "outlinewidth": 0,
            "ticks": ""
           }
          },
          "colorscale": {
           "diverging": [
            [
             0,
             "#8e0152"
            ],
            [
             0.1,
             "#c51b7d"
            ],
            [
             0.2,
             "#de77ae"
            ],
            [
             0.3,
             "#f1b6da"
            ],
            [
             0.4,
             "#fde0ef"
            ],
            [
             0.5,
             "#f7f7f7"
            ],
            [
             0.6,
             "#e6f5d0"
            ],
            [
             0.7,
             "#b8e186"
            ],
            [
             0.8,
             "#7fbc41"
            ],
            [
             0.9,
             "#4d9221"
            ],
            [
             1,
             "#276419"
            ]
           ],
           "sequential": [
            [
             0,
             "#0d0887"
            ],
            [
             0.1111111111111111,
             "#46039f"
            ],
            [
             0.2222222222222222,
             "#7201a8"
            ],
            [
             0.3333333333333333,
             "#9c179e"
            ],
            [
             0.4444444444444444,
             "#bd3786"
            ],
            [
             0.5555555555555556,
             "#d8576b"
            ],
            [
             0.6666666666666666,
             "#ed7953"
            ],
            [
             0.7777777777777778,
             "#fb9f3a"
            ],
            [
             0.8888888888888888,
             "#fdca26"
            ],
            [
             1,
             "#f0f921"
            ]
           ],
           "sequentialminus": [
            [
             0,
             "#0d0887"
            ],
            [
             0.1111111111111111,
             "#46039f"
            ],
            [
             0.2222222222222222,
             "#7201a8"
            ],
            [
             0.3333333333333333,
             "#9c179e"
            ],
            [
             0.4444444444444444,
             "#bd3786"
            ],
            [
             0.5555555555555556,
             "#d8576b"
            ],
            [
             0.6666666666666666,
             "#ed7953"
            ],
            [
             0.7777777777777778,
             "#fb9f3a"
            ],
            [
             0.8888888888888888,
             "#fdca26"
            ],
            [
             1,
             "#f0f921"
            ]
           ]
          },
          "colorway": [
           "#636efa",
           "#EF553B",
           "#00cc96",
           "#ab63fa",
           "#FFA15A",
           "#19d3f3",
           "#FF6692",
           "#B6E880",
           "#FF97FF",
           "#FECB52"
          ],
          "font": {
           "color": "#2a3f5f"
          },
          "geo": {
           "bgcolor": "white",
           "lakecolor": "white",
           "landcolor": "#E5ECF6",
           "showlakes": true,
           "showland": true,
           "subunitcolor": "white"
          },
          "hoverlabel": {
           "align": "left"
          },
          "hovermode": "closest",
          "mapbox": {
           "style": "light"
          },
          "paper_bgcolor": "white",
          "plot_bgcolor": "#E5ECF6",
          "polar": {
           "angularaxis": {
            "gridcolor": "white",
            "linecolor": "white",
            "ticks": ""
           },
           "bgcolor": "#E5ECF6",
           "radialaxis": {
            "gridcolor": "white",
            "linecolor": "white",
            "ticks": ""
           }
          },
          "scene": {
           "xaxis": {
            "backgroundcolor": "#E5ECF6",
            "gridcolor": "white",
            "gridwidth": 2,
            "linecolor": "white",
            "showbackground": true,
            "ticks": "",
            "zerolinecolor": "white"
           },
           "yaxis": {
            "backgroundcolor": "#E5ECF6",
            "gridcolor": "white",
            "gridwidth": 2,
            "linecolor": "white",
            "showbackground": true,
            "ticks": "",
            "zerolinecolor": "white"
           },
           "zaxis": {
            "backgroundcolor": "#E5ECF6",
            "gridcolor": "white",
            "gridwidth": 2,
            "linecolor": "white",
            "showbackground": true,
            "ticks": "",
            "zerolinecolor": "white"
           }
          },
          "shapedefaults": {
           "line": {
            "color": "#2a3f5f"
           }
          },
          "ternary": {
           "aaxis": {
            "gridcolor": "white",
            "linecolor": "white",
            "ticks": ""
           },
           "baxis": {
            "gridcolor": "white",
            "linecolor": "white",
            "ticks": ""
           },
           "bgcolor": "#E5ECF6",
           "caxis": {
            "gridcolor": "white",
            "linecolor": "white",
            "ticks": ""
           }
          },
          "title": {
           "x": 0.05
          },
          "xaxis": {
           "automargin": true,
           "gridcolor": "white",
           "linecolor": "white",
           "ticks": "",
           "title": {
            "standoff": 15
           },
           "zerolinecolor": "white",
           "zerolinewidth": 2
          },
          "yaxis": {
           "automargin": true,
           "gridcolor": "white",
           "linecolor": "white",
           "ticks": "",
           "title": {
            "standoff": 15
           },
           "zerolinecolor": "white",
           "zerolinewidth": 2
          }
         }
        },
        "xaxis": {
         "anchor": "y",
         "domain": [
          0,
          1
         ],
         "title": {
          "text": "probability_of_spacefaring"
         }
        },
        "yaxis": {
         "anchor": "x",
         "domain": [
          0,
          1
         ],
         "title": {
          "text": "fraction_of_space_colonised"
         },
         "type": "log"
        }
       }
      },
      "text/html": [
       "<div>                            <div id=\"9c3e42c7-b1c0-4923-a978-5afde63dcb37\" class=\"plotly-graph-div\" style=\"height:525px; width:100%;\"></div>            <script type=\"text/javascript\">                require([\"plotly\"], function(Plotly) {                    window.PLOTLYENV=window.PLOTLYENV || {};                                    if (document.getElementById(\"9c3e42c7-b1c0-4923-a978-5afde63dcb37\")) {                    Plotly.newPlot(                        \"9c3e42c7-b1c0-4923-a978-5afde63dcb37\",                        [{\"hovertemplate\":\"state=dormant<br>probability_of_spacefaring=%{x}<br>fraction_of_space_colonised=%{y}<extra></extra>\",\"legendgroup\":\"dormant\",\"marker\":{\"color\":\"#636efa\",\"symbol\":\"circle\"},\"mode\":\"markers\",\"name\":\"dormant\",\"orientation\":\"v\",\"showlegend\":true,\"x\":[0.24,0.08,0.16,0.04,0.2,0.0,0.28,0.12,0.24,0.04,0.28,0.16,0.12,0.0,0.08,0.2,0.24,0.28,0.08,0.04,0.0,0.12,0.2,0.16,0.24,0.08,0.0,0.28,0.04,0.12,0.16,0.2,0.24,0.0,0.28,0.04,0.08,0.12,0.16,0.2,0.25,0.01,0.29,0.05,0.09,0.13,0.17,0.21,0.25,0.01,0.29,0.05,0.09,0.13,0.17,0.21,0.25,0.01,0.29,0.05,0.09,0.13,0.17,0.21,0.25,0.01,0.29,0.05,0.09,0.13,0.17,0.21,0.25,0.01,0.29,0.05,0.13,0.17,0.09,0.21,0.26,0.02,0.3,0.06,0.14,0.18,0.1,0.22,0.26,0.02,0.3,0.06,0.14,0.18,0.22,0.1,0.26,0.02,0.3,0.06,0.14,0.18,0.22,0.1,0.26,0.02,0.06,0.14,0.18,0.22,0.1,0.26,0.02,0.3,0.06,0.14,0.18,0.22,0.1,0.27,0.03,0.31,0.07,0.15,0.19,0.23,0.11,0.27,0.03,0.31,0.07,0.15,0.19,0.23,0.11,0.27,0.03,0.31,0.07,0.15,0.19,0.23,0.11,0.27,0.03,0.07,0.15,0.19,0.23,0.11,0.27,0.03,0.07,0.31,0.15,0.19,0.23,0.11,0.4,0.32,0.32,0.44,0.36,0.33,0.33,0.48,0.33,0.34,0.41,0.37,0.34,0.34,0.39,0.39],\"xaxis\":\"x\",\"y\":[0.00036,5.6e-05,5.6e-05,5.6e-05,9.6e-05,5.6e-05,0.000248,5.6e-05,0.00056,5.6e-05,0.000128,0.000168,0.000128,5.6e-05,5.6e-05,0.000304,0.000432,0.003536,5.6e-05,5.6e-05,5.6e-05,0.000128,5.6e-05,5.6e-05,0.000128,5.6e-05,5.6e-05,0.000232,5.6e-05,9.6e-05,0.000312,0.000736,5.6e-05,5.6e-05,5.6e-05,5.6e-05,9.6e-05,5.6e-05,5.6e-05,0.00016,0.000168,5.6e-05,0.000352,9.6e-05,5.6e-05,0.000296,9.6e-05,9.6e-05,0.001824,5.6e-05,0.000224,5.6e-05,9.6e-05,5.6e-05,0.000232,0.000448,0.000232,5.6e-05,0.00088,0.000128,5.6e-05,0.000128,0.000456,0.001064,5.6e-05,5.6e-05,5.6e-05,5.6e-05,5.6e-05,5.6e-05,0.000288,0.00032,0.000216,5.6e-05,0.001,0.000128,0.000272,9.6e-05,5.6e-05,5.6e-05,0.000384,5.6e-05,0.000512,5.6e-05,5.6e-05,0.000152,5.6e-05,0.00016,0.001024,5.6e-05,0.00364,5.6e-05,0.000224,5.6e-05,0.000296,5.6e-05,0.000184,5.6e-05,0.000208,5.6e-05,5.6e-05,0.000192,0.00052,0.00016,0.000328,5.6e-05,9.6e-05,9.6e-05,9.6e-05,5.6e-05,5.6e-05,0.002536,5.6e-05,0.00032,5.6e-05,5.6e-05,5.6e-05,9.6e-05,5.6e-05,9.6e-05,5.6e-05,5.6e-05,5.6e-05,0.000208,0.00024,9.6e-05,0.000328,0.000272,5.6e-05,0.00116,5.6e-05,5.6e-05,9.6e-05,5.6e-05,0.000128,9.6e-05,5.6e-05,0.000368,0.000128,9.6e-05,0.000368,0.000224,0.000192,0.001024,5.6e-05,5.6e-05,5.6e-05,0.000128,5.6e-05,0.000128,0.00016,5.6e-05,9.6e-05,0.00148,9.6e-05,5.6e-05,0.000392,0.000136,5.6e-05,0.00116,5.6e-05,5.6e-05,5.6e-05,0.001664,0.000168,9.6e-05,0.000344,0.000192,5.6e-05,0.000128,9.6e-05,0.002712,0.000128,0.000128],\"yaxis\":\"y\",\"type\":\"scatter\"},{\"hovertemplate\":\"state=edge<br>probability_of_spacefaring=%{x}<br>fraction_of_space_colonised=%{y}<extra></extra>\",\"legendgroup\":\"edge\",\"marker\":{\"color\":\"#EF553B\",\"symbol\":\"circle\"},\"mode\":\"markers\",\"name\":\"edge\",\"orientation\":\"v\",\"showlegend\":true,\"x\":[0.3,0.31,0.36,0.44,0.32,0.48,0.4,0.52,0.36,0.56,0.6,0.44,0.48,0.36,0.52,0.56,0.4,0.6,0.32,0.33,0.4,0.48,0.44,0.56,0.52,0.36,0.6,0.48,0.4,0.44,0.56,0.37,0.52,0.33,0.6,0.41,0.45,0.37,0.56,0.52,0.49,0.41,0.37,0.6,0.34,0.45,0.49,0.57,0.53,0.61,0.45,0.57,0.37,0.41,0.34,0.53,0.49,0.61,0.38,0.45,0.41,0.57,0.49,0.53,0.35,0.38,0.42,0.45,0.61,0.35,0.49,0.53,0.57,0.38,0.35,0.46,0.42,0.5,0.61,0.38,0.35,0.42,0.46,0.57,0.53,0.38,0.5,0.61,0.42,0.35,0.58,0.46,0.54,0.5,0.39,0.42,0.62,0.64,0.54,0.58,0.46,0.5,0.39,0.43,0.64,0.58,0.62,0.46,0.54,0.43,0.5,0.58,0.47,0.39,0.64,0.54,0.62,0.51,0.43,0.47,0.68,0.62,0.54,0.58,0.51,0.64,0.43,0.47,0.68,0.43,0.59,0.55,0.64,0.62,0.51,0.47,0.59,0.55,0.68,0.72,0.51,0.63,0.65,0.47,0.55,0.59,0.68,0.51,0.72,0.65,0.63,0.76,0.55,0.59,0.72,0.8,0.63,0.65,0.68,0.76,0.55,0.59,0.63,0.72,0.69,0.8,0.76,0.65,0.84,0.88,0.72,0.8,0.63,0.69,0.65,0.76,0.84,0.88,0.8,0.73,0.69,0.92,0.66,0.76,0.84,0.69,0.88,0.8,0.73,0.66,0.92,0.77,0.84,0.69,0.88,0.73,0.81,0.66,0.92,0.77,0.84,0.7,0.66,0.81,0.88,0.73,0.92,0.77,0.85,0.81,0.7,0.89,0.66,0.73,0.92,0.77,0.7,0.85,0.81,0.67,0.89,0.74,0.77,0.93,0.7,0.85,0.67,0.81,0.89,0.74,0.78,0.93,0.7,0.67,0.85,0.82,0.78,0.74,0.89,0.93,0.71,0.67,0.85,0.82,0.74,0.78,0.89,0.93,0.71,0.86,0.67,0.82,0.9,0.78,0.74,0.93,0.71,0.86,0.82,0.96,0.9,0.75,0.78,0.94,0.71,0.86,0.82,0.96,0.75,0.9,0.79,0.94,0.71,0.86,0.83,0.75,0.96,0.9,0.79,0.86,0.94,0.96,0.83,0.75,0.9,0.79,0.94,0.87,0.96,0.91,0.83,0.79,0.75,0.87,0.94,0.91,0.97,0.87,0.83,0.79,0.91,0.95,0.87,0.97,0.83,0.91,0.95,0.87,0.97,0.91,0.95,0.97,0.95,0.97,0.95,0.98,0.98,0.98,0.98,0.98,0.99,0.99,0.99,0.99,0.99],\"xaxis\":\"x\",\"y\":[0.01272,0.046904,0.612232,0.87172,0.031272,0.901648,0.805,0.922472,0.52484,0.934096,0.945704,0.867032,0.902472,0.61076,0.921304,0.935792,0.806712,0.944912,0.017232,0.201184,0.806192,0.903752,0.87012,0.935168,0.920024,0.519832,0.944736,0.900072,0.80228,0.872528,0.934744,0.710032,0.921264,0.056664,0.945648,0.82872,0.879256,0.591648,0.935848,0.92044,0.906688,0.829672,0.716984,0.944,0.23764,0.877104,0.908968,0.938544,0.927352,0.945928,0.87712,0.938072,0.706112,0.821008,0.187792,0.923248,0.906864,0.94592,0.699944,0.876704,0.832328,0.938496,0.90592,0.925272,0.30688,0.741904,0.848016,0.87708,0.946296,0.437808,0.910656,0.924936,0.938208,0.751736,0.398152,0.888608,0.845664,0.911624,0.946792,0.737368,0.5444,0.841592,0.890544,0.938488,0.925512,0.743928,0.913904,0.947168,0.843952,0.55432,0.9404,0.885888,0.9312,0.912568,0.770512,0.843584,0.949016,0.95176,0.929144,0.939728,0.887424,0.913,0.784472,0.857144,0.952096,0.940864,0.948632,0.886768,0.929736,0.85476,0.911856,0.941656,0.893856,0.784384,0.951616,0.928768,0.948176,0.91972,0.861448,0.889776,0.959328,0.94736,0.929472,0.941648,0.918792,0.951568,0.86268,0.894952,0.957328,0.85724,0.941632,0.933216,0.951912,0.948824,0.918752,0.896632,0.942792,0.931944,0.958496,0.963136,0.920648,0.950864,0.954656,0.89116,0.931936,0.9432,0.95792,0.919928,0.963224,0.95292,0.949976,0.968576,0.931984,0.94304,0.96312,0.972824,0.95084,0.954368,0.958336,0.968808,0.930704,0.943344,0.950592,0.96488,0.959288,0.973608,0.967896,0.953928,0.977304,0.981976,0.963696,0.973608,0.950624,0.959312,0.954096,0.968744,0.977752,0.981992,0.973056,0.965328,0.960104,0.986712,0.955496,0.969056,0.977768,0.95928,0.981408,0.973592,0.964608,0.955736,0.98648,0.969968,0.977792,0.959136,0.981568,0.9648,0.973888,0.956392,0.986544,0.9696,0.977008,0.961776,0.955456,0.974112,0.982008,0.965672,0.986696,0.969464,0.978968,0.974384,0.961248,0.98292,0.95448,0.964576,0.986352,0.9706,0.961248,0.978864,0.974304,0.957016,0.983312,0.96612,0.969192,0.987768,0.960816,0.978184,0.956288,0.974184,0.982896,0.966152,0.971088,0.987344,0.961208,0.956776,0.979184,0.97524,0.970248,0.9658,0.983576,0.987552,0.96328,0.957096,0.979,0.9752,0.966696,0.970624,0.98336,0.987936,0.962344,0.979376,0.956744,0.975568,0.984688,0.970552,0.966312,0.98772,0.962088,0.979576,0.975552,0.99128,0.984184,0.967608,0.971504,0.988712,0.96208,0.979328,0.974864,0.99088,0.967808,0.984224,0.971784,0.988256,0.961568,0.979624,0.977264,0.967768,0.991136,0.984384,0.971104,0.979808,0.988488,0.99128,0.977,0.967584,0.984544,0.97168,0.988608,0.98104,0.9912,0.984872,0.975584,0.97244,0.967096,0.98068,0.989008,0.98536,0.991976,0.980632,0.976336,0.971848,0.985288,0.989856,0.980712,0.992088,0.976456,0.98568,0.989824,0.980368,0.992272,0.98492,0.989888,0.99184,0.989808,0.991992,0.989968,0.993136,0.993112,0.993144,0.993064,0.993024,0.99436,0.994208,0.994248,0.994144,0.994304],\"yaxis\":\"y\",\"type\":\"scatter\"},{\"hovertemplate\":\"state=expanding<br>probability_of_spacefaring=%{x}<br>fraction_of_space_colonised=%{y}<extra></extra>\",\"legendgroup\":\"expanding\",\"marker\":{\"color\":\"#00cc96\",\"symbol\":\"circle\"},\"mode\":\"markers\",\"name\":\"expanding\",\"orientation\":\"v\",\"showlegend\":true,\"x\":[0.32],\"xaxis\":\"x\",\"y\":[0.023752],\"yaxis\":\"y\",\"type\":\"scatter\"}],                        {\"template\":{\"data\":{\"histogram2dcontour\":[{\"type\":\"histogram2dcontour\",\"colorbar\":{\"outlinewidth\":0,\"ticks\":\"\"},\"colorscale\":[[0.0,\"#0d0887\"],[0.1111111111111111,\"#46039f\"],[0.2222222222222222,\"#7201a8\"],[0.3333333333333333,\"#9c179e\"],[0.4444444444444444,\"#bd3786\"],[0.5555555555555556,\"#d8576b\"],[0.6666666666666666,\"#ed7953\"],[0.7777777777777778,\"#fb9f3a\"],[0.8888888888888888,\"#fdca26\"],[1.0,\"#f0f921\"]]}],\"choropleth\":[{\"type\":\"choropleth\",\"colorbar\":{\"outlinewidth\":0,\"ticks\":\"\"}}],\"histogram2d\":[{\"type\":\"histogram2d\",\"colorbar\":{\"outlinewidth\":0,\"ticks\":\"\"},\"colorscale\":[[0.0,\"#0d0887\"],[0.1111111111111111,\"#46039f\"],[0.2222222222222222,\"#7201a8\"],[0.3333333333333333,\"#9c179e\"],[0.4444444444444444,\"#bd3786\"],[0.5555555555555556,\"#d8576b\"],[0.6666666666666666,\"#ed7953\"],[0.7777777777777778,\"#fb9f3a\"],[0.8888888888888888,\"#fdca26\"],[1.0,\"#f0f921\"]]}],\"heatmap\":[{\"type\":\"heatmap\",\"colorbar\":{\"outlinewidth\":0,\"ticks\":\"\"},\"colorscale\":[[0.0,\"#0d0887\"],[0.1111111111111111,\"#46039f\"],[0.2222222222222222,\"#7201a8\"],[0.3333333333333333,\"#9c179e\"],[0.4444444444444444,\"#bd3786\"],[0.5555555555555556,\"#d8576b\"],[0.6666666666666666,\"#ed7953\"],[0.7777777777777778,\"#fb9f3a\"],[0.8888888888888888,\"#fdca26\"],[1.0,\"#f0f921\"]]}],\"heatmapgl\":[{\"type\":\"heatmapgl\",\"colorbar\":{\"outlinewidth\":0,\"ticks\":\"\"},\"colorscale\":[[0.0,\"#0d0887\"],[0.1111111111111111,\"#46039f\"],[0.2222222222222222,\"#7201a8\"],[0.3333333333333333,\"#9c179e\"],[0.4444444444444444,\"#bd3786\"],[0.5555555555555556,\"#d8576b\"],[0.6666666666666666,\"#ed7953\"],[0.7777777777777778,\"#fb9f3a\"],[0.8888888888888888,\"#fdca26\"],[1.0,\"#f0f921\"]]}],\"contourcarpet\":[{\"type\":\"contourcarpet\",\"colorbar\":{\"outlinewidth\":0,\"ticks\":\"\"}}],\"contour\":[{\"type\":\"contour\",\"colorbar\":{\"outlinewidth\":0,\"ticks\":\"\"},\"colorscale\":[[0.0,\"#0d0887\"],[0.1111111111111111,\"#46039f\"],[0.2222222222222222,\"#7201a8\"],[0.3333333333333333,\"#9c179e\"],[0.4444444444444444,\"#bd3786\"],[0.5555555555555556,\"#d8576b\"],[0.6666666666666666,\"#ed7953\"],[0.7777777777777778,\"#fb9f3a\"],[0.8888888888888888,\"#fdca26\"],[1.0,\"#f0f921\"]]}],\"surface\":[{\"type\":\"surface\",\"colorbar\":{\"outlinewidth\":0,\"ticks\":\"\"},\"colorscale\":[[0.0,\"#0d0887\"],[0.1111111111111111,\"#46039f\"],[0.2222222222222222,\"#7201a8\"],[0.3333333333333333,\"#9c179e\"],[0.4444444444444444,\"#bd3786\"],[0.5555555555555556,\"#d8576b\"],[0.6666666666666666,\"#ed7953\"],[0.7777777777777778,\"#fb9f3a\"],[0.8888888888888888,\"#fdca26\"],[1.0,\"#f0f921\"]]}],\"mesh3d\":[{\"type\":\"mesh3d\",\"colorbar\":{\"outlinewidth\":0,\"ticks\":\"\"}}],\"scatter\":[{\"fillpattern\":{\"fillmode\":\"overlay\",\"size\":10,\"solidity\":0.2},\"type\":\"scatter\"}],\"parcoords\":[{\"type\":\"parcoords\",\"line\":{\"colorbar\":{\"outlinewidth\":0,\"ticks\":\"\"}}}],\"scatterpolargl\":[{\"type\":\"scatterpolargl\",\"marker\":{\"colorbar\":{\"outlinewidth\":0,\"ticks\":\"\"}}}],\"bar\":[{\"error_x\":{\"color\":\"#2a3f5f\"},\"error_y\":{\"color\":\"#2a3f5f\"},\"marker\":{\"line\":{\"color\":\"#E5ECF6\",\"width\":0.5},\"pattern\":{\"fillmode\":\"overlay\",\"size\":10,\"solidity\":0.2}},\"type\":\"bar\"}],\"scattergeo\":[{\"type\":\"scattergeo\",\"marker\":{\"colorbar\":{\"outlinewidth\":0,\"ticks\":\"\"}}}],\"scatterpolar\":[{\"type\":\"scatterpolar\",\"marker\":{\"colorbar\":{\"outlinewidth\":0,\"ticks\":\"\"}}}],\"histogram\":[{\"marker\":{\"pattern\":{\"fillmode\":\"overlay\",\"size\":10,\"solidity\":0.2}},\"type\":\"histogram\"}],\"scattergl\":[{\"type\":\"scattergl\",\"marker\":{\"colorbar\":{\"outlinewidth\":0,\"ticks\":\"\"}}}],\"scatter3d\":[{\"type\":\"scatter3d\",\"line\":{\"colorbar\":{\"outlinewidth\":0,\"ticks\":\"\"}},\"marker\":{\"colorbar\":{\"outlinewidth\":0,\"ticks\":\"\"}}}],\"scattermapbox\":[{\"type\":\"scattermapbox\",\"marker\":{\"colorbar\":{\"outlinewidth\":0,\"ticks\":\"\"}}}],\"scatterternary\":[{\"type\":\"scatterternary\",\"marker\":{\"colorbar\":{\"outlinewidth\":0,\"ticks\":\"\"}}}],\"scattercarpet\":[{\"type\":\"scattercarpet\",\"marker\":{\"colorbar\":{\"outlinewidth\":0,\"ticks\":\"\"}}}],\"carpet\":[{\"aaxis\":{\"endlinecolor\":\"#2a3f5f\",\"gridcolor\":\"white\",\"linecolor\":\"white\",\"minorgridcolor\":\"white\",\"startlinecolor\":\"#2a3f5f\"},\"baxis\":{\"endlinecolor\":\"#2a3f5f\",\"gridcolor\":\"white\",\"linecolor\":\"white\",\"minorgridcolor\":\"white\",\"startlinecolor\":\"#2a3f5f\"},\"type\":\"carpet\"}],\"table\":[{\"cells\":{\"fill\":{\"color\":\"#EBF0F8\"},\"line\":{\"color\":\"white\"}},\"header\":{\"fill\":{\"color\":\"#C8D4E3\"},\"line\":{\"color\":\"white\"}},\"type\":\"table\"}],\"barpolar\":[{\"marker\":{\"line\":{\"color\":\"#E5ECF6\",\"width\":0.5},\"pattern\":{\"fillmode\":\"overlay\",\"size\":10,\"solidity\":0.2}},\"type\":\"barpolar\"}],\"pie\":[{\"automargin\":true,\"type\":\"pie\"}]},\"layout\":{\"autotypenumbers\":\"strict\",\"colorway\":[\"#636efa\",\"#EF553B\",\"#00cc96\",\"#ab63fa\",\"#FFA15A\",\"#19d3f3\",\"#FF6692\",\"#B6E880\",\"#FF97FF\",\"#FECB52\"],\"font\":{\"color\":\"#2a3f5f\"},\"hovermode\":\"closest\",\"hoverlabel\":{\"align\":\"left\"},\"paper_bgcolor\":\"white\",\"plot_bgcolor\":\"#E5ECF6\",\"polar\":{\"bgcolor\":\"#E5ECF6\",\"angularaxis\":{\"gridcolor\":\"white\",\"linecolor\":\"white\",\"ticks\":\"\"},\"radialaxis\":{\"gridcolor\":\"white\",\"linecolor\":\"white\",\"ticks\":\"\"}},\"ternary\":{\"bgcolor\":\"#E5ECF6\",\"aaxis\":{\"gridcolor\":\"white\",\"linecolor\":\"white\",\"ticks\":\"\"},\"baxis\":{\"gridcolor\":\"white\",\"linecolor\":\"white\",\"ticks\":\"\"},\"caxis\":{\"gridcolor\":\"white\",\"linecolor\":\"white\",\"ticks\":\"\"}},\"coloraxis\":{\"colorbar\":{\"outlinewidth\":0,\"ticks\":\"\"}},\"colorscale\":{\"sequential\":[[0.0,\"#0d0887\"],[0.1111111111111111,\"#46039f\"],[0.2222222222222222,\"#7201a8\"],[0.3333333333333333,\"#9c179e\"],[0.4444444444444444,\"#bd3786\"],[0.5555555555555556,\"#d8576b\"],[0.6666666666666666,\"#ed7953\"],[0.7777777777777778,\"#fb9f3a\"],[0.8888888888888888,\"#fdca26\"],[1.0,\"#f0f921\"]],\"sequentialminus\":[[0.0,\"#0d0887\"],[0.1111111111111111,\"#46039f\"],[0.2222222222222222,\"#7201a8\"],[0.3333333333333333,\"#9c179e\"],[0.4444444444444444,\"#bd3786\"],[0.5555555555555556,\"#d8576b\"],[0.6666666666666666,\"#ed7953\"],[0.7777777777777778,\"#fb9f3a\"],[0.8888888888888888,\"#fdca26\"],[1.0,\"#f0f921\"]],\"diverging\":[[0,\"#8e0152\"],[0.1,\"#c51b7d\"],[0.2,\"#de77ae\"],[0.3,\"#f1b6da\"],[0.4,\"#fde0ef\"],[0.5,\"#f7f7f7\"],[0.6,\"#e6f5d0\"],[0.7,\"#b8e186\"],[0.8,\"#7fbc41\"],[0.9,\"#4d9221\"],[1,\"#276419\"]]},\"xaxis\":{\"gridcolor\":\"white\",\"linecolor\":\"white\",\"ticks\":\"\",\"title\":{\"standoff\":15},\"zerolinecolor\":\"white\",\"automargin\":true,\"zerolinewidth\":2},\"yaxis\":{\"gridcolor\":\"white\",\"linecolor\":\"white\",\"ticks\":\"\",\"title\":{\"standoff\":15},\"zerolinecolor\":\"white\",\"automargin\":true,\"zerolinewidth\":2},\"scene\":{\"xaxis\":{\"backgroundcolor\":\"#E5ECF6\",\"gridcolor\":\"white\",\"linecolor\":\"white\",\"showbackground\":true,\"ticks\":\"\",\"zerolinecolor\":\"white\",\"gridwidth\":2},\"yaxis\":{\"backgroundcolor\":\"#E5ECF6\",\"gridcolor\":\"white\",\"linecolor\":\"white\",\"showbackground\":true,\"ticks\":\"\",\"zerolinecolor\":\"white\",\"gridwidth\":2},\"zaxis\":{\"backgroundcolor\":\"#E5ECF6\",\"gridcolor\":\"white\",\"linecolor\":\"white\",\"showbackground\":true,\"ticks\":\"\",\"zerolinecolor\":\"white\",\"gridwidth\":2}},\"shapedefaults\":{\"line\":{\"color\":\"#2a3f5f\"}},\"annotationdefaults\":{\"arrowcolor\":\"#2a3f5f\",\"arrowhead\":0,\"arrowwidth\":1},\"geo\":{\"bgcolor\":\"white\",\"landcolor\":\"#E5ECF6\",\"subunitcolor\":\"white\",\"showland\":true,\"showlakes\":true,\"lakecolor\":\"white\"},\"title\":{\"x\":0.05},\"mapbox\":{\"style\":\"light\"}}},\"xaxis\":{\"anchor\":\"y\",\"domain\":[0.0,1.0],\"title\":{\"text\":\"probability_of_spacefaring\"}},\"yaxis\":{\"anchor\":\"x\",\"domain\":[0.0,1.0],\"title\":{\"text\":\"fraction_of_space_colonised\"},\"type\":\"log\"},\"legend\":{\"title\":{\"text\":\"state\"},\"tracegroupgap\":0},\"margin\":{\"t\":60}},                        {\"responsive\": true}                    ).then(function(){\n",
       "                            \n",
       "var gd = document.getElementById('9c3e42c7-b1c0-4923-a978-5afde63dcb37');\n",
       "var x = new MutationObserver(function (mutations, observer) {{\n",
       "        var display = window.getComputedStyle(gd).display;\n",
       "        if (!display || display === 'none') {{\n",
       "            console.log([gd, 'removed!']);\n",
       "            Plotly.purge(gd);\n",
       "            observer.disconnect();\n",
       "        }}\n",
       "}});\n",
       "\n",
       "// Listen for the removal of the full notebook cells\n",
       "var notebookContainer = gd.closest('#notebook-container');\n",
       "if (notebookContainer) {{\n",
       "    x.observe(notebookContainer, {childList: true});\n",
       "}}\n",
       "\n",
       "// Listen for the clearing of the current output cell\n",
       "var outputEl = gd.closest('.output');\n",
       "if (outputEl) {{\n",
       "    x.observe(outputEl, {childList: true});\n",
       "}}\n",
       "\n",
       "                        })                };                });            </script>        </div>"
      ]
     },
     "metadata": {},
     "output_type": "display_data"
    }
   ],
   "source": [
    "fig = px.scatter(df, x=\"probability_of_spacefaring\", y=\"fraction_of_space_colonised\", color=\"state\",log_y=True)\n",
    "fig.show()"
   ]
  },
  {
   "cell_type": "code",
   "execution_count": null,
   "metadata": {},
   "outputs": [],
   "source": []
  }
 ],
 "metadata": {
  "colab": {
   "provenance": []
  },
  "kernelspec": {
   "display_name": "Python 3 (ipykernel)",
   "language": "python",
   "name": "python3"
  },
  "language_info": {
   "codemirror_mode": {
    "name": "ipython",
    "version": 3
   },
   "file_extension": ".py",
   "mimetype": "text/x-python",
   "name": "python",
   "nbconvert_exporter": "python",
   "pygments_lexer": "ipython3",
   "version": "3.10.6"
  }
 },
 "nbformat": 4,
 "nbformat_minor": 1
}
