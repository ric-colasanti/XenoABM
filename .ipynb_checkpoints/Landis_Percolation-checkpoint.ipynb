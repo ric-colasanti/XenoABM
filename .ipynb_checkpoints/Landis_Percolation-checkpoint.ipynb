{
 "cells": [
  {
   "cell_type": "code",
   "execution_count": 1,
   "metadata": {
    "id": "3Bxw47Bbuy2u"
   },
   "outputs": [],
   "source": [
    "import numpy as np\n",
    "import random as rnd\n",
    "import matplotlib.pyplot as plt\n",
    "from mpl_toolkits import mplot3d\n",
    "from IPython.display import display, clear_output\n",
    "# import ipywidgets.interact class, this class will represent a slide bar.\n",
    "from ipywidgets import interact\n",
    "from matplotlib.colors import LinearSegmentedColormap"
   ]
  },
  {
   "cell_type": "markdown",
   "metadata": {
    "id": "Pxrkf-qw4rle"
   },
   "source": [
    "From:\n",
    "\n",
    "[Landis, Geoffrey A. \"The Fermi paradox: an approach based on percolation theory.\" Journal of the british interplanetary society 51.5 (1998): 163-166](http://www.geoffreylandis.com/percolation.htp)\n",
    "\n",
    "\n",
    "Space is a 3D grid. each cell of the grid ( a sector) is linked to its 6 immediate Von Numan neighbours. Each sector can be in one of three states:\n",
    " \n",
    "1: Uncolonized\n",
    " \n",
    "2: Colonised by colonising colony\n",
    " \n",
    "3: Colonised by a non colonising colony\n",
    "\n",
    "Algorithm:\n",
    " \n",
    "Each colonising colony searches its 6 immediate sectors for an uncolonized sector. If one is found then it is colonised with a colonising colony with a probability of p and a a non colonising colony with a probability 1-p\n"
   ]
  },
  {
   "cell_type": "markdown",
   "metadata": {
    "id": "kxDa3Soh8czS"
   },
   "source": [
    "\n",
    "Sector class\n",
    "\n",
    "This is a unit of 3d space\n",
    "\n",
    "It contains a state and a link to its 6 imediate neighbours\n",
    "\n",
    "Attributes\n",
    "\n",
    "            colonized -> int\n",
    "\n",
    "            x_pos ->int\n",
    "\n",
    "            y_pos ->int\n",
    "\n",
    "            z_pos ->int\n",
    "\n",
    "            neighbours-> list of Space\n",
    "\n",
    "            capasity -> boolean # if there are no empty neighbours\n",
    "\n",
    "Methods\n",
    "\n",
    "            add_neighbour\n",
    "\n",
    "            colonize\n",
    "\n",
    "            get_pos -> x,y,z\n"
   ]
  },
  {
   "cell_type": "code",
   "execution_count": 2,
   "metadata": {
    "id": "9SfGZGDF8y6K"
   },
   "outputs": [],
   "source": [
    "class Sector:\n",
    "    colinising = 0.5\n",
    "    def __init__(self,x_pos,y_pos,z_pos):\n",
    "        self.id = str(x_pos)+\":\"+str(y_pos)+\":\"+str(z_pos)\n",
    "        self.x_pos = x_pos\n",
    "        self.y_pos = y_pos\n",
    "        self.z_pos = z_pos\n",
    "        self.neighbours =[]\n",
    "        self.colonized=0\n",
    "\n",
    "    def add_neighbour(self,sector):\n",
    "        self.neighbours.append(sector)\n",
    "\n",
    "    def colonize(self):\n",
    "        if len(self.neighbours)>0:\n",
    "            sector = rnd.choice(self.neighbours)\n",
    "            while sector.colonized>0 and len(self.neighbours)>0:\n",
    "                self.neighbours.remove(sector)\n",
    "                if len(self.neighbours)>0:\n",
    "                    sector = rnd.choice(self.neighbours)\n",
    "                else:\n",
    "                    return False, False\n",
    "            if rnd.random()<Sector.colinising:\n",
    "                sector.colonized=1\n",
    "            else:\n",
    "                sector.colonized=2\n",
    "            self.neighbours.remove(sector)\n",
    "            return sector,len(self.neighbours)>0\n",
    "        else:\n",
    "             return False,False\n",
    "\n",
    "    def get_pos(self):\n",
    "        return self.x_pos,self.y_pos,self.z_pos,self.colonized\n",
    "\n",
    "        "
   ]
  },
  {
   "cell_type": "markdown",
   "metadata": {
    "id": "MRcK_zUS8qGU"
   },
   "source": [
    "Space class\n",
    "\n",
    "\n",
    "Attributes\n",
    "\n",
    "            size -> int\n",
    "            \n",
    "            colonies -> list of Space\n",
    "\n",
    "            space_faring -> list of Space\n",
    "\n",
    "            space_chart ->list of np lists (x,y,z,c)\n",
    "\n",
    "\n",
    "Methods\n",
    "\n",
    "            init_space\n",
    "\n",
    "            iterate\n",
    "\n",
    "            plot\n"
   ]
  },
  {
   "cell_type": "code",
   "execution_count": 3,
   "metadata": {
    "id": "Fqo8byi_5AE0"
   },
   "outputs": [],
   "source": [
    "from itertools import starmap\n",
    "class Space:\n",
    "    def __init__(self,size) -> None:\n",
    "        def bounds(v):\n",
    "            if v>=size: \n",
    "                return False\n",
    "            if v<0:\n",
    "                return False\n",
    "            return True\n",
    "            \n",
    "        self.size = size\n",
    "        # crate sectors and link in network\n",
    "        temp_space=[]\n",
    "        for x in range(size):\n",
    "            temp_space.append([])\n",
    "            for y in range(size):\n",
    "                temp_space[x].append([])\n",
    "                for z in range(size):\n",
    "                    temp_space[x][y].append(Sector(x,y,z))\n",
    "        for x in range(1,size-1):\n",
    "            for y in range(1,size-1):\n",
    "                for z in range(1,size-1):\n",
    "                    temp_space[x][y][z].add_neighbour(temp_space[x-1][y][z]) \n",
    "                    temp_space[x][y][z].add_neighbour(temp_space[x+1][y][z]) \n",
    "                    temp_space[x][y][z].add_neighbour(temp_space[x][y-1][z]) \n",
    "                    temp_space[x][y][z].add_neighbour(temp_space[x][y+1][z]) \n",
    "                    temp_space[x][y][z].add_neighbour(temp_space[x][y][z-1]) \n",
    "                    temp_space[x][y][z].add_neighbour(temp_space[x][y][z+1]) \n",
    "        \n",
    "        home_world = temp_space[x//2][y//2][z//2] \n",
    "        self.colonies = [home_world]\n",
    "        self.space_faring = [home_world]\n",
    "        x,y,z,c = home_world.get_pos()\n",
    "        self.star_map = [np.array([x]),np.array([y]),np.array([z]),np.array([c])]\n",
    "\n",
    "    def iterate(self):\n",
    "        \n",
    "        new_worlds = []\n",
    "        settled = []\n",
    "\n",
    "        for c in self.space_faring:\n",
    "            new_world,colony = c.colonize()\n",
    "            if new_world != False:\n",
    "                self.colonies.append(new_world)\n",
    "                x,y,z,c = new_world.get_pos()\n",
    "                self.star_map[0] = np.append(self.star_map[0],x)\n",
    "                self.star_map[1] = np.append(self.star_map[1],y)\n",
    "                self.star_map[2] = np.append(self.star_map[2],z)\n",
    "                self.star_map[3] = np.append(self.star_map[3],c)\n",
    "                if new_world.colonized==1:\n",
    "                    new_worlds.append(new_world)\n",
    "\n",
    "\n",
    "\n",
    "        for n in new_worlds:\n",
    "            self.space_faring.append(n)\n",
    "\n",
    "                    \n",
    "    "
   ]
  },
  {
   "cell_type": "code",
   "execution_count": 4,
   "metadata": {
    "id": "H9-sUy3mJNPC"
   },
   "outputs": [],
   "source": [
    "def plot(data,size):\n",
    "    fig = plt.figure(figsize=(20, 20))\n",
    "    # syntax for 3-D projection\n",
    "    ax = plt.axes(projection ='3d')\n",
    "    # defining axes\n",
    "    cmap = LinearSegmentedColormap.from_list('mycmap', ['red', 'blue'])\n",
    "    ax.scatter(data[0],data[1],data[2], c = data[3],cmap=cmap,s =0.5 )\n",
    "    # syntax for plotting\n",
    "    ax.set_title('Space')\n",
    "    #plt.axis('off')\n",
    "    ax.set_xlim3d(0,size)\n",
    "    ax.set_ylim3d(0,size)\n",
    "    ax.set_zlim3d(0,size)\n",
    " \n",
    "    plt.show()"
   ]
  },
  {
   "cell_type": "code",
   "execution_count": null,
   "metadata": {
    "id": "cWQ4sZSf8VVl"
   },
   "outputs": [],
   "source": [
    "Sector.colinising=0.4\n",
    "exp = Space(100)\n",
    "for _ in range(200):\n",
    "    exp.iterate()\n",
    "plot(exp.star_map,100)\n"
   ]
  },
  {
   "cell_type": "code",
   "execution_count": null,
   "metadata": {
    "id": "_1B9axyhJ3ab"
   },
   "outputs": [],
   "source": []
  }
 ],
 "metadata": {
  "colab": {
   "provenance": []
  },
  "kernelspec": {
   "display_name": "Python 3 (ipykernel)",
   "language": "python",
   "name": "python3"
  },
  "language_info": {
   "codemirror_mode": {
    "name": "ipython",
    "version": 3
   },
   "file_extension": ".py",
   "mimetype": "text/x-python",
   "name": "python",
   "nbconvert_exporter": "python",
   "pygments_lexer": "ipython3",
   "version": "3.10.6"
  }
 },
 "nbformat": 4,
 "nbformat_minor": 1
}
