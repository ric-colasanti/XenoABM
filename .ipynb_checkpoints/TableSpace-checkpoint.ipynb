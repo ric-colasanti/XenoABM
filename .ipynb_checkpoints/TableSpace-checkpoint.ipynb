{
 "cells": [
  {
   "cell_type": "code",
   "execution_count": 1,
   "metadata": {
    "id": "f2muJW4udNFz"
   },
   "outputs": [],
   "source": [
    "import random as rnd\n",
    "import plotly.express as px\n",
    "import pandas as pd\n",
    "import numpy as np"
   ]
  },
  {
   "cell_type": "code",
   "execution_count": 2,
   "metadata": {
    "id": "ATWB9Qo1Km5k"
   },
   "outputs": [],
   "source": [
    "class Sector:\n",
    "    colinising = 0.3253\n",
    "    size = 200\n",
    "    types=[\"empty\",\"spacefaring\",\"non_spacefaring\"]\n",
    "    @classmethod\n",
    "    def id(cls,x,y,z):\n",
    "        return  x+(y*Sector.size)+(z*Sector.size*Sector.size)\n",
    "    \n",
    "    @classmethod\n",
    "    def cordinates(cls,id):\n",
    "        z = id // (Sector.size*Sector.size)\n",
    "        y = (id-z*Sector.size*Sector.size) // Sector.size\n",
    "        x = id-z*Sector.size*Sector.size-y*Sector.size\n",
    "        return x,y,z\n",
    "\n",
    "    def __init__(self,x,y,z,space) -> None:\n",
    "        def add_neighbour(i,x,y,z,space,neighbours):\n",
    "            dx=[-1,1,0,0,0,0]\n",
    "            dy=[0,0,-1,1,0,0]\n",
    "            dz=[0,0,0,0,-1,1]\n",
    "            id = Sector.id(x+dx[i],y+dy[i],z+dz[i])\n",
    "            if id not in space:\n",
    "                neighbours.append(id)\n",
    "\n",
    "        self.id = Sector.id(x,y,z)\n",
    "        self.x = x+ 0.5-rnd.random()\n",
    "        self.y = y+ 0.5-rnd.random()\n",
    "        self.z = z+ 0.5-rnd.random()\n",
    "        self.colonized=0\n",
    "        self.neighbours = []\n",
    "        self.linked_to = []\n",
    "        for i in range(6):\n",
    "            add_neighbour(i,x,y,z,space,self.neighbours) \n",
    "        space[self.id] =self\n",
    "    \n",
    "    def get_cords(self):\n",
    "        return[self.x,self.y,self.z,Sector.types[self.colonized]]\n",
    "\n",
    "    def colonize(self,space):\n",
    "        if self.colonized==1 and  len(self.neighbours)>0:\n",
    "            while (sector := rnd.choice(self.neighbours)) in space and len(self.neighbours)>0:\n",
    "                self.neighbours.remove(sector)\n",
    "                if len(self.neighbours)==0:\n",
    "                    return False\n",
    "            \n",
    "            x,y,z = Sector.cordinates(sector)\n",
    "            new_sector = Sector(x,y,z,space)\n",
    "            if rnd.random()<Sector.colinising:\n",
    "                new_sector.colonized=1\n",
    "            else:\n",
    "                new_sector.colonized=2\n",
    "            self.neighbours.remove(sector)\n",
    "            return new_sector\n",
    "        else:\n",
    "             return False\n"
   ]
  },
  {
   "cell_type": "code",
   "execution_count": null,
   "metadata": {
    "id": "4jNJ72vAcK5Q"
   },
   "outputs": [],
   "source": [
    "size=100\n",
    "seed = rnd.randrange(1000000)\n",
    "#seed=524290\n",
    "Sector.colinising = 0.6\n",
    "Sector.size = 500\n",
    "rnd.seed(seed)\n",
    "space={}\n",
    "cols=[]\n",
    "s = Sector(100,100,100,space)\n",
    "s.colonized = 1\n",
    "cols.append(s)\n",
    "for t in range(200):\n",
    "    h=[]\n",
    "    for c in cols:\n",
    "        if(n:=c.colonize(space)):\n",
    "            h.append(n)\n",
    "    cols.extend(h)\n",
    "star_map=[]\n",
    "for c in cols:\n",
    "    star_map.append(c.get_cords())\n",
    "\n",
    "print(\"done\")\n",
    "\n",
    "df = pd.DataFrame(star_map, columns=['x','y','z','colony_type'])\n",
    "\n",
    "fig = px.scatter_3d(df, x='x', y='y', z='z', color='colony_type',color_discrete_sequence=[\"maroon\", \"goldenrod\",\"green\"] ,title=\"Star map\", width=800, height=800)\n",
    "fig.update_traces(hoverinfo=\"skip\",marker_size =2)\n",
    "   \n",
    "fig.update_layout(scene=dict(xaxis_showspikes=False,\n",
    "                             yaxis_showspikes=False,\n",
    "                             zaxis_showspikes=False,\n",
    "                             xaxis = dict(nticks=10, range=[0,Sector.size]),\n",
    "                             yaxis = dict(nticks=10, range=[0,Sector.size]),\n",
    "                             zaxis = dict(nticks=10, range=[0,Sector.size]),\n",
    "                             ))\n"
   ]
  },
  {
   "cell_type": "code",
   "execution_count": null,
   "metadata": {
    "colab": {
     "base_uri": "https://localhost:8080/"
    },
    "id": "8vApog6GgMjT",
    "outputId": "45dda393-8a8a-4d6a-9b0b-27de98a4bdd9"
   },
   "outputs": [],
   "source": [
    "print(\"Seed was:\", seed)"
   ]
  },
  {
   "cell_type": "code",
   "execution_count": null,
   "metadata": {
    "id": "ZTt8OKz1ckN5"
   },
   "outputs": [],
   "source": []
  }
 ],
 "metadata": {
  "colab": {
   "provenance": []
  },
  "kernelspec": {
   "display_name": "Python 3 (ipykernel)",
   "language": "python",
   "name": "python3"
  },
  "language_info": {
   "codemirror_mode": {
    "name": "ipython",
    "version": 3
   },
   "file_extension": ".py",
   "mimetype": "text/x-python",
   "name": "python",
   "nbconvert_exporter": "python",
   "pygments_lexer": "ipython3",
   "version": "3.10.6"
  }
 },
 "nbformat": 4,
 "nbformat_minor": 1
}
